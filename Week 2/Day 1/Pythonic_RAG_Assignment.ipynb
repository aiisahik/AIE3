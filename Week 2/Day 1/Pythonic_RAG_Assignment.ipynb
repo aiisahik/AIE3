{
  "cells": [
    {
      "cell_type": "markdown",
      "metadata": {
        "id": "lElF3o5PR6ys"
      },
      "source": [
        "# Your First RAG Application\n",
        "\n",
        "In this notebook, we'll walk you through each of the components that are involved in a simple RAG application.\n",
        "\n",
        "We won't be leveraging any fancy tools, just the OpenAI Python SDK, Numpy, and some classic Python.\n",
        "\n",
        "> NOTE: This was done with Python 3.11.4.\n",
        "\n",
        "> NOTE: There might be [compatibility issues](https://github.com/wandb/wandb/issues/7683) if you're on NVIDIA driver >552.44 As an interim solution - you can rollback your drivers to the 552.44."
      ]
    },
    {
      "cell_type": "markdown",
      "metadata": {
        "id": "5CtcL8P8R6yt"
      },
      "source": [
        "## Table of Contents:\n",
        "\n",
        "- Task 1: Imports and Utilities\n",
        "- Task 2: Documents\n",
        "- Task 3: Embeddings and Vectors\n",
        "- Task 4: Prompts\n",
        "- Task 5: Retrieval Augmented Generation\n",
        "  - 🚧 Activity #1: Augment RAG\n",
        "- Task 6: Visibility Tooling\n",
        "- Task 7: RAG Evaluation Using GPT-4"
      ]
    },
    {
      "cell_type": "markdown",
      "metadata": {
        "id": "1Dz6GYilR6yt"
      },
      "source": [
        "Let's look at a rather complicated looking visual representation of a basic RAG application.\n",
        "\n",
        "<img src=\"https://i.imgur.com/PvlaIUO.png\" />"
      ]
    },
    {
      "cell_type": "markdown",
      "metadata": {
        "id": "PjmC0KFtR6yt"
      },
      "source": [
        "## Task 1: Imports and Utility\n",
        "\n",
        "We're just doing some imports and enabling `async` to work within the Jupyter environment here, nothing too crazy!"
      ]
    },
    {
      "cell_type": "code",
      "execution_count": 1,
      "metadata": {
        "colab": {
          "base_uri": "https://localhost:8080/"
        },
        "id": "H7VEzqziR6yt",
        "outputId": "f873dd3b-55a0-4e00-ecf4-e2a0fe3af327"
      },
      "outputs": [],
      "source": [
        "!pip install -qU numpy matplotlib plotly pandas scipy scikit-learn openai python-dotenv"
      ]
    },
    {
      "cell_type": "code",
      "execution_count": 2,
      "metadata": {
        "id": "Z1dyrG4hR6yt"
      },
      "outputs": [],
      "source": [
        "from aimakerspace.text_utils import TextFileLoader, CharacterTextSplitter\n",
        "# from aimakerspace.vectordatabase import VectorDatabase\n",
        "import asyncio"
      ]
    },
    {
      "cell_type": "code",
      "execution_count": 2,
      "metadata": {
        "id": "9OrFZRnER6yt"
      },
      "outputs": [],
      "source": [
        "import nest_asyncio\n",
        "nest_asyncio.apply()"
      ]
    },
    {
      "cell_type": "markdown",
      "metadata": {
        "id": "M0jGnpQsR6yu"
      },
      "source": [
        "## Task 2: Documents\n",
        "\n",
        "We'll be concerning ourselves with this part of the flow in the following section:\n",
        "\n",
        "<img src=\"https://i.imgur.com/jTm9gjk.png\" />"
      ]
    },
    {
      "cell_type": "markdown",
      "metadata": {
        "id": "-SFPWvRUR6yu"
      },
      "source": [
        "### Loading Source Documents\n",
        "\n",
        "So, first things first, we need some documents to work with.\n",
        "\n",
        "While we could work directly with the `.txt` files (or whatever file-types you wanted to extend this to) we can instead do some batch processing of those documents at the beginning in order to store them in a more machine compatible format.\n",
        "\n",
        "In this case, we're going to parse our text file into a single document in memory.\n",
        "\n",
        "Let's look at the relevant bits of the `TextFileLoader` class:\n",
        "\n",
        "```python\n",
        "def load_file(self):\n",
        "        with open(self.path, \"r\", encoding=self.encoding) as f:\n",
        "            self.documents.append(f.read())\n",
        "```\n",
        "\n",
        "We're simply loading the document using the built in `open` method, and storing that output in our `self.documents` list.\n"
      ]
    },
    {
      "cell_type": "code",
      "execution_count": 54,
      "metadata": {
        "colab": {
          "base_uri": "https://localhost:8080/"
        },
        "id": "Ia2sUEuGR6yu",
        "outputId": "84937ecc-c35f-4c4a-a4ab-9da72625954c"
      },
      "outputs": [
        {
          "data": {
            "text/plain": [
              "1"
            ]
          },
          "execution_count": 54,
          "metadata": {},
          "output_type": "execute_result"
        }
      ],
      "source": [
        "text_loader = TextFileLoader(\"data/PMarcaBlogs.txt\")\n",
        "documents = text_loader.load_documents()\n",
        "len(documents)"
      ]
    },
    {
      "cell_type": "code",
      "execution_count": 56,
      "metadata": {
        "colab": {
          "base_uri": "https://localhost:8080/"
        },
        "id": "bV-tj5WFR6yu",
        "outputId": "674eb315-1ff3-4597-bcf5-38ece0a812ac"
      },
      "outputs": [
        {
          "data": {
            "text/plain": [
              "str"
            ]
          },
          "execution_count": 56,
          "metadata": {},
          "output_type": "execute_result"
        }
      ],
      "source": []
    },
    {
      "cell_type": "markdown",
      "metadata": {
        "id": "nHlTvCzYR6yu"
      },
      "source": [
        "### Splitting Text Into Chunks\n",
        "\n",
        "As we can see, there is one document - and it's the entire text of Frakenstein\n",
        "\n",
        "We'll want to chunk the document into smaller parts so it's easier to pass the most relevant snippets to the LLM.\n",
        "\n",
        "There is no fixed way to split/chunk documents - and you'll need to rely on some intuition as well as knowing your data *very* well in order to build the most robust system.\n",
        "\n",
        "For this toy example, we'll just split blindly on length.\n",
        "\n",
        ">There's an opportunity to clear up some terminology here, for this course we will be stick to the following:\n",
        ">\n",
        ">- \"source documents\" : The `.txt`, `.pdf`, `.html`, ..., files that make up the files and information we start with in its raw format\n",
        ">- \"document(s)\" : single (or more) text object(s)\n",
        ">- \"corpus\" : the combination of all of our documents"
      ]
    },
    {
      "cell_type": "markdown",
      "metadata": {
        "id": "M0DV5Yx5R6yu"
      },
      "source": [
        "Let's take a peek visually at what we're doing here - and why it might be useful:\n",
        "\n",
        "<img src=\"https://i.imgur.com/rtM6Ci6.png\" />"
      ]
    },
    {
      "cell_type": "markdown",
      "metadata": {
        "id": "2G6Voc0jR6yv"
      },
      "source": [
        "As you can see (though it's not specifically true in this toy example) the idea of splitting documents is to break them into managable sized chunks that retain the most relevant local context."
      ]
    },
    {
      "cell_type": "code",
      "execution_count": 5,
      "metadata": {
        "colab": {
          "base_uri": "https://localhost:8080/"
        },
        "id": "UMC4tsEmR6yv",
        "outputId": "08689c0b-57cd-4040-942a-8193e997f5cb"
      },
      "outputs": [
        {
          "data": {
            "text/plain": [
              "373"
            ]
          },
          "execution_count": 5,
          "metadata": {},
          "output_type": "execute_result"
        }
      ],
      "source": [
        "\n",
        "text_splitter = CharacterTextSplitter()\n",
        "split_documents = text_splitter.split_texts(documents)\n",
        "len(split_documents)"
      ]
    },
    {
      "cell_type": "markdown",
      "metadata": {
        "id": "W2wKT0WLR6yv"
      },
      "source": [
        "Let's take a look at some of the documents we've managed to split."
      ]
    },
    {
      "cell_type": "code",
      "execution_count": 6,
      "metadata": {
        "colab": {
          "base_uri": "https://localhost:8080/"
        },
        "id": "vcYMwWJoR6yv",
        "outputId": "20d69876-feca-4826-b4be-32915276987a"
      },
      "outputs": [
        {
          "data": {
            "text/plain": [
              "['\\ufeff\\nThe Pmarca Blog Archives\\n(select posts from 2007-2009)\\nMarc Andreessen\\ncopyright: Andreessen Horowitz\\ncover design: Jessica Hagy\\nproduced using: Pressbooks\\nContents\\nTHE PMARCA GUIDE TO STARTUPS\\nPart 1: Why not to do a startup 2\\nPart 2: When the VCs say \"no\" 10\\nPart 3: \"But I don\\'t know any VCs!\" 18\\nPart 4: The only thing that matters 25\\nPart 5: The Moby Dick theory of big companies 33\\nPart 6: How much funding is too little? Too much? 41\\nPart 7: Why a startup\\'s initial business plan doesn\\'t\\nmatter that much\\n49\\nTHE PMARCA GUIDE TO HIRING\\nPart 8: Hiring, managing, promoting, and Dring\\nexecutives\\n54\\nPart 9: How to hire a professional CEO 68\\nHow to hire the best people you\\'ve ever worked\\nwith\\n69\\nTHE PMARCA GUIDE TO BIG COMPANIES\\nPart 1: Turnaround! 82\\nPart 2: Retaining great people 86\\nTHE PMARCA GUIDE TO CAREER, PRODUCTIVITY,\\nAND SOME OTHER THINGS\\nIntroduction 97\\nPart 1: Opportunity 99\\nPart 2: Skills and education 107\\nPart 3: Where to go and why 120\\nThe Pmarca Guide to Personal Productivi']"
            ]
          },
          "execution_count": 6,
          "metadata": {},
          "output_type": "execute_result"
        }
      ],
      "source": [
        "split_documents[0:1]"
      ]
    },
    {
      "cell_type": "markdown",
      "metadata": {
        "id": "HOU-RFP_R6yv"
      },
      "source": [
        "## Task 3: Embeddings and Vectors\n",
        "\n",
        "Next, we have to convert our corpus into a \"machine readable\" format.\n",
        "\n",
        "Loosely, this means turning the text into numbers.\n",
        "\n",
        "Today, we're going to talk about the actual process of creating, and then storing, these embeddings, and how we can leverage that to intelligently add context to our queries."
      ]
    },
    {
      "cell_type": "markdown",
      "metadata": {},
      "source": [
        "### Embeddings and Dense Vector Search: A Quick Primer\n",
        "\n",
        "If you come from an NLP background, embeddings are something you might be intimately familiar with - otherwise, you might find the topic a bit...dense. (this attempt at a joke will make more sense later)\n",
        "\n",
        "In all seriousness, embeddings are a powerful piece of the NLP puzzle, so let's dive in!\n",
        "\n",
        "> NOTE: While this notebook language/NLP-centric, embeddings have uses beyond just text!"
      ]
    },
    {
      "cell_type": "markdown",
      "metadata": {},
      "source": [
        "#### Why Do We Even Need Embeddings?\n",
        "\n",
        "In order to fully understand what Embeddings are, we first need to understand why we have them!\n",
        "\n",
        "Machine Learning algorithms, ranging from the very big to the very small, all have one thing in common:\n",
        "\n",
        "They need numeric inputs.\n",
        "\n",
        "So we need a process by which to translate the domain we live in, dominated by images, audio, language, and more, into the domain of the machine: Numbers.\n",
        "\n",
        "Another thing we want to be able to do is capture \"semantic information\" about words/phrases so that we can use algorithmic approaches to determine if words are closely related or not!\n",
        "\n",
        "So, we need to come up with a process that does these two things well:\n",
        "\n",
        "- Convert non-numeric data into numeric-data\n",
        "- Capture potential semantic relationships between individual pieces of data"
      ]
    },
    {
      "cell_type": "markdown",
      "metadata": {},
      "source": [
        "#### How Do Embeddings Capture Semantic Relationships?\n",
        "\n",
        "In a simplified sense, embeddings map a word or phrase into n-dimensional space with a dense continuous vector, where each dimension in the vector represents some \"latent feature\" of the data.\n",
        "\n",
        "This is best represented in a classic example:\n",
        "\n",
        "![image](https://i.imgur.com/K5eQtmH.png)\n",
        "\n",
        "As can be seen in the extremely simplified example: The X_1 axis represents age, and the X_2 axis represents hair.\n",
        "\n",
        "The relationship of \"puppy -> dog\" reflects the same relationship as \"baby -> adult\", but dogs are (typically) hairier than humans. However, adults typically have more hair than babies - so they are shifted slightly closer to dogs on the X_2 axis!\n",
        "\n",
        "Now, this is a simplified and contrived example - but it is *essentially* the mechanism by which embeddings capture semantic information.\n",
        "\n",
        "In reality, the dimensions don't sincerely represent hard-concepts like \"age\" or \"hair\", but it's useful as a way to think about how the semantic relationships are captured.\n",
        "\n",
        "Alright, with some history behind us - let's examine how these might help us choose relevant context."
      ]
    },
    {
      "cell_type": "markdown",
      "metadata": {},
      "source": [
        "Let's begin with a simple example - simply looking at how close to embedding vectors are for a given phrase.\n",
        "\n",
        "When we use the term \"close\" in this notebook - we're referring to a distance measure called \"cosine similarity\".\n",
        "\n",
        "We discussed above that if two embeddings are close - they are semantically similar, cosine similarity gives us a quick way to measure how similar two vectors are!\n",
        "\n",
        "Closeness is measured from 1 to -1, with 1 being extremely close and -1 being extremely close to opposite in meaning.\n",
        "\n",
        "Let's implement it with Numpy below."
      ]
    },
    {
      "cell_type": "code",
      "execution_count": 7,
      "metadata": {},
      "outputs": [],
      "source": [
        "import numpy as np\n",
        "from numpy.linalg import norm\n",
        "\n",
        "def cosine_similarity(vec_1, vec_2):\n",
        "  return np.dot(vec_1, vec_2) / (norm(vec_1) * norm(vec_2))"
      ]
    },
    {
      "cell_type": "markdown",
      "metadata": {},
      "source": [
        "Now let's use the `text-embedding-3-small` embedding model (more on that in a second) to embed two sentences. In order to use this embedding model endpoint - we'll need to provide our OpenAI API key!"
      ]
    },
    {
      "cell_type": "code",
      "execution_count": 9,
      "metadata": {
        "colab": {
          "base_uri": "https://localhost:8080/"
        },
        "id": "EaOETZGpR6yv",
        "outputId": "1239abf1-faff-49f2-a67c-7350e50fb1b9"
      },
      "outputs": [],
      "source": [
        "import os\n",
        "import openai\n",
        "from getpass import getpass\n",
        "\n",
        "openai.api_key = getpass(\"OpenAI API Key: \")\n",
        "os.environ[\"OPENAI_API_KEY\"] = openai.api_key"
      ]
    },
    {
      "cell_type": "code",
      "execution_count": 10,
      "metadata": {},
      "outputs": [],
      "source": [
        "from aimakerspace.openai_utils.embedding import EmbeddingModel\n",
        "\n",
        "embedding_model = EmbeddingModel()"
      ]
    },
    {
      "cell_type": "markdown",
      "metadata": {},
      "source": [
        "Let's define our two sentences:"
      ]
    },
    {
      "cell_type": "code",
      "execution_count": 11,
      "metadata": {},
      "outputs": [],
      "source": [
        "puppy_sentence = \"I love puppies!\"\n",
        "dog_sentence = \"I love dogs!\""
      ]
    },
    {
      "cell_type": "markdown",
      "metadata": {},
      "source": [
        "Now we can convert those into embedding vectors using OpenAI!"
      ]
    },
    {
      "cell_type": "code",
      "execution_count": 12,
      "metadata": {},
      "outputs": [],
      "source": [
        "puppy_vector = embedding_model.get_embedding(puppy_sentence)\n",
        "dog_vector = embedding_model.get_embedding(dog_sentence)"
      ]
    },
    {
      "cell_type": "markdown",
      "metadata": {},
      "source": [
        "Now we can determine how closely they are related using our distance measure!"
      ]
    },
    {
      "cell_type": "code",
      "execution_count": 13,
      "metadata": {},
      "outputs": [
        {
          "data": {
            "text/plain": [
              "0.8340215662150424"
            ]
          },
          "execution_count": 13,
          "metadata": {},
          "output_type": "execute_result"
        }
      ],
      "source": [
        "cosine_similarity(puppy_vector, dog_vector)"
      ]
    },
    {
      "cell_type": "markdown",
      "metadata": {},
      "source": [
        "Remember, with cosine similarity, close to 1. means they're very close!\n",
        "\n",
        "Let's see what happens if we use a different set of sentences."
      ]
    },
    {
      "cell_type": "code",
      "execution_count": 14,
      "metadata": {},
      "outputs": [
        {
          "data": {
            "text/plain": [
              "0.3724333322983298"
            ]
          },
          "execution_count": 14,
          "metadata": {},
          "output_type": "execute_result"
        }
      ],
      "source": [
        "puppy_sentence = \"I love puppies!\"\n",
        "cat_sentence = \"I dislike cats!\"\n",
        "\n",
        "puppy_vector = embedding_model.get_embedding(puppy_sentence)\n",
        "cat_vector = embedding_model.get_embedding(cat_sentence)\n",
        "\n",
        "cosine_similarity(puppy_vector, cat_vector)"
      ]
    },
    {
      "cell_type": "markdown",
      "metadata": {},
      "source": [
        "As you can see - these vectors are further apart - as expected!\n",
        "\n",
        "Now that we've gotten some background - lets see this put together with a few extra layers on top!"
      ]
    },
    {
      "cell_type": "markdown",
      "metadata": {},
      "source": [
        "### Vector Database\n",
        "\n",
        "Let's set up our vector database to hold all our documents and their embeddings!"
      ]
    },
    {
      "cell_type": "markdown",
      "metadata": {
        "id": "kDQrfAR1R6yv"
      },
      "source": [
        "While this is all baked into 1 call - we can look at some of the code that powers this process to get a better understanding:\n",
        "\n",
        "Let's look at our `VectorDatabase().__init__()`:\n",
        "\n",
        "```python\n",
        "def __init__(self, embedding_model: EmbeddingModel = None):\n",
        "        self.vectors = defaultdict(np.array)\n",
        "        self.embedding_model = embedding_model or EmbeddingModel()\n",
        "```\n",
        "\n",
        "As you can see - our vectors are merely stored as a dictionary of `np.array` objects.\n",
        "\n",
        "Secondly, our `VectorDatabase()` has a default `EmbeddingModel()` which is a wrapper for OpenAI's `text-embedding-3-small` model.\n",
        "\n",
        "> **Quick Info About `text-embedding-3-small`**:\n",
        "> - It has a context window of **8191** tokens\n",
        "> - It returns vectors with dimension **1536**"
      ]
    },
    {
      "cell_type": "markdown",
      "metadata": {
        "id": "L273pRdeR6yv"
      },
      "source": [
        "#### ❓Question #1:\n",
        "\n",
        "The default embedding dimension of `text-embedding-3-small` is 1536, as noted above. \n",
        "\n",
        "1. Is there any way to modify this dimension?\n",
        "2. What technique does OpenAI use to achieve this?\n",
        "\n",
        "> NOTE: Check out this [API documentation](https://platform.openai.com/docs/api-reference/embeddings/create) for the answer to question #1, and [this documentation](https://platform.openai.com/docs/guides/embeddings/use-cases) for an answer to question #2!"
      ]
    },
    {
      "cell_type": "markdown",
      "metadata": {
        "id": "w5FZY7K3R6yv"
      },
      "source": [
        "We can call the `async_get_embeddings` method of our `EmbeddingModel()` on a list of `str` and receive a list of `float` back!\n",
        "\n",
        "```python\n",
        "async def async_get_embeddings(self, list_of_text: List[str]) -> List[List[float]]:\n",
        "        return await aget_embeddings(\n",
        "            list_of_text=list_of_text, engine=self.embeddings_model_name\n",
        "        )\n",
        "```"
      ]
    },
    {
      "cell_type": "markdown",
      "metadata": {
        "id": "cSct6X0aR6yv"
      },
      "source": [
        "We cast those to `np.array` when we build our `VectorDatabase()`:\n",
        "\n",
        "```python\n",
        "async def abuild_from_list(self, list_of_text: List[str]) -> \"VectorDatabase\":\n",
        "        embeddings = await self.embedding_model.async_get_embeddings(list_of_text)\n",
        "        for text, embedding in zip(list_of_text, embeddings):\n",
        "            self.insert(text, np.array(embedding))\n",
        "        return self\n",
        "```\n",
        "\n",
        "And that's all we need to do!"
      ]
    },
    {
      "cell_type": "code",
      "execution_count": 23,
      "metadata": {
        "id": "O4KoLbVDR6yv"
      },
      "outputs": [],
      "source": [
        "## Q1a - yes you can \n",
        "## Q1b - https://arxiv.org/abs/2205.13147 \n",
        "\n",
        "import nest_asyncio\n",
        "nest_asyncio.apply()\n",
        "vector_db = VectorDatabase()\n",
        "# vector_db.abuild_from_list(split_documents)\n",
        "vector_db = asyncio.run(vector_db.abuild_from_list(split_documents))"
      ]
    },
    {
      "cell_type": "markdown",
      "metadata": {
        "id": "SSZwaGvpR6yv"
      },
      "source": [
        "#### ❓Question #2:\n",
        "\n",
        "What are the benefits of using an `async` approach to collecting our embeddings?\n",
        "\n",
        "> NOTE: Determining the core difference between `async` and `sync` will be useful! If you get stuck - ask ChatGPT!"
      ]
    },
    {
      "cell_type": "markdown",
      "metadata": {
        "id": "nRBdIt-xR6yw"
      },
      "source": [
        "So, to review what we've done so far in natural language:\n",
        "\n",
        "1. We load source documents\n",
        "2. We split those source documents into smaller chunks (documents)\n",
        "3. We send each of those documents to the `text-embedding-3-small` OpenAI API endpoint\n",
        "4. We store each of the text representations with the vector representations as keys/values in a dictionary"
      ]
    },
    {
      "cell_type": "markdown",
      "metadata": {
        "id": "4-vWANZyR6yw"
      },
      "source": [
        "### Semantic Similarity\n",
        "\n",
        "The next step is to be able to query our `VectorDatabase()` with a `str` and have it return to us vectors and text that is most relevant from our corpus.\n",
        "\n",
        "We're going to use the following process to achieve this in our toy example:\n",
        "\n",
        "1. We need to embed our query with the same `EmbeddingModel()` as we used to construct our `VectorDatabase()`\n",
        "2. We loop through every vector in our `VectorDatabase()` and use a distance measure to compare how related they are\n",
        "3. We return a list of the top `k` closest vectors, with their text representations\n",
        "\n",
        "There's some very heavy optimization that can be done at each of these steps - but let's just focus on the basic pattern in this notebook.\n",
        "\n",
        "> We are using [cosine similarity](https://www.engati.com/glossary/cosine-similarity) as a distance metric in this example - but there are many many distance metrics you could use - like [these](https://flavien-vidal.medium.com/similarity-distances-for-natural-language-processing-16f63cd5ba55)\n",
        "\n",
        "> We are using a rather inefficient way of calculating relative distance between the query vector and all other vectors - there are more advanced approaches that are much more efficient, like [ANN](https://towardsdatascience.com/comprehensive-guide-to-approximate-nearest-neighbors-algorithms-8b94f057d6b6)"
      ]
    },
    {
      "cell_type": "code",
      "execution_count": 25,
      "metadata": {
        "colab": {
          "base_uri": "https://localhost:8080/"
        },
        "id": "76d96uavR6yw",
        "outputId": "bbfccc31-20a2-41c7-c14d-46554a43ed2d"
      },
      "outputs": [
        {
          "data": {
            "text/plain": [
              "[('ordingly.\\nSeventh, when hiring the executive to run your former specialty, be\\ncareful you don’t hire someone weak on purpose.\\nThis sounds silly, but you wouldn’t believe how oaen it happens.\\nThe CEO who used to be a product manager who has a weak\\nproduct management executive. The CEO who used to be in\\nsales who has a weak sales executive. The CEO who used to be\\nin marketing who has a weak marketing executive.\\nI call this the “Michael Eisner Memorial Weak Executive Problem” — aaer the CEO of Disney who had previously been a brilliant TV network executive. When he bought ABC at Disney, it\\npromptly fell to fourth place. His response? “If I had an extra\\ntwo days a week, I could turn around ABC myself.” Well, guess\\nwhat, he didn’t have an extra two days a week.\\nA CEO — or a startup founder — oaen has a hard time letting\\ngo of the function that brought him to the party. The result: you\\nhire someone weak into the executive role for that function so\\nthat you can continue to be “the man” — cons',\n",
              "  0.6539043027545361),\n",
              " ('m. They have areas where they are truly deXcient in judgment or skill set. That’s just life. Almost nobody is brilliant\\nat everything. When hiring and when Hring executives, you\\nmust therefore focus on strength rather than lack of weakness. Everybody has severe weaknesses even if you can’t see\\nthem yet. When managing, it’s oaen useful to micromanage and\\nto provide remedial training around these weaknesses. Doing so\\nmay make the diWerence between an executive succeeding or\\nfailing.\\nFor example, you might have a brilliant engineering executive\\nwho generates excellent team loyalty, has terriXc product judgment and makes the trains run on time. This same executive\\nmay be very poor at relating to the other functions in the company. She may generate far more than her share of cross-functional conYicts, cut herself oW from critical information, and\\nsigniXcantly impede your ability to sell and market eWectively.\\nYour alternatives are:\\n(a) Macro-manage and give her an annual or quarterly object',\n",
              "  0.5036247837648781),\n",
              " ('ed?\\nIn reality — as opposed to Marc’s warped view of reality — it will\\nbe extremely helpful for Marc [if he were actually the CEO,\\nwhich he is not] to meet with the new head of engineering daily\\nwhen she comes on board and review all of her thinking and\\ndecisions. This level of micromanagement will accelerate her\\ntraining and improve her long-term eWectiveness. It will make\\nher seem smarter to the rest of the organization which will build\\ncredibility and conXdence while she comes up to speed. Micromanaging new executives is generally a good idea for a limited\\nperiod of time.\\nHowever, that is not the only time that it makes sense to micro66 The Pmarca Blog Archives\\nmanage executives. It turns out that just about every executive\\nin the world has a few things that are seriously wrong with\\nthem. They have areas where they are truly deXcient in judgment or skill set. That’s just life. Almost nobody is brilliant\\nat everything. When hiring and when Hring executives, you\\nmust therefore focus o',\n",
              "  0.48148610617910664)]"
            ]
          },
          "execution_count": 25,
          "metadata": {},
          "output_type": "execute_result"
        }
      ],
      "source": [
        "vector_db.search_by_text(\"What is the Michael Eisner Memorial Weak Executive Problem?\", k=3)"
      ]
    },
    {
      "cell_type": "markdown",
      "metadata": {
        "id": "TehsfIiKR6yw"
      },
      "source": [
        "## Task 4: Prompts\n",
        "\n",
        "In the following section, we'll be looking at the role of prompts - and how they help us to guide our application in the right direction.\n",
        "\n",
        "In this notebook, we're going to rely on the idea of \"zero-shot in-context learning\".\n",
        "\n",
        "This is a lot of words to say: \"We will ask it to perform our desired task in the prompt, and provide no examples.\""
      ]
    },
    {
      "cell_type": "markdown",
      "metadata": {
        "id": "yXpA0UveR6yw"
      },
      "source": [
        "### XYZRolePrompt\n",
        "\n",
        "Before we do that, let's stop and think a bit about how OpenAI's chat models work.\n",
        "\n",
        "We know they have roles - as is indicated in the following API [documentation](https://platform.openai.com/docs/api-reference/chat/create#chat/create-messages)\n",
        "\n",
        "There are three roles, and they function as follows (taken directly from [OpenAI](https://platform.openai.com/docs/guides/gpt/chat-completions-api)):\n",
        "\n",
        "- `{\"role\" : \"system\"}` : The system message helps set the behavior of the assistant. For example, you can modify the personality of the assistant or provide specific instructions about how it should behave throughout the conversation. However note that the system message is optional and the model’s behavior without a system message is likely to be similar to using a generic message such as \"You are a helpful assistant.\"\n",
        "- `{\"role\" : \"user\"}` : The user messages provide requests or comments for the assistant to respond to.\n",
        "- `{\"role\" : \"assistant\"}` : Assistant messages store previous assistant responses, but can also be written by you to give examples of desired behavior.\n",
        "\n",
        "The main idea is this:\n",
        "\n",
        "1. You start with a system message that outlines how the LLM should respond, what kind of behaviours you can expect from it, and more\n",
        "2. Then, you can provide a few examples in the form of \"assistant\"/\"user\" pairs\n",
        "3. Then, you prompt the model with the true \"user\" message.\n",
        "\n",
        "In this example, we'll be forgoing the 2nd step for simplicities sake."
      ]
    },
    {
      "cell_type": "markdown",
      "metadata": {
        "id": "gdZ2KWKSR6yw"
      },
      "source": [
        "#### Utility Functions\n",
        "\n",
        "You'll notice that we're using some utility functions from the `aimakerspace` module - let's take a peek at these and see what they're doing!"
      ]
    },
    {
      "cell_type": "markdown",
      "metadata": {
        "id": "GFbeJDDsR6yw"
      },
      "source": [
        "##### XYZRolePrompt"
      ]
    },
    {
      "cell_type": "markdown",
      "metadata": {
        "id": "5mojJSE3R6yw"
      },
      "source": [
        "Here we have our `system`, `user`, and `assistant` role prompts.\n",
        "\n",
        "Let's take a peek at what they look like:\n",
        "\n",
        "```python\n",
        "class BasePrompt:\n",
        "    def __init__(self, prompt):\n",
        "        \"\"\"\n",
        "        Initializes the BasePrompt object with a prompt template.\n",
        "\n",
        "        :param prompt: A string that can contain placeholders within curly braces\n",
        "        \"\"\"\n",
        "        self.prompt = prompt\n",
        "        self._pattern = re.compile(r\"\\{([^}]+)\\}\")\n",
        "\n",
        "    def format_prompt(self, **kwargs):\n",
        "        \"\"\"\n",
        "        Formats the prompt string using the keyword arguments provided.\n",
        "\n",
        "        :param kwargs: The values to substitute into the prompt string\n",
        "        :return: The formatted prompt string\n",
        "        \"\"\"\n",
        "        matches = self._pattern.findall(self.prompt)\n",
        "        return self.prompt.format(**{match: kwargs.get(match, \"\") for match in matches})\n",
        "\n",
        "    def get_input_variables(self):\n",
        "        \"\"\"\n",
        "        Gets the list of input variable names from the prompt string.\n",
        "\n",
        "        :return: List of input variable names\n",
        "        \"\"\"\n",
        "        return self._pattern.findall(self.prompt)\n",
        "```\n",
        "\n",
        "Then we have our `RolePrompt` which laser focuses us on the role pattern found in most API endpoints for LLMs.\n",
        "\n",
        "```python\n",
        "class RolePrompt(BasePrompt):\n",
        "    def __init__(self, prompt, role: str):\n",
        "        \"\"\"\n",
        "        Initializes the RolePrompt object with a prompt template and a role.\n",
        "\n",
        "        :param prompt: A string that can contain placeholders within curly braces\n",
        "        :param role: The role for the message ('system', 'user', or 'assistant')\n",
        "        \"\"\"\n",
        "        super().__init__(prompt)\n",
        "        self.role = role\n",
        "\n",
        "    def create_message(self, **kwargs):\n",
        "        \"\"\"\n",
        "        Creates a message dictionary with a role and a formatted message.\n",
        "\n",
        "        :param kwargs: The values to substitute into the prompt string\n",
        "        :return: Dictionary containing the role and the formatted message\n",
        "        \"\"\"\n",
        "        return {\"role\": self.role, \"content\": self.format_prompt(**kwargs)}\n",
        "```\n",
        "\n",
        "We'll look at how the `SystemRolePrompt` is constructed to get a better idea of how that extension works:\n",
        "\n",
        "```python\n",
        "class SystemRolePrompt(RolePrompt):\n",
        "    def __init__(self, prompt: str):\n",
        "        super().__init__(prompt, \"system\")\n",
        "```\n",
        "\n",
        "That pattern is repeated for our `UserRolePrompt` and our `AssistantRolePrompt` as well."
      ]
    },
    {
      "cell_type": "markdown",
      "metadata": {
        "id": "D361R6sMR6yw"
      },
      "source": [
        "##### ChatOpenAI"
      ]
    },
    {
      "cell_type": "markdown",
      "metadata": {
        "id": "HJVQ2Pm8R6yw"
      },
      "source": [
        "Next we have our model, which is converted to a format analagous to libraries like LangChain and LlamaIndex.\n",
        "\n",
        "Let's take a peek at how that is constructed:\n",
        "\n",
        "```python\n",
        "class ChatOpenAI:\n",
        "    def __init__(self, model_name: str = \"gpt-3.5-turbo\"):\n",
        "        self.model_name = model_name\n",
        "        self.openai_api_key = os.getenv(\"OPENAI_API_KEY\")\n",
        "        if self.openai_api_key is None:\n",
        "            raise ValueError(\"OPENAI_API_KEY is not set\")\n",
        "\n",
        "    def run(self, messages, text_only: bool = True):\n",
        "        if not isinstance(messages, list):\n",
        "            raise ValueError(\"messages must be a list\")\n",
        "\n",
        "        openai.api_key = self.openai_api_key\n",
        "        response = openai.ChatCompletion.create(\n",
        "            model=self.model_name, messages=messages\n",
        "        )\n",
        "\n",
        "        if text_only:\n",
        "            return response.choices[0].message.content\n",
        "\n",
        "        return response\n",
        "```"
      ]
    },
    {
      "cell_type": "markdown",
      "metadata": {
        "id": "qCU7FfhIR6yw"
      },
      "source": [
        "#### ❓ Question #3:\n",
        "\n",
        "When calling the OpenAI API - are there any ways we can achieve more reproducible outputs?\n",
        "\n",
        "> NOTE: Check out [this section](https://platform.openai.com/docs/guides/text-generation/) of the OpenAI documentation for the answer!"
      ]
    },
    {
      "cell_type": "markdown",
      "metadata": {
        "id": "c5wcjMLCR6yw"
      },
      "source": [
        "### Creating and Prompting OpenAI's `gpt-3.5-turbo`!\n",
        "\n",
        "Let's tie all these together and use it to prompt `gpt-3.5-turbo`!"
      ]
    },
    {
      "cell_type": "code",
      "execution_count": 26,
      "metadata": {
        "id": "WIfpIot7R6yw"
      },
      "outputs": [],
      "source": [
        "from aimakerspace.openai_utils.prompts import (\n",
        "    UserRolePrompt,\n",
        "    SystemRolePrompt,\n",
        "    AssistantRolePrompt,\n",
        ")\n",
        "\n",
        "from aimakerspace.openai_utils.chatmodel import ChatOpenAI\n",
        "\n",
        "chat_openai = ChatOpenAI()\n",
        "user_prompt_template = \"{content}\"\n",
        "user_role_prompt = UserRolePrompt(user_prompt_template)\n",
        "system_prompt_template = (\n",
        "    \"You are an expert in {expertise}, you always answer in a kind way.\"\n",
        ")\n",
        "system_role_prompt = SystemRolePrompt(system_prompt_template)\n",
        "\n",
        "messages = [\n",
        "    user_role_prompt.create_message(\n",
        "        content=\"What is the best way to write a loop?\"\n",
        "    ),\n",
        "    system_role_prompt.create_message(expertise=\"Python\"),\n",
        "]\n",
        "\n",
        "response = chat_openai.run(messages)"
      ]
    },
    {
      "cell_type": "code",
      "execution_count": 12,
      "metadata": {
        "colab": {
          "base_uri": "https://localhost:8080/"
        },
        "id": "dHo7lssNR6yw",
        "outputId": "1d3823fa-bb6b-45f6-ddba-b41686388324"
      },
      "outputs": [
        {
          "name": "stdout",
          "output_type": "stream",
          "text": [
            "The best way to write a loop really depends on the specific situation and the programming language you are using. In general, it's important to consider the purpose of the loop and choose the type of loop that best suits your needs.\n",
            "\n",
            "In Python, there are different types of loops you can use, such as for loops, while loops, and list comprehensions. For simple iterations over a sequence or range of values, a for loop is usually the most straightforward and readable option. \n",
            "\n",
            "Here's an example of a simple for loop in Python:\n",
            "\n",
            "```python\n",
            "for i in range(5):\n",
            "    print(i)\n",
            "```\n",
            "\n",
            "If you need to iterate until a certain condition is met, a while loop might be more appropriate. For example:\n",
            "\n",
            "```python\n",
            "counter = 0\n",
            "while counter < 5:\n",
            "    print(counter)\n",
            "    counter += 1\n",
            "```\n",
            "\n",
            "For more complex iterations or transformations of data, list comprehensions can be a concise and efficient way to achieve the desired result. For example:\n",
            "\n",
            "```python\n",
            "squared_numbers = [x**2 for x in range(5)]\n",
            "print(squared_numbers)\n",
            "```\n",
            "\n",
            "Ultimately, the best way to write a loop is the one that is clear, efficient, and fits the requirements of your specific task. Remember to keep your code readable and maintainable for yourself and others who may need to work with it in the future.\n"
          ]
        }
      ],
      "source": [
        "print(response)"
      ]
    },
    {
      "cell_type": "markdown",
      "metadata": {
        "id": "r2nxxhB2R6yy"
      },
      "source": [
        "## Task 5: Retrieval Augmented Generation\n",
        "\n",
        "Now we can create a RAG prompt - which will help our system behave in a way that makes sense!\n",
        "\n",
        "There is much you could do here, many tweaks and improvements to be made!"
      ]
    },
    {
      "cell_type": "code",
      "execution_count": 27,
      "metadata": {
        "id": "D1hamzGaR6yy"
      },
      "outputs": [],
      "source": [
        "RAG_PROMPT_TEMPLATE = \"\"\" \\\n",
        "Use the provided context to answer the user's query.\n",
        "\n",
        "You may not answer the user's query unless there is specific context in the following text.\n",
        "\n",
        "If you do not know the answer, or cannot answer, please respond with \"I don't know\".\n",
        "\"\"\"\n",
        "\n",
        "rag_prompt = SystemRolePrompt(RAG_PROMPT_TEMPLATE)\n",
        "\n",
        "USER_PROMPT_TEMPLATE = \"\"\" \\\n",
        "Context:\n",
        "{context}\n",
        "\n",
        "User Query:\n",
        "{user_query}\n",
        "\"\"\"\n",
        "\n",
        "\n",
        "user_prompt = UserRolePrompt(USER_PROMPT_TEMPLATE)\n",
        "\n",
        "class RetrievalAugmentedQAPipeline:\n",
        "    def __init__(self, llm: ChatOpenAI(), vector_db_retriever: VectorDatabase) -> None:\n",
        "        self.llm = llm\n",
        "        self.vector_db_retriever = vector_db_retriever\n",
        "\n",
        "    def run_pipeline(self, user_query: str) -> str:\n",
        "        context_list = self.vector_db_retriever.search_by_text(user_query, k=4)\n",
        "\n",
        "        context_prompt = \"\"\n",
        "        for context in context_list:\n",
        "            context_prompt += context[0] + \"\\n\"\n",
        "\n",
        "        formatted_system_prompt = rag_prompt.create_message()\n",
        "\n",
        "        formatted_user_prompt = user_prompt.create_message(user_query=user_query, context=context_prompt)\n",
        "\n",
        "        return {\"response\" : self.llm.run([formatted_user_prompt, formatted_system_prompt]), \"context\" : context_list}"
      ]
    },
    {
      "cell_type": "markdown",
      "metadata": {
        "id": "zZIJI19uR6yz"
      },
      "source": [
        "#### ❓ Question #4:\n",
        "\n",
        "What prompting strategies could you use to make the LLM have a more thoughtful, detailed response?\n",
        "\n",
        "What is that strategy called?\n",
        "\n",
        "> NOTE: You can look through the Week 1 Day 2 material for an answer to this question!"
      ]
    },
    {
      "cell_type": "code",
      "execution_count": 28,
      "metadata": {
        "id": "kqbE9fZ6R6yz"
      },
      "outputs": [],
      "source": [
        "retrieval_augmented_qa_pipeline = RetrievalAugmentedQAPipeline(\n",
        "    vector_db_retriever=vector_db,\n",
        "    llm=chat_openai\n",
        ")"
      ]
    },
    {
      "cell_type": "code",
      "execution_count": 29,
      "metadata": {
        "colab": {
          "base_uri": "https://localhost:8080/"
        },
        "id": "jAGhaCGOR6yz",
        "outputId": "e4fb3a1b-d2bc-4e18-ec31-dc0adf767163"
      },
      "outputs": [
        {
          "data": {
            "text/plain": [
              "{'response': 'The \"Michael Eisner Memorial Weak Executive Problem\" refers to a situation where a CEO or leader hires a weak executive for a specific function within the company because they have difficulty letting go of that function themselves. This can lead to ineffective leadership and decreased performance in that particular area. The term is named after Michael Eisner, the former CEO of Disney, who faced challenges when transitioning from a successful TV network executive to leading ABC at Disney.',\n",
              " 'context': [('ordingly.\\nSeventh, when hiring the executive to run your former specialty, be\\ncareful you don’t hire someone weak on purpose.\\nThis sounds silly, but you wouldn’t believe how oaen it happens.\\nThe CEO who used to be a product manager who has a weak\\nproduct management executive. The CEO who used to be in\\nsales who has a weak sales executive. The CEO who used to be\\nin marketing who has a weak marketing executive.\\nI call this the “Michael Eisner Memorial Weak Executive Problem” — aaer the CEO of Disney who had previously been a brilliant TV network executive. When he bought ABC at Disney, it\\npromptly fell to fourth place. His response? “If I had an extra\\ntwo days a week, I could turn around ABC myself.” Well, guess\\nwhat, he didn’t have an extra two days a week.\\nA CEO — or a startup founder — oaen has a hard time letting\\ngo of the function that brought him to the party. The result: you\\nhire someone weak into the executive role for that function so\\nthat you can continue to be “the man” — cons',\n",
              "   0.6582387824515996),\n",
              "  ('m. They have areas where they are truly deXcient in judgment or skill set. That’s just life. Almost nobody is brilliant\\nat everything. When hiring and when Hring executives, you\\nmust therefore focus on strength rather than lack of weakness. Everybody has severe weaknesses even if you can’t see\\nthem yet. When managing, it’s oaen useful to micromanage and\\nto provide remedial training around these weaknesses. Doing so\\nmay make the diWerence between an executive succeeding or\\nfailing.\\nFor example, you might have a brilliant engineering executive\\nwho generates excellent team loyalty, has terriXc product judgment and makes the trains run on time. This same executive\\nmay be very poor at relating to the other functions in the company. She may generate far more than her share of cross-functional conYicts, cut herself oW from critical information, and\\nsigniXcantly impede your ability to sell and market eWectively.\\nYour alternatives are:\\n(a) Macro-manage and give her an annual or quarterly object',\n",
              "   0.5088537081849304),\n",
              "  ('ed?\\nIn reality — as opposed to Marc’s warped view of reality — it will\\nbe extremely helpful for Marc [if he were actually the CEO,\\nwhich he is not] to meet with the new head of engineering daily\\nwhen she comes on board and review all of her thinking and\\ndecisions. This level of micromanagement will accelerate her\\ntraining and improve her long-term eWectiveness. It will make\\nher seem smarter to the rest of the organization which will build\\ncredibility and conXdence while she comes up to speed. Micromanaging new executives is generally a good idea for a limited\\nperiod of time.\\nHowever, that is not the only time that it makes sense to micro66 The Pmarca Blog Archives\\nmanage executives. It turns out that just about every executive\\nin the world has a few things that are seriously wrong with\\nthem. They have areas where they are truly deXcient in judgment or skill set. That’s just life. Almost nobody is brilliant\\nat everything. When hiring and when Hring executives, you\\nmust therefore focus o',\n",
              "   0.47903916559307813),\n",
              "  ('nYicts, cut herself oW from critical information, and\\nsigniXcantly impede your ability to sell and market eWectively.\\nYour alternatives are:\\n(a) Macro-manage and give her an annual or quarterly objective\\nto Xx it, or…\\n(b) Intensively micromanage her interactions until she learns\\nthe fundamental interpersonal skills required to be an eWective\\nexecutive.\\nI am arguing that doing (a) will likely result in weak performance. The reason is that she very likely has no idea how to be\\neWective with her peers. If somebody is an executive, it’s very\\nlikely that somewhere along the line somebody gave her feedback — perhaps abstractly — about all of her weaknesses. Yet\\nthe weakness remains. As a result, executives generally require\\nmore hands-on management than lower level employees to\\nimprove weak areas.\\nSo, micromanagement is like Xne wine. A little at the right times\\nwill really enhance things; too much all the time and you’ll end\\nup in rehab.\\nPart 8: Hiring, managing, promoting, and Dring execut',\n",
              "   0.468138934185663)]}"
            ]
          },
          "execution_count": 29,
          "metadata": {},
          "output_type": "execute_result"
        }
      ],
      "source": [
        "retrieval_augmented_qa_pipeline.run_pipeline(\"What is the 'Michael Eisner Memorial Weak Executive Problem'?\")"
      ]
    },
    {
      "cell_type": "markdown",
      "metadata": {},
      "source": [
        "### 🏗️ Activity #1:\n",
        "\n",
        "Enhance your RAG application in some way! \n",
        "\n",
        "Suggestions are: \n",
        "\n",
        "- Allow it to work with PDF files\n",
        "- Implement a new distance metric\n",
        "- Add metadata support to the vector database\n",
        "\n",
        "While these are suggestions, you should feel free to make whatever augmentations you desire! \n",
        "\n",
        "> NOTE: These additions might require you to work within the `aimakerspace` library - that's expected!"
      ]
    },
    {
      "cell_type": "code",
      "execution_count": null,
      "metadata": {},
      "outputs": [],
      "source": []
    },
    {
      "cell_type": "markdown",
      "metadata": {
        "id": "8QqpYXj2R6yz"
      },
      "source": [
        "## Task 6: Visibility Tooling\n",
        "\n",
        "This is great, but what if we wanted to add some visibility to our pipeline?\n",
        "\n",
        "Let's use Weights and Biases as a visibility tool!\n",
        "\n",
        "The first thing we'll need to do is create a Weights and Biases account and get an API key.\n",
        "\n",
        "You can follow the process outlined [here](https://docs.wandb.ai/quickstart) to do exactly that!"
      ]
    },
    {
      "cell_type": "markdown",
      "metadata": {
        "id": "2nST5OrAR6yz"
      },
      "source": [
        "Now we can get the Weights and Biases dependency and add our key to our env. to begin!"
      ]
    },
    {
      "cell_type": "code",
      "execution_count": 30,
      "metadata": {
        "colab": {
          "base_uri": "https://localhost:8080/"
        },
        "id": "y54bofQQR6yz",
        "outputId": "6df38604-c2e0-4870-d5de-db165ea830ba"
      },
      "outputs": [],
      "source": [
        "!pip install -qU wandb"
      ]
    },
    {
      "cell_type": "code",
      "execution_count": 31,
      "metadata": {
        "colab": {
          "base_uri": "https://localhost:8080/"
        },
        "id": "SzunMw9_R6yz",
        "outputId": "f2506283-6b0d-4a1b-cb5a-65839c6445b1"
      },
      "outputs": [],
      "source": [
        "wandb_key = getpass(\"Weights and Biases API Key: \")\n",
        "os.environ[\"WANDB_API_KEY\"] = wandb_key"
      ]
    },
    {
      "cell_type": "code",
      "execution_count": 32,
      "metadata": {
        "colab": {
          "base_uri": "https://localhost:8080/",
          "height": 143
        },
        "id": "Iv1f27ebR6yz",
        "outputId": "34dd085e-0468-4657-d105-71ecc4b633fe"
      },
      "outputs": [
        {
          "name": "stderr",
          "output_type": "stream",
          "text": [
            "/Users/jiezhou/miniforge3/envs/llmops-course/lib/python3.11/site-packages/requests/utils.py:24: RuntimeWarning: coroutine 'VectorDatabase.abuild_from_list' was never awaited\n",
            "  from . import certs\n",
            "RuntimeWarning: Enable tracemalloc to get the object allocation traceback\n",
            "Failed to detect the name of this notebook, you can set it manually with the WANDB_NOTEBOOK_NAME environment variable to enable code saving.\n",
            "\u001b[34m\u001b[1mwandb\u001b[0m: Currently logged in as: \u001b[33mjie-z-zhou\u001b[0m (\u001b[33mjzunit\u001b[0m). Use \u001b[1m`wandb login --relogin`\u001b[0m to force relogin\n"
          ]
        },
        {
          "data": {
            "application/vnd.jupyter.widget-view+json": {
              "model_id": "274a57bb6bc4477bb8e45e612588fd09",
              "version_major": 2,
              "version_minor": 0
            },
            "text/plain": [
              "VBox(children=(Label(value='Waiting for wandb.init()...\\r'), FloatProgress(value=0.011161865277164099, max=1.0…"
            ]
          },
          "metadata": {},
          "output_type": "display_data"
        },
        {
          "data": {
            "text/html": [
              "Tracking run with wandb version 0.17.0"
            ],
            "text/plain": [
              "<IPython.core.display.HTML object>"
            ]
          },
          "metadata": {},
          "output_type": "display_data"
        },
        {
          "data": {
            "text/html": [
              "Run data is saved locally in <code>/Users/jiezhou/code/ai-maker/AIE3/Week 2/Day 1/wandb/run-20240605_023759-y8l9w6n3</code>"
            ],
            "text/plain": [
              "<IPython.core.display.HTML object>"
            ]
          },
          "metadata": {},
          "output_type": "display_data"
        },
        {
          "data": {
            "text/html": [
              "Syncing run <strong><a href='https://wandb.ai/jzunit/Visibility%20Example%20-%20AIE3/runs/y8l9w6n3' target=\"_blank\">restful-universe-1</a></strong> to <a href='https://wandb.ai/jzunit/Visibility%20Example%20-%20AIE3' target=\"_blank\">Weights & Biases</a> (<a href='https://wandb.me/run' target=\"_blank\">docs</a>)<br/>"
            ],
            "text/plain": [
              "<IPython.core.display.HTML object>"
            ]
          },
          "metadata": {},
          "output_type": "display_data"
        },
        {
          "data": {
            "text/html": [
              " View project at <a href='https://wandb.ai/jzunit/Visibility%20Example%20-%20AIE3' target=\"_blank\">https://wandb.ai/jzunit/Visibility%20Example%20-%20AIE3</a>"
            ],
            "text/plain": [
              "<IPython.core.display.HTML object>"
            ]
          },
          "metadata": {},
          "output_type": "display_data"
        },
        {
          "data": {
            "text/html": [
              " View run at <a href='https://wandb.ai/jzunit/Visibility%20Example%20-%20AIE3/runs/y8l9w6n3' target=\"_blank\">https://wandb.ai/jzunit/Visibility%20Example%20-%20AIE3/runs/y8l9w6n3</a>"
            ],
            "text/plain": [
              "<IPython.core.display.HTML object>"
            ]
          },
          "metadata": {},
          "output_type": "display_data"
        },
        {
          "data": {
            "text/html": [
              "<button onClick=\"this.nextSibling.style.display='block';this.style.display='none';\">Display W&B run</button><iframe src='https://wandb.ai/jzunit/Visibility%20Example%20-%20AIE3/runs/y8l9w6n3?jupyter=true' style='border:none;width:100%;height:420px;display:none;'></iframe>"
            ],
            "text/plain": [
              "<wandb.sdk.wandb_run.Run at 0x137958510>"
            ]
          },
          "execution_count": 32,
          "metadata": {},
          "output_type": "execute_result"
        }
      ],
      "source": [
        "import wandb\n",
        "\n",
        "wandb.init(project=\"Visibility Example - AIE3\")"
      ]
    },
    {
      "cell_type": "markdown",
      "metadata": {
        "id": "iezOc48XR6yz"
      },
      "source": [
        "Now we can integrate Weights and Biases into our `RetrievalAugmentedQAPipeline`.\n",
        "\n",
        "```python\n",
        "if self.wandb_project:\n",
        "            root_span = Trace(\n",
        "                name=\"root_span\",\n",
        "                kind=\"llm\",\n",
        "                status_code=status,\n",
        "                status_message=status_message,\n",
        "                start_time_ms=start_time,\n",
        "                end_time_ms=end_time,\n",
        "                metadata={\n",
        "                    \"token_usage\" : token_usage\n",
        "                },\n",
        "                inputs= {\"system_prompt\" : formatted_system_prompt, \"user_prompt\" : formatted_user_prompt},\n",
        "                outputs= {\"response\" : response_text}\n",
        "            )\n",
        "\n",
        "            root_span.log(name=\"openai_trace\")\n",
        "```\n",
        "\n",
        "The main things to consider here are how to populate the various fields to make sure we're tracking useful information.\n",
        "\n",
        "We'll use the `text_only` flag to ensure we can get detailed information about our LLM call!\n",
        "\n",
        "You can check out all the parameters for Weights and Biases `Trace` [here](https://github.com/wandb/wandb/blob/653015a014281f45770aaf43627f64d9c4f04a32/wandb/sdk/data_types/trace_tree.py#L166)"
      ]
    },
    {
      "cell_type": "code",
      "execution_count": 83,
      "metadata": {
        "id": "fqe4D27QR6yz"
      },
      "outputs": [
        {
          "ename": "SyntaxError",
          "evalue": "dict unpacking cannot be used in dict comprehension (165404717.py, line 17)",
          "output_type": "error",
          "traceback": [
            "\u001b[0;36m  Cell \u001b[0;32mIn[83], line 17\u001b[0;36m\u001b[0m\n\u001b[0;31m    combined_query_context = { **context for text, k, context in context_list if isinstance(context, dict)  }\u001b[0m\n\u001b[0m                               ^\u001b[0m\n\u001b[0;31mSyntaxError\u001b[0m\u001b[0;31m:\u001b[0m dict unpacking cannot be used in dict comprehension\n"
          ]
        }
      ],
      "source": [
        "import datetime\n",
        "from wandb.sdk.data_types.trace_tree import Trace\n",
        "\n",
        "class RetrievalAugmentedGenerationPipeline:\n",
        "    def __init__(self, llm: ChatOpenAI(), vector_db_retriever: VectorDatabase, wandb_project = None) -> None:\n",
        "        self.llm = llm\n",
        "        self.vector_db_retriever = vector_db_retriever\n",
        "        self.wandb_project = wandb_project\n",
        "\n",
        "    def run_pipeline(self, user_query: str) -> str:\n",
        "        context_list = self.vector_db_retriever.search_by_text(user_query, k=4)\n",
        "\n",
        "        context_prompt = \"\"\n",
        "        for context in context_list:\n",
        "            context_prompt += context[0] + \"\\n\"\n",
        "\n",
        "        combined_query_context_list = [ context for text, k, context in context_list if isinstance(context, dict)  ]\n",
        "        combined_query_context = {k: v for d in combined_query_context_list for k, v in d.items()}\n",
        "\n",
        "        formatted_system_prompt = rag_prompt.create_message()\n",
        "\n",
        "        formatted_user_prompt = user_prompt.create_message(user_query=user_query, context=context_prompt)\n",
        "\n",
        "\n",
        "        start_time = datetime.datetime.now().timestamp() * 1000\n",
        "\n",
        "        try:\n",
        "            openai_response = self.llm.run([formatted_system_prompt, formatted_user_prompt], text_only=False)\n",
        "            end_time = datetime.datetime.now().timestamp() * 1000\n",
        "            status = \"success\"\n",
        "            status_message = (None, )\n",
        "            response_text = openai_response.choices[0].message.content\n",
        "            token_usage = dict(openai_response.usage)\n",
        "            model = openai_response.model\n",
        "\n",
        "        except Exception as e:\n",
        "            end_time = datetime.datetime.now().timestamp() * 1000\n",
        "            status = \"error\"\n",
        "            status_message = str(e)\n",
        "            response_text = \"\"\n",
        "            token_usage = {}\n",
        "            model = \"\"\n",
        "\n",
        "        if self.wandb_project:\n",
        "            root_span = Trace(\n",
        "                name=\"root_span\",\n",
        "                kind=\"llm\",\n",
        "                status_code=status,\n",
        "                status_message=status_message,\n",
        "                start_time_ms=start_time,\n",
        "                end_time_ms=end_time,\n",
        "                metadata={\n",
        "                    \"token_usage\" : token_usage,\n",
        "                    \"model_name\" : model,\n",
        "                    \"context\": combined_query_context\n",
        "                },\n",
        "                inputs= {\"system_prompt\" : formatted_system_prompt, \"user_prompt\" : formatted_user_prompt},\n",
        "                outputs= {\"response\" : response_text}\n",
        "            )\n",
        "\n",
        "            root_span.log(name=\"openai_trace\")\n",
        "\n",
        "        return {\"response\" : self.llm.run([formatted_user_prompt, formatted_system_prompt]), \"context\" : context_list} if response_text else \"We ran into an error. Please try again later. Full Error Message: \" + status_message"
      ]
    },
    {
      "cell_type": "code",
      "execution_count": 34,
      "metadata": {
        "id": "aa1_0P1YR6yz"
      },
      "outputs": [],
      "source": [
        "retrieval_augmented_qa_pipeline = RetrievalAugmentedGenerationPipeline(\n",
        "    vector_db_retriever=vector_db,\n",
        "    llm=chat_openai,\n",
        "    wandb_project=\"LLM Visibility Example\"\n",
        ")"
      ]
    },
    {
      "cell_type": "code",
      "execution_count": 35,
      "metadata": {
        "colab": {
          "base_uri": "https://localhost:8080/"
        },
        "id": "OKSpyeg-R6yz",
        "outputId": "0d6358c9-4775-4734-f49d-851814de37c5"
      },
      "outputs": [
        {
          "data": {
            "text/plain": [
              "{'response': \"I don't know.\",\n",
              " 'context': [(\"e Xction\\nwith a distinctive horror overlay. Not for the squeamish, but\\nhighly inventive.\\nAsher’s primary work is the Polity series — Gridlinked, The\\nLine of Polity, Brass Man, and Polity Agent. The extended\\nstory of an enigmatic agent for the all-powerful artiXcial intelligences who rule the whole of human space, the Polity, these\\nnovels blend Ian Fleming with large-scale military combat,\\nadvanced theoretical xenobiology, nanotechnology gone badly\\nwrong, and war drones with bad attitudes. Most deXnitely entertaining.\\nFollow those up with The Skinner and The Voyage of the Sable\\nKeech, and then the delectable standalone novella Prador\\nMoon. One of the most distinctively imagined “bad bug” alien\\nraces, one of the most creative and lethal new worlds, and a historical scandal of horriXc proportions combine in a whirlwind\\nof violence and battle.\\nTop 10 science Dction novelists of the '00s ... so far (June 2007) 177\\nAsher is blogging as well!\\nChris Moriarty\\nGibson meets Heinlein (can you tell\",\n",
              "   0.1764024105161451),\n",
              "  (' Tendency\\nThe brain of man is programmed with a tendency to quickly\\nremove doubt by reaching some decision.\\nIt is easy to see how evolution would make animals, over the eons,\\ndria toward such quick elimination of doubt. Aaer all, the one\\nthing that is surely counterproductive for a prey animal that is\\nthreatened by a predator is to take a long time in deciding what to\\ndo…\\nSo pronounced is the tendency in man to quickly remove doubt\\nby reaching some decision that behavior to counter the tendency is\\nrequired from judges and jurors. Here, delay before decision making is forced. And one is required to so comport himself, prior to\\nconclusion time, so that he is wearing a “mask” of objectivity. And\\nthe “mask” works to help real objectivity along, as we shall see when\\nwe next consider man’s Inconsistency-Avoidance Tendency…\\nWhat triggers Doubt-Avoidance Tendency? Well, an unthreatened\\nman, thinking of nothing in particular, is not being prompted to\\nremove doubt through rushing to some decisio',\n",
              "   0.16625088832238252),\n",
              "  (\"ions combine in a whirlwind\\nof violence and battle.\\nTop 10 science Dction novelists of the '00s ... so far (June 2007) 177\\nAsher is blogging as well!\\nChris Moriarty\\nGibson meets Heinlein (can you tell I was a Heinlein fan growing up?) in a melange of science Xction themes, most particularly artiXcial intelligence, Xltered through a distinctly female\\npoint of view. A rapidly developing talent worth reading, and\\nwatching for future advances.\\nRead Spin State and then read Spin Control.\\nPeter Watts\\nWatts’ Xah novel, Blindsight, has put him on the map — a new\\ntale of alien contact, as conducted by a team of entitites from a\\nfuture Earth that will send a chill down your spine without even\\ngetting to the alien part.\\nDavid Marusek\\nMy last and Xnal entry of the top 10 is the one I am least certain\\nabout. Marusek is oW the charts in terms of creativity and inventiveness — in his debut novel, Counting Heads, he extrapolates\\nwith incredible verve and detail an Earth circa 2134 that is a\\nnear-utopi\",\n",
              "   0.16485516333552416),\n",
              "  ('how the kids mean it, and also in tone — the plot, which\\nspans about 100 years, is emotionally cold but amazingly inventive and highly likely to keep you up nights thinking hard about\\nwhere we’re all headed in the long run.\\nThe Atrocity Archives and The Jennifer Morgue, in contrast,\\nare highly entertaining shaggy dog stories about an IT guy\\nnamed Bob who gets draaed into mankind’s Xght against forces\\nof evil from another dimension — James Bond meets Call of\\nCthulhu meets The OZce.\\nFinally, Stross is also an active blogger with, let’s say, strong\\npoints of view.\\nRichard Morgan\\nMorgan writes outstanding, page-turning, highly inventive military- and detective-Yavored hard science Xction set in turbulent\\nworlds where hard men are faced with hard challenges.\\nAltered Carbon is deXnitely the place to start, Morgan’s Xrst and\\nperhaps most inventive novel, Robert Heinlein meets Raymond\\nChandler — and Xrst of a trio.\\n174 The Pmarca Blog Archives\\nBroken Angels is a strong followup that tilts more',\n",
              "   0.16047925637290927)]}"
            ]
          },
          "execution_count": 35,
          "metadata": {},
          "output_type": "execute_result"
        }
      ],
      "source": [
        "retrieval_augmented_qa_pipeline.run_pipeline(\"Who is Batman?\")"
      ]
    },
    {
      "cell_type": "code",
      "execution_count": 22,
      "metadata": {
        "colab": {
          "base_uri": "https://localhost:8080/"
        },
        "id": "SbB0xcCRR6yz",
        "outputId": "7ba2fc10-abbe-40ec-eca8-22e1116300a5"
      },
      "outputs": [
        {
          "data": {
            "text/plain": [
              "{'response': 'Some tips for being an effective CEO based on the provided context include:\\n\\n1. Nuke inefficient management: Remove ineffective managers and promote talented up-and-comers to key leadership positions.\\n2. Have a direct line to top talent: Ensure there is only one layer of management between you, as CEO, and the top up-and-coming managers.\\n3. Identify key priorities: Figure out the most important thing your company needs to win at and assign your best person to lead that effort.\\n4. Understand incentives: Use incentives like stock options wisely to motivate performance and align the interests of your executives with company goals.\\n\\nThese strategies emphasize the importance of strong leadership, strategic decision-making, and effective management practices for successful CEO performance.',\n",
              " 'context': [('management. Nuke as many of them as you can.\\nThen develop a list of your top 20 or 30 up and comers —\\nstrong, sharp, aggressive, ambitious director- or VP-level managers who want to succeed and want your company to succeed.\\nAnd promote them, and put them in sole charge of clearly identiXed teams and missions. (And give them big ol’ fresh option\\npackages.)\\nAs CEO, you should only have at most one executive between\\nyou and these 20 or 30 up and comers once you are done promoting them and putting them in charge of their teams and\\nmissions.\\nIf you don’t know who those top 20 or 30 up and comers are, if\\nyou don’t promote them, if you don’t put them clearly in charge\\nof the things that matter, or if you have more than one layer of\\n84 The Pmarca Blog Archives\\nmanagement between you and them when you’re done, you’re\\nprobably doomed.\\nStep 7: Figure out the single most important thing your company has\\nto win at, and put your single best person in charge of winning at it.\\n‘NuW said.\\nStep 8: Look ',\n",
              "   0.5589476401788288),\n",
              "  ('ure can be a very\\neWective form of incentive. This is greatly enabled and abetted\\nby transparency. People hate to be embarrassed in front of their\\npeer group, so if it’s crystal clear who’s performing well and who\\nisn’t, poor performers will be highly motivated to improve —\\nand if they’re not, that’s good to know, since obviously then you\\nreally need to Xre them.\\nFinally, any entrepreneur should be highly attuned to incentives\\nwhen hiring outside executives, especially a CEO. Hire a CEO\\nand give her a large stock-option grant with four-year vesting,\\nand you can guarantee she will sell the company in year four.\\nGive her a stock-option grant with accelerated vesting on\\nchange of control and she will sell the company sooner than\\nthat. Founders can get tripped up on this because they naturally\\nhave an emotional incentive to see the company succeed that\\nhired executives oaen do not share.\\nAnd of course, never get caught between a venture capitalist and\\nher incentives.\\nTwo: Liking/Loving Ten',\n",
              "   0.538434423951919),\n",
              "  (\".\\nSo, micromanagement is like Xne wine. A little at the right times\\nwill really enhance things; too much all the time and you’ll end\\nup in rehab.\\nPart 8: Hiring, managing, promoting, and Dring executives 67\\nPart 9: How to hire a professional\\nCEO\\nDon’t.\\nIf you don’t have anyone on your founding team who is capable\\nof being CEO, then sell your company — now.\\nHow to hire the best people you've\\never worked with\\nThere are many aspects to hiring great people, and various people smarter than me have written extensively on the topic.\\nSo I’m not going to try to be comprehensive.\\nBut I am going to relay some lessons learned through hard\\nexperience on how to hire the best people you’ve ever worked\\nwith — particularly for a startup.\\nI’m going to cover two key areas in this post:\\n• Criteria: what to value when evaluating candidates.\\n• And process: how to actually run the hiring process, and if\\nnecessary the aaermath of making a mistake.\\nCriteria 7rst\\nLots of people will tell you to hire for intelli\",\n",
              "   0.5373391100436945),\n",
              "  ('y cripple her function and sometimes the entire company. Therefore, it is far more important to Fre a bad executive as fast\\nas possible, versus a normal employee.\\nSolution? There isn’t one. It’s a permanent problem.\\nI once asked Andy Grove, one of the world’s all-time best CEOs,\\nabout this. He said, you always Xre a bad executive too late. If\\nyou’re really good, you’ll Xre her about three months too late.\\nBut you’ll always do it too late. If you did it fast enough that it\\nwasn’t too late, you wouldn’t have enough data, and you’d risk\\nbeing viewed as arbitrary and capricious by the rest of the organization.\\nSecond, the minute you have a bad feeling in your gut, start gathering\\ndata.\\nBack to the point on ruthlessly violating the chain of command\\n— get to it. Talk to everyone. Know what’s going on. Unless\\nyou’re paranoid — and, shockingly, I have met paranoid\\nfounders and CEOs, and not counting Andy Grove — you need\\nto gather the data because you’re going to need to Xre the executive — if',\n",
              "   0.5099766313122288)]}"
            ]
          },
          "execution_count": 22,
          "metadata": {},
          "output_type": "execute_result"
        }
      ],
      "source": [
        "retrieval_augmented_qa_pipeline.run_pipeline(\"What are some tips for being an effective CEO?\")"
      ]
    },
    {
      "cell_type": "markdown",
      "metadata": {
        "id": "QAkIW2qRR6yz"
      },
      "source": [
        "Navigate to the Weights and Biases \"run\" link to see how your LLM is performing!\n",
        "\n",
        "```\n",
        "View run at YOUR LINK HERE\n",
        "```"
      ]
    },
    {
      "cell_type": "markdown",
      "metadata": {
        "id": "sInZ32BoR6yz"
      },
      "source": [
        "#### ❓ Question #5:\n",
        "\n",
        "What is the `model_name` from the WandB `root_span` trace?"
      ]
    },
    {
      "cell_type": "markdown",
      "metadata": {
        "id": "Of8wJGalR6yz"
      },
      "source": [
        "## Task 7: RAG Evaluation Using GPT-4\n",
        "\n"
      ]
    },
    {
      "cell_type": "code",
      "execution_count": 36,
      "metadata": {
        "colab": {
          "base_uri": "https://localhost:8080/",
          "height": 330
        },
        "id": "PRNzzMurR6yz",
        "outputId": "0dcaf542-530c-480d-9dc6-a2931e8557e2"
      },
      "outputs": [
        {
          "name": "stdout",
          "output_type": "stream",
          "text": [
            "Based on the text provided, here are some tips for being an effective CEO:\n",
            "\n",
            "1. Nuke ineffective managers and promote strong, sharp, ambitious leaders: Identify and promote top-performing director- or VP-level managers who are driven to succeed.\n",
            "\n",
            "2. Keep a small leadership hierarchy: Limit the number of executives between yourself and the top performers in your company to ensure effective communication and decision-making.\n",
            "\n",
            "3. Focus on the most important goals: Determine the key objectives for your company and put your best person in charge of achieving those goals.\n",
            "\n",
            "4. Use incentives wisely: Use transparency and clear performance metrics to motivate employees to perform well. Address poor performance promptly and consider incentives when hiring outside executives, such as stock options with appropriate vesting terms.\n",
            "\n",
            "5. Avoid micromanagement: Allow your executives the freedom and responsibility to lead their teams effectively. Trust their abilities to manage and make decisions.\n",
            "\n",
            "6. Continuously gather and assess data: Stay informed about the progress and challenges within your organization by asking questions and seeking input from various levels of your team.\n",
            "\n",
            "In summary, focus on promoting top talent, setting clear objectives, using incentives effectively, trusting your team to lead, and staying informed about the company's performance to be an effective CEO.\n"
          ]
        },
        {
          "data": {
            "text/plain": [
              "'{\"clarity\": \"8\", \"faithfulness\": \"9\", \"correctness\": \"9\"}'"
            ]
          },
          "execution_count": 36,
          "metadata": {},
          "output_type": "execute_result"
        }
      ],
      "source": [
        "query = \"What are some tips for being an effective CEO?\"\n",
        "\n",
        "response = retrieval_augmented_qa_pipeline.run_pipeline(query)\n",
        "\n",
        "print(response[\"response\"])\n",
        "\n",
        "evaluator_system_template = \"\"\"You are an expert in analyzing the quality of a response.\n",
        "\n",
        "You should be hyper-critical.\n",
        "\n",
        "Provide scores (out of 10) for the following attributes:\n",
        "\n",
        "1. Clarity - how clear is the response\n",
        "2. Faithfulness - how related to the original query is the response and the provided context\n",
        "3. Correctness - was the response correct?\n",
        "\n",
        "Please take your time, and think through each item step-by-step, when you are done - please provide your response in the following JSON format:\n",
        "\n",
        "{\"clarity\" : \"score_out_of_10\", \"faithfulness\" : \"score_out_of_10\", \"correctness\" : \"score_out_of_10\"}\"\"\"\n",
        "\n",
        "evaluation_template = \"\"\"Query: {input}\n",
        "Context: {context}\n",
        "Response: {response}\"\"\"\n",
        "\n",
        "try:\n",
        "    chat_openai = ChatOpenAI(model_name=\"gpt-4-turbo\")\n",
        "except:\n",
        "    chat_openai = ChatOpenAI()\n",
        "\n",
        "evaluator_system_prompt = SystemRolePrompt(evaluator_system_template)\n",
        "evaluation_prompt = UserRolePrompt(evaluation_template)\n",
        "\n",
        "messages = [\n",
        "    evaluator_system_prompt.create_message(format=False),\n",
        "    evaluation_prompt.create_message(\n",
        "        input=query,\n",
        "        context=\"\\n\".join([context[0] for context in response[\"context\"]]),\n",
        "        response=response[\"response\"]\n",
        "    ),\n",
        "]\n",
        "\n",
        "chat_openai.run(messages, response_format={\"type\" : \"json_object\"})"
      ]
    },
    {
      "cell_type": "markdown",
      "metadata": {
        "id": "TNpauQmJR6yz"
      },
      "source": [
        "# Conclusion\n",
        "\n",
        "In this notebook, we've gone through the steps required to create your own simple RAQA application!\n",
        "\n",
        "Please feel free to extend this as much as you'd like."
      ]
    },
    {
      "cell_type": "code",
      "execution_count": 37,
      "metadata": {
        "colab": {
          "base_uri": "https://localhost:8080/",
          "height": 87,
          "referenced_widgets": [
            "bb904e05ece143c79ecc4f20de482f45",
            "3a4ba348cb004f8ab7b2b1395539c81b",
            "1ce393d9afcf427d9d352259c5d32678",
            "56a8e24025594e5e9ff3b8581c344691",
            "d2ea5009dd16442cb5d8a0ac468e50a8",
            "5f00135fe1044051a50ee5e841cbb8e3",
            "4e6efd99f7d346e485b002fb0fa85cc7",
            "3dfb67c39958461da6071e4c19c3fa41"
          ]
        },
        "id": "xzlxJbFtR6y0",
        "outputId": "d5789d16-c41c-4a3c-ac53-65640a0d3698"
      },
      "outputs": [
        {
          "data": {
            "application/vnd.jupyter.widget-view+json": {
              "model_id": "990eef6f796e4854a60d3dfdc1dbcfac",
              "version_major": 2,
              "version_minor": 0
            },
            "text/plain": [
              "VBox(children=(Label(value='0.001 MB of 0.001 MB uploaded\\r'), FloatProgress(value=1.0, max=1.0)))"
            ]
          },
          "metadata": {},
          "output_type": "display_data"
        },
        {
          "data": {
            "text/html": [
              " View run <strong style=\"color:#cdcd00\">restful-universe-1</strong> at: <a href='https://wandb.ai/jzunit/Visibility%20Example%20-%20AIE3/runs/y8l9w6n3' target=\"_blank\">https://wandb.ai/jzunit/Visibility%20Example%20-%20AIE3/runs/y8l9w6n3</a><br/> View project at: <a href='https://wandb.ai/jzunit/Visibility%20Example%20-%20AIE3' target=\"_blank\">https://wandb.ai/jzunit/Visibility%20Example%20-%20AIE3</a><br/>Synced 6 W&B file(s), 0 media file(s), 0 artifact file(s) and 0 other file(s)"
            ],
            "text/plain": [
              "<IPython.core.display.HTML object>"
            ]
          },
          "metadata": {},
          "output_type": "display_data"
        },
        {
          "data": {
            "text/html": [
              "Find logs at: <code>./wandb/run-20240605_023759-y8l9w6n3/logs</code>"
            ],
            "text/plain": [
              "<IPython.core.display.HTML object>"
            ]
          },
          "metadata": {},
          "output_type": "display_data"
        }
      ],
      "source": [
        "wandb.finish()"
      ]
    },
    {
      "cell_type": "code",
      "execution_count": 58,
      "metadata": {},
      "outputs": [
        {
          "name": "stdout",
          "output_type": "stream",
          "text": [
            "Started parsing the file under job_id 6c9b2ab4-8565-4313-a593-b86481b018a5\n",
            "[Document(id_='f8856dab-bf43-4003-967f-70619ab75f48', embedding=None, metadata={'file_path': 'data/PMarcaBlogs.pdf', 'file_name': 'PMarcaBlogs.pdf', 'file_type': 'application/pdf', 'file_size': 1342282, 'creation_date': '2024-06-05', 'last_modified_date': '2024-06-05'}, excluded_embed_metadata_keys=['file_name', 'file_type', 'file_size', 'creation_date', 'last_modified_date', 'last_accessed_date'], excluded_llm_metadata_keys=['file_name', 'file_type', 'file_size', 'creation_date', 'last_modified_date', 'last_accessed_date'], relationships={}, text=' product\\n         market\\nfit\\n The pmarcaBlog Acchives\\n---\\n# The Pmarca Blog Archives\\n\\n(select posts from 2007-2009)\\n\\nMarc Andreessen\\n\\nHTML:\\n---\\ncopyright: Andreessen Horowitz\\ncover design: Jessica Hagy\\nproduced using: Pressbooks\\n---\\n# Contents\\n\\n|THE PMARCA GUIDE TO STARTUPS|\\n|---|\\n|Part 1: Why not to do a startup|2|\\n|Part 2: When the VCs say \"no\"|10|\\n|Part 3: \"But I don\\'t know any VCs!\"|18|\\n|Part 4: The only thing that matters|25|\\n|Part 5: The Moby Dick theory of big companies|33|\\n|Part 6: How much funding is too little? Too much?|41|\\n|Part 7: Why a startup\\'s initial business plan doesn\\'t matter that much|49|\\n\\n|THE PMARCA GUIDE TO HIRING|\\n|---|\\n|Part 8: Hiring, managing, promoting, and Dring executives|54|\\n|Part 9: How to hire a professional CEO|68|\\n|How to hire the best people you\\'ve ever worked with|69|\\n\\n|THE PMARCA GUIDE TO BIG COMPANIES|\\n|---|\\n|Part 1: Turnaround!|82|\\n|Part 2: Retaining great people|86|\\n---\\n# Introduction\\n\\n# Part 1: Opportunity\\n\\n# Part 2: Skills and education\\n\\n# Part 3: Where to go and why\\n\\n# The Pmarca Guide to Personal Productivity\\n\\n# PSYCHOLOGY AND ENTREPRENEURSHIP\\n\\nThe Psychology of Entrepreneurial Misjudgment: Biases 1-6 - 142\\n\\nAge and the Entrepreneur: Some data - 154\\n\\nLuck and the entrepreneur: The four kinds of luck - 162\\n\\nSerial Entrepreneurs - 168\\n\\n# THE BACK PAGES\\n\\nTop 10 science fiction novelists of the \\'00s ... so far (June 2007) - 173\\n\\nBubbles on the brain (October 2009) - 180\\n\\nOK, you\\'re right, it IS a bubble (October 2009) - 186\\n---\\nThe Pmarca Guide to\\nStartups\\n---\\n# Part 1: Why not to do a startup\\n\\nIn this series of posts I will walk through some of my accumulated knowledge and experience in building high-tech startups.\\n\\nMy specific experience is from three companies I have co-founded: Netscape, sold to America Online in 1998 for $4.2 billion; Opsware (formerly Loudcloud), a public software company with an approximately $1 billion market cap; and now Ning, a new, private consumer Internet company.\\n\\nBut more generally, I’ve been fortunate enough to be involved in and exposed to a broad range of other startups — maybe 40 or 50 in enough detail to know what I’m talking about — since arriving in Silicon Valley in 1994: as a board member, as an angel investor, as an advisor, as a friend of various founders, and as a participant in various venture capital funds.\\n\\nThis series will focus on lessons learned from this entire cross-section of Silicon Valley startups — so don’t think that anything I am talking about is referring to one of my own companies: most likely when I talk about a scenario I have seen or something I have experienced, it is from some other startup that I am not naming but was involved with some other way than as a founder.\\n\\nFinally, much of my perspective is based on Silicon Valley and the environment that we have here — the culture, the people, the venture capital base, and so on. Some of it will travel well.\\n---\\n# Part 1: Why not to do a startup\\n\\nWith all that out of the way, let’s start at the beginning: why not to do a startup.\\n\\nStartups, even in the wake of the crash of 2000, have become imbued with a real mystique — you read a lot about how great it is to do a startup, how much fun it is, what with the getting to invent the future, all the free meals, foosball tables, and all the rest.\\n\\nNow, it is true that there are a lot of great things about doing a startup. They include, in my experience:\\n\\n- Most fundamentally, the opportunity to be in control of your own destiny — you get to succeed or fail on your own, and you don’t have some bozo telling you what to do. For a certain kind of personality, this alone is reason enough to do a startup.\\n- The opportunity to create something new — the proverbial blank sheet of paper. You have the ability — actually, the obligation — to imagine a product that does not yet exist and bring it into existence, without any of the constraints normally faced by larger companies.\\n- The opportunity to have an impact on the world — to give people a new way to communicate, a new way to share information, a new way to work together, or anything else you can think of that would make the world a better place. Think it should be easier for low-income people to borrow money? Start Prosper. Think television should be opened up to an infinite number of channels? Start Joost. Think that computers should be based on Unix and open standards and not proprietary technology? Start Sun.\\n- The ability to create your ideal culture and work with a dream team of people you get to assemble yourself. Want your culture to be based on people who have fun every day and enjoy working together? Or, are hyper-competitive both in work and play? Or, are super-focused on creating innovative new rocket science.\\n---\\n# The Pmarca Blog Archives\\n\\nTechnologies? Or, are global in perspective from day one? You get to choose, and to build your culture and team to suit.\\n\\nAnd finally, money — startups done right can of course be highly lucrative. This is not just an issue of personal greed — when things go right, your team and employees will themselves do very well and will be able to support their families, send their kids to college, and realize their dreams, and that’s really cool. And if you’re really lucky, you as the entrepreneur can ultimately make profound philanthropic gifts that change society for the better.\\n\\nHowever, there are many more reasons to not do a startup.\\n\\nFirst, and most importantly, realize that a startup puts you on an emotional rollercoaster unlike anything you have ever experienced.\\n\\nYou will flip rapidly from a day in which you are euphorically convinced you are going to own the world, to a day in which doom seems only weeks away and you feel completely ruined, and back again.\\n\\nOver and over and over.\\n\\nAnd I’m talking about what happens to stable entrepreneurs.\\n\\nThere is so much uncertainty and so much risk around practically everything you are doing. Will the product ship on time? Will it be fast enough? Will it have too many bugs? Will it be easy to use? Will anyone use it? Will your competitor beat you to market? Will you get any press coverage? Will anyone invest in the company? Will that key new engineer join? Will your key user interface designer quit and go to Google? And on and on and on…\\n\\nSome days things will go really well and some things will go really poorly. And the level of stress that you’re under generally will magnify those transient data points into incredible highs and unbelievable lows at whiplash speed and huge magnitude.\\n\\nSound like fun?\\n---\\n# Part 1: Why not to do a startup\\n\\nSecond, in a startup, absolutely nothing happens unless you make it happen.\\n\\nThis one throws both founders and employees new to startups.\\n\\nIn an established company — no matter how poorly run or demoralized — things happen. They just happen. People come in to work. Code gets written. User interfaces get designed. Servers get provisioned. Markets get analyzed. Pricing gets studied and determined. Sales calls get made. The wastebaskets get emptied. And so on.\\n\\nA startup has none of the established systems, rhythms, infrastructure that any established company has.\\n\\nIn a startup it is very easy for the code to not get written, for the user interfaces to not get designed… for people to not come into work… and for the wastebaskets to not get emptied.\\n\\nYou as the founder have to put all of these systems and routines and habits in place and get everyone actually rowing — forget even about rowing in the right direction: just rowing at all is hard enough at the start.\\n\\nAnd until you do, absolutely nothing happens.\\n\\nUnless, of course, you do it yourself.\\n\\nHave fun emptying those wastebaskets.\\n\\nThird, you get told no — a lot.\\n\\nUnless you’ve spent time in sales, you are probably not familiar with being told no a lot.\\n\\nIt’s not so much fun.\\n\\nGo watch Death of a Salesman and then Glengarry Glen Ross.\\n\\nThat’s roughly what it’s like.\\n\\nYou’re going to get told no by potential employees, potential investors, potential customers, potential partners, reporters, analysts…\\n---\\n# The Pmarca Blog Archives\\n\\nOver and over and over.\\n\\nAnd when you do get a “yes”, half the time you’ll get a call two days later and it’ll turn out the answer has morphed into “no”.\\n\\nBetter start working on your fake smile.\\n\\nFourth, hiring is a huge pain in the ass.\\n\\nYou will be amazed how many windowshoppers you’ll deal with.\\n\\nA lot of people think they want to be part of a startup, but when the time comes to leave their cushy job at HP or Apple, they flinch — and stay.\\n\\nGoing through the recruiting process and being seduced by a startup is heady stuff for your typical engineer or midlevel manager at a big company — you get to participate vicariously in the thrill of a startup without actually having to join or do any of the hard work.\\n\\nAs a founder of a startup trying to hire your team, you’ll run into this again and again.\\n\\nWhen Jim Clark decided to start a new company in 1994, I was one of about a dozen people at various Silicon Valley companies he was talking to about joining him in what became Netscape.\\n\\nI was the only one who went all the way to saying “yes” (largely because I was 22 and had no reason not to do it).\\n\\nThe rest flinched and didn’t do it.\\n\\nAnd this was Jim Clark, a legend in the industry who was coming off the most successful company in Silicon Valley in 1994 — Silicon Graphics Inc.\\n\\nHow easy do you think it’s going to be for you?\\n\\nThen, once you do get through the windowshoppers and actually hire some people, your success rate on hiring is probably not going to be higher than 50%, and that’s if you’re good at it.\\n\\nBy that I mean that half or more of the people you hire aren’t\\n---\\n# Part 1: Why not to do a startup\\n\\ngoing to work out. They’re going to be too lazy, too slow, easily rattled, political, bipolar, or psychotic.\\n\\nAnd then you have to either live with them, or Xre them.\\n\\nWhich ones of those sounds like fun?\\n\\nFiah, God help you, at some point you’re going to have to hire executives.\\n\\nYou think hiring employees is hard and risky — wait until you start hiring for VP Engineering, VP Marketing, VP Sales, VP HR, General Counsel, and CFO.\\n\\nSixth, the hours.\\n\\nThere’s been a lot of talk in Silicon Valley lately about work/life balance — about how you should be able to do a startup and simultaneously live a full and fulXlling outside life.\\n\\nNow, personally, I have a lot of sympathy for that point of view.\\n\\nAnd I try hard in my companies (well, at least my last two companies) to do whatever I can to help make sure that people aren’t ground down to little tiny spots on the Yoor by the workload and the hours.\\n\\nBut, it’s really diZcult.\\n\\nThe fact is that startups are incredibly intense experiences and take a lot out of people in the best of circumstances.\\n\\nAnd just because you want people to have work/life balance, it’s not so easy when you’re close to running out of cash, your product hasn’t shipped yet, your VC is mad at you, and your Kleiner Perkins-backed competitor in Menlo Park — you know, the one whose employees’ average age seems to be about 19 — is kicking your butt.\\n\\nWhich is what it’s going to be like most of the time.\\n\\nAnd even if you can help your employees have proper work/life balance, as a founder you certainly won’t.\\n---\\n# The Pmarca Blog Archives\\n\\n(In case you were wondering, by the way, the hours do compound the stress.)\\n\\nSeventh, it’s really easy for the culture of a startup to go sideways.\\n\\nThis combines the first and second items above.\\n\\nThis is the emotional rollercoaster wreaking havoc on not just you but your whole company.\\n\\nIt takes time for the culture of any company to become “set” — for the team of people who have come together for the first time to decide collectively what they’re all about, what they value — and how they look at challenge and adversity.\\n\\nIn the best case, you get an amazing dynamic of people really pulling together, supporting one another, and working their collective tails off in pursuit of a dream.\\n\\nIn the worst case, you end up with widespread, self-reinforcing bitterness, disillusionment, cynicism, bad morale, contempt for management, and depression.\\n\\nAnd you as the founder have much less influence over this than you’ll think you do.\\n\\nGuess which way it usually goes.\\n\\nEighth, there are lots of X factors that can come along and whup you right upside the head, and there’s absolutely nothing you can do about them.\\n\\nStock market crashes.\\n\\nTerrorist attacks.\\n\\nNatural disasters.\\n\\nA better funded startup with a more experienced team that’s been hard at work longer than you have, in stealth mode, that unexpectedly releases a product that swiftly comes to dominate your market, completely closing off your opportunity, and you had no idea they were even working on it.\\n---\\n# Part 1: Why not to do a startup\\n\\nAt best, any given X factor might slam shut the fundraising window, cause customers to delay or cancel purchases — or, at worst, shut down your whole company.\\n\\nRussian mobsters laundering millions of dollars of dirty money through your service, resulting in the credit card companies closing you down.\\n\\nYou think I’m joking about that one?\\n\\nOK, now here’s the best part:\\n\\nI haven’t even talked about figuring out what product to build, building it, taking it to market, and standing out from the crowd.\\n\\nAll the risks in the core activities of what your company actually does are yet to come, and to be discussed in future posts in this series.\\n---\\nPart 2: When the VCs say \"no\"\\n\\nThis post is about what to do between when the VCs say “no” to funding your startup, and when you either change their minds or find some other path.\\n\\nI’m going to assume that you’ve done all the basics: developed a plan and a pitch, decided that venture financing is right for you and you are right for venture financing, lined up meetings with properly qualified VCs, and made your pitch.\\n\\nAnd the answer has come back and it’s “no”.\\n\\nOne “no” doesn’t mean anything — the VC could just be having a bad day, or she had a bad experience with another company in your category, or she had a bad experience with another company with a similar name, or she had a bad experience with another founder who kind of looks like you, or her Mercedes SLR McLaren’s engine could have blown up on the freeway that morning — it could be anything. Go meet with more VCs.\\n\\nIf you meet with three VCs and they all say “no”, it could just be a big coincidence. Go meet with more VCs.\\n\\nIf you meet with five, or six, or eight VCs and they all say no, it’s not a coincidence.\\n\\nThere is something wrong with your plan.\\n\\nOr, even if there isn’t, there might as well be, because you’re still not getting funded.\\n---\\n# Part 2: When the VCs say \"no\"\\n\\nMeeting with more VCs after a bunch have said no is probably a waste of time. Instead, retool your plan — which is what this post is about.\\n\\nBut first, lay the groundwork to go back in later.\\n\\nIt’s an old — and true — cliche that VCs rarely actually say “no” — more often they say “maybe”, or “not right now”, or “my partners aren’t sure”, or “that’s interesting, let me think about it”.\\n\\nThey do that because they don’t want to invest in your company given the current facts, but they want to keep the door open in case the facts change.\\n\\nAnd that’s exactly what you want — you want to be able to go back to them with a new set of facts, and change their minds, and get to “yes”.\\n\\nSo be sure to take “no” gracefully — politely ask them for feedback (which they probably won’t give you, at least not completely honestly — nobody likes calling someone else’s baby ugly — believe me, I’ve done it), thank them for their time, and ask if you can call them again if things change.\\n\\nTrust me — they’d much rather be saying “yes” than “no” — they need all the good investments they can get.\\n\\nSecond, consider the environment.\\n\\nBeing told “no” by VCs in 1999 is a lot different than being told “no” in 2002.\\n\\nIf you were told “no” in 1999, I’m sure you’re a wonderful person and you have huge potential and your mother loves you very much, but your plan really was seriously flawed.\\n\\nIf you were told “no” in 2002, you probably actually were the next Google, but most of the VCs were hiding under their desks and they just missed it.\\n\\nIn my opinion, we’re now in a much more rational environment than either of those extremes — a lot of good plans are being funded, along with some bad ones, but not all the bad ones.\\n---\\n# The Pmarca Blog Archives\\n\\nI’ll proceed under the assumption that we’re in normal times. But if things get truly euphoric or truly funereal again, the rest of this post will probably not be very helpful — in either case.\\n\\nThird, retool your plan.\\n\\nThis is the hard part — changing the facts of your plan and what you are trying to do, to make your company more fundable.\\n\\nTo describe the dimensions that you should consider as you contemplate retooling your plan, let me introduce the onion theory of risk.\\n\\nIf you’re an investor, you look at the risk around an investment as if it’s an onion. Just like you peel an onion and remove each layer in turn, risk in a startup investment comes in layers that get peeled away — reduced — one by one.\\n\\nYour challenge as an entrepreneur trying to raise venture capital is to keep peeling layers of risk oW of your particular onion until the VCs say “yes” — until the risk in your startup is reduced to the point where investing in your startup doesn’t look terrifying and merely looks risky.\\n\\nWhat are the layers of risk for a high-tech startup?\\n\\nIt depends on the startup, but here are some of the common ones:\\n\\n- Founder risk — does the startup have the right founding team? A common founding team might include a great technologist, plus someone who can run the company, at least to start. Is the technologist really all that? Is the business person capable of running the company? Is the business person missing from the team altogether? Is it a business person or business people with no technologist, and therefore virtually unfundable?\\n- Market risk — is there a market for the product (using the term product and service interchangeably)? Will anyone want it? Will they pay for it? How much will they pay? How do we know?\\n---\\n# Part 2: When the VCs say \"no\"\\n\\n|Competition risk|— are there too many other startups already doing this? Is this startup sufficiently differentiated from the other startups, and also differentiated from any large incumbents?|\\n|---|---|\\n|Timing risk|— is it too early? Is it too late?|\\n|Financing risk|— after we invest in this round, how many additional rounds of financing will be required for the company to become profitable, and what will the dollar total be? How certain are we about these estimates? How do we know?|\\n|Marketing risk|— will this startup be able to cut through the noise? How much will marketing cost? Do the economics of customer acquisition — the cost to acquire a customer, and the revenue that customer will generate — work?|\\n|Distribution risk|— does this startup need certain distribution partners to succeed? Will it be able to get them? How? (For example, this is a common problem with mobile startups that need deals with major mobile carriers to succeed.)|\\n|Technology risk|— can the product be built? Does it involve rocket science — or an equivalent, like artificial intelligence or natural language processing? Are there fundamental breakthroughs that need to happen? If so, how certain are we that they will happen, or that this team will be able to make them?|\\n|Product risk|— even assuming the product can in theory be built, can this team build it?|\\n|Hiring risk|— what positions does the startup need to hire for in order to execute its plan? E.g. a startup planning to build a high-scale web service will need a VP of Operations — will the founding team be able to hire a good one?|\\n|Location risk|— where is the startup located? Can it hire the right talent in that location? And will I as the VC need to drive more than 20 minutes in my Mercedes SLR McLaren to get there?|\\n\\nYou know, when you stack up all these layers and look at the\\n---\\n# The Pmarca Blog Archives\\n\\nFull onion, you realize it’s amazing that any venture investments ever get made.\\n\\nWhat you need to do is take a hard-headed look at each of these risks — and any others that are specific to your startup and its category — and put yourself in the VC’s shoes: what could this startup do to minimize or eliminate enough of these risks to make the company fundable?\\n\\nThen do those things.\\n\\nThis isn’t very much fun, since it will probably involve making significant changes to your plan, but look on the bright side: it’s excellent practice for when your company ultimately goes public and has to file an S1 registration statement with the SEC, in which you have to itemize in huge detail every conceivable risk and bad thing that could ever possibly happen to you, up to and including global warming.\\n\\nSome ideas on reducing risk:\\n\\n- Founder risk — the tough one. If you’re the technologist on a founding team with a business person, you have to consider the possibility that the VCs don’t think the business person is strong enough to be the founding CEO. Or vice versa, maybe they think the technologist isn’t strong enough to build the product. You may have to swap out one or more founders, and/or add one or more founders.\\n- I put this one right up front because it can be a huge issue and the odds of someone being honest with you about it in the specific are not that high.\\n- Market risk — you probably need to validate the market, at a practical level. Sometimes more detailed and analytical market research will solve the problem, but more often you actually need to go get some customers to demonstrate that the market exists. Preferably, paying customers. Or at least credible prospects who will talk to VCs to validate the market hypothesis.\\n- Competition risk — is your differentiation really sharp enough?\\n---\\n# Part 2: When the VCs say \"no\"\\n\\nRethink this one from the ground up. Lots of startups do not have strong enough differentiation out of the gate, even after they get funded. If you don’t have a really solid idea as to how you’re dramatically different from or advantaged over known and unknown competitors, you might not want to start a company in the first place.\\n\\nTwo additional points on competition risk that founders routinely screw up in VC pitches:\\n\\nNever, ever say that you have no competitors. That signals naivete. Great markets draw competitors, and so if you really have no competition, you must not be in a great market. Even if you really believe you have no competitors, create a competitive landscape slide with adjacent companies in related market segments and be ready to talk crisply about how you are like and unlike those adjacent companies.\\n\\nAnd never, ever say your market projections indicate you’re going to be hugely successful if you get only 2% of your (extremely large) market. That also signals naivete. If you’re going after 2% of a large market, that means the presumably larger companies that are going to take the other 98% are going to kill you. You have to have a theory for how you’re going to get a significantly higher market share than 2%. (I pick 2% because that’s the cliche, but if you’re a VC, you’ve probably heard someone use it.)\\n\\nTiming risk — the only thing to do here is to make more progress, and demonstrate that you’re not too early or too late. Getting customers in the bag is the most valuable thing you can do on this one.\\n\\nFinancing risk — rethink very carefully how much money you will need to raise after this round of financing, and try to change the plan in plausible ways to require less money. For example, only serve Cristal at your launch party, and not Remy Martin “Black Pearl” Louis XIII cognac.\\n\\nMarketing risk — first, make sure your differentiation is super-\\n---\\n# The Pmarca Blog Archives\\n\\nSharp, because without that, you probably won’t be able to stand out from the noise.\\n\\nThen, model out your customer acquisition economics in detail and make sure that you can show how you’ll get more revenue from a customer than it will cost in sales and marketing expense to acquire that customer. This is a common problem for startups pursuing the small business market, for example.\\n\\nIf it turns out you need a lot of money in absolute terms for marketing, look for alternate approaches — perhaps guerilla marketing, or some form of virality.\\n\\nDistribution risk — this is a very tough one — if your plan has distribution risk, which is to say you need a key distribution partner to make it work, personally I’d recommend shelving the plan and doing something else. Otherwise, you may need to go get the distribution deal before you can raise money, which is almost impossible.\\n\\nTechnology risk — there’s only one way around this, which is to build the product, or at least get it to beta, and then raise money.\\n\\nProduct risk — same answer — build it.\\n\\nHiring risk — the best way to address this is to figure out which position/positions the VCs are worried about, and add it/them to the founding team. This will mean additional dilution for you, but it’s probably the only way to solve the problem.\\n\\nLocation risk — this is the one you’re really not going to like. If you’re not in a major center of entrepreneurialism and you’re having trouble raising money, you probably need to move. There’s a reason why most films get made in Los Angeles, and there’s a reason most venture-backed US tech startups happen in Silicon Valley and handful of other places — that’s where the money is. You can start a company wherever you want, but you may not be able to get it funded there.\\n\\nYou’ll notice that a lot of what you may need to do is kick the ball further down the road — make more progress against your plan before you raise venture capital.\\n---\\n# Part 2: When the VCs say \"no\"\\n\\nThis obviously raises the issue of how you’re supposed to do that before you’ve raised money.\\n\\nTry to raise angel money, or bootstrap off initial customers or consulting contracts, or work on it after hours while keeping your current job, or quit your job and live off credit cards for a while.\\n\\nLots of entrepreneurs have done these things and succeeded — and of course, many have failed.\\n\\nNobody said this would be easy.\\n\\nThe most valuable thing you can do is actually build your product. When in doubt, focus on that.\\n\\nThe next most valuable thing you can do is get customers — or, for a consumer Internet service, establish a pattern of page view growth.\\n\\nThe whole theory of venture capital is that VCs are investing in risk — another term for venture capital is “risk capital” — but the reality is that VCs will only take on so much risk, and the best thing you can do to optimize your chances of raising money is to take out risk.\\n\\nPeel away at the onion.\\n\\nThen, once you’ve done that, recreate the pitch around the new facts. Go do the pitches again. And repeat as necessary.\\n\\nAnd to end on a happy note, remember that “yes” can turn into “no” at any point up until the cash hits your company’s bank account.\\n\\nSo keep your options open all the way to the end.\\n---\\nPart 3: \"But I don\\'t know any VCs!\"\\n\\nIn my last post in this series, When the VCs say “no”, I discussed what to do once you have been turned down for venture funding for the first time.\\n\\nHowever, this presupposes you’ve been able to pitch VCs in the first place. What if you have a startup for which you’d like to raise venture funding, but you don’t know any VCs?\\n\\nI can certainly sympathize with this problem — when I was in college working on Mosaic at the University of Illinois, the term “venture capital” might as well have been “klaatu barada nikto” for all I knew. I had never met a venture capitalist, no venture capitalist had ever talked to me, and I wouldn’t have recognized one if I’d stumbled over his checkbook on the sidewalk. Without Jim Clark, I’m not at all certain I would have been able to raise money to start a company like Netscape, had it even occurred to me to start a company in the first place.\\n\\nThe starting point for raising money from VCs when you don’t know any VCs is to realize that VCs work mostly through referrals — they hear about a promising startup or entrepreneur from someone they have worked with before, like another entrepreneur, an executive or engineer at one of the startups they have funded, or an angel investor with whom they have previously co-invested.\\n\\nThe reason for this is simply the math: any individual VC can only fund a few companies per year, and for every one she\\n---\\n# Part 3: \"But I don\\'t know any VCs!\"\\n\\nFunds, she probably meets with 15 or 20, and there are hundreds more that would like to meet with her that she doesn’t possibly have time to meet with. She has to rely on her network to help her screen the hundreds down to 15 or 20, so she can spend her time finding the right one out of the 15 or 20.\\n\\nTherefore, submitting a business plan “over the transom”, or unsolicited, to a venture firm is likely to amount to just as much as submitting a screenplay “over the transom” to a Hollywood talent agency — that is, precisely nothing.\\n\\nSo the primary trick becomes getting yourself into a position where you’re one of the 15 or 20 a particular venture capitalist is meeting with based on referrals from her network, not one of the hundreds of people who don’t come recommended by anyone and whom she has no intention of meeting.\\n\\nBut before you think about doing that, the first order of business is to (paraphrasing for a family audience) “have your stuff together” — create and develop your plan, your presentation, and your supporting materials so that when you do meet with a VC, you impress her right out of the gate as bringing her a fundable startup founded by someone who knows what he — that’s you — is doing.\\n\\nMy recommendation is to read up on all the things you should do to put together a really effective business plan and presentation, and then pretend you have already been turned down once — then go back to my last post and go through all the different things you should anticipate and fix before you actually do walk through the door.\\n\\nOne of the reasons VCs only meet with startups through their networks is because too many of the hundreds of other startups that they could meet with come across as amateurish and uninformed, and therefore not fundable, when they do take meetings with them. So you have a big opportunity to cut through the noise by making a great first impression — which requires really thinking things through ahead of time and doing all the hard work up front to really make your pitch and plan a masterpiece.\\n---\\n# The Pmarca Blog Archives\\n\\nWorking backwards from that, the best thing you can walk in with is a working product. Or, if you can’t get to a working product without raising venture funding, then at least a beta or prototype of some form — a web site that works but hasn’t launched, or a software mockup with partial functionality, or something. And of course it’s even better if you walk in with existing “traction” of some form — customers, beta customers, some evidence of adoption by Internet users, whatever is appropriate for your particular startup.\\n\\nWith a working product that could be the foundation of a fundable startup, you have a much better chance of getting funded once you do get in the door. Back to my rule of thumb from the last post: when in doubt, work on the product.\\n\\nFailing a working product and ideally customers or users, be sure to have as fleshed out a presentation as you possibly can — including mockups, screenshots, market analyses, customer research such as interviews with real prospects, and the like.\\n\\nDon’t bother with a long detailed written business plan. Most VCs will either fund a startup based on a fleshed out Powerpoint presentation of about 20 slides, or they won’t fund it at all. Corollary: any VC who requires a long detailed written business plan is probably not the right VC to be working with.\\n\\nNext: qualify, qualify, qualify. Do extensive research on venture capitalists and find the ones who focus on the sector relevant to your startup. It is completely counterproductive to everyone involved for you to pitch a health care VC on a consumer Internet startup, or vice versa. Individual VCs are usually quite focused in the kinds of companies they are looking for, and identifying those VCs and screening out all the others is absolutely key.\\n\\nNow, on to developing contacts\\n\\nThe best way to develop contacts with VCs, in my opinion, is to work at a venture-backed startup, kick butt, get promoted, and network the whole way.\\n---\\n# Part 3: \"But I don\\'t know any VCs!\"\\n\\nIf you can’t get hired by a venture-backed startup right now, work at a well-regarded large tech company that employs a lot of people like Google or Apple, gain experience, and then go to work at a venture-backed startup, kick butt, get promoted, and network the whole way.\\n\\nAnd if you can’t get hired by a well-regarded large tech company, go get a bachelor’s or master’s degree at a major research university from which well-regarded large tech companies regularly recruit, then work at a well-regarded large tech company that employs a lot of people like Google or Apple, gain experience, and then go to work at a venture-backed startup, kick butt, get promoted, and network the whole way.\\n\\nI sound like I’m joking, but I’m completely serious — this is the path taken by many venture-backed entrepreneurs I know.\\n\\nSome alternate techniques that don’t take quite as long\\n\\nIf you’re still in school, immediately transfer to, or plan on going to graduate school at, a large research university with well-known connections to the venture capital community, like Stanford or MIT.\\n\\nGraduate students at Stanford are directly responsible for such companies as Sun, Cisco, Yahoo, and Google, so needless to say, Silicon Valley VCs are continually on the prowl on the Stanford engineering campus for the next Jerry Yang or Larry Page.\\n\\n(In contrast, the University of Illinois, where I went to school, is mostly prowled by mutant cold-weather cows.)\\n\\nAlternately, jump all over Y Combinator. This program, created by entrepreneur Paul Graham and his partners, funds early-stage startups in an organized program in Silicon Valley and Boston and then makes sure the good ones get in front of venture capitalists for follow-on funding. It’s a great idea and a huge opportunity for the people who participate in it.\\n---\\n# The Pmarca Blog Archives\\n\\nRead VC blogs — read them all, and read them very very carefully. VCs who blog are doing entrepreneurs a huge service both in conveying highly useful information as well as frequently putting themselves out there to be contacted by entrepreneurs in various ways including email, comments, and even uploaded podcasts. Each VC is different in terms of how she wants to engage with people online, but by all means read as many VC blogs as you can and interact with as many of them as you can in appropriate ways.\\n\\nAt the very least you will start to get a really good sense of which VCs who blog are interested in which kinds of companies.\\n\\nAt best, a VC blogger may encourage her readers to communicate with her in various ways, including soliciting email pitches in certain startup categories of interest to her.\\n\\nFred Wilson of Union Square Ventures has even gone so far as to encourage entrepreneurs to record and upload audio pitches for new ventures so he can listen to them on his IPod. I don’t know if he’s still doing that, but it’s worth reading his blog and finding out.\\n\\nAlong those lines, some VCs are aggressive early adopters of new forms of communication and interaction — current examples being Facebook and Twitter. Observationally, when a VC is exploring a new communication medium like Facebook or Twitter, she can be more interested in interacting with various people over that new medium than she might otherwise be. So, when such a new thing comes out — like, hint hint, Facebook or Twitter — jump all over it, see which VCs are using it, and interact with them that way — sensibly, of course.\\n\\nMore generally, it’s a good idea for entrepreneurs who are looking for funding to blog — about their startup, about interesting things going on, about their point of view. This puts an entrepreneur in the flow of conversation, which can lead to interaction with VCs through the normal medium of blogging. And, when a VC does decide to take a look at you and your company, she can read your blog to get a sense of who you are and\\n---\\n# Part 3: \"But I don\\'t know any VCs!\"\\n\\nhow you think. It’s another great opportunity to put forward a fantastic Xrst impression.\\n\\nFinally, if you are a programmer, I highly encourage you, if you have time, to create or contribute to a meaningful open source project. The open source movement is an amazing opportunity for programmers all over the world to not only build useful soaware that lots of people can use, but also build their own reputations completely apart from whatever day jobs they happen to have. Being able to email a VC and say, “I’m the creator of open source program X which has 50,000 users worldwide, and I want to tell you about my new startup” is a lot more eWective than your normal pitch.\\n\\nIf you engage in a set of these techniques over time, you should be able to interact with at least a few VCs in ways that they Xnd useful and that might lead to further conversations about funding, or even introductions to other VCs.\\n\\nI’m personally hoping that the next Google comes out of a VC being sent an email pitch aaer the entrepreneur read that VC’s blog. Then every VC on the planet will suddenly start blogging, overnight.\\n\\nIf none of those ideas work for you\\n\\nYour alternatives in reverse (declining) order of preference for funding are, in my view: angel funding, bootstrapping via consulting contracts or early customers, keeping your day job and working on your startup in your spare time, and credit card debt.\\n\\nAngel funding — funding from individuals who like to invest small amounts of money in early-stage startups, oaen before VCs come in — can be a great way to go since good angels know good VCs and will be eager to introduce you to them so that your company goes on to be successful for the angel as well as for you.\\n---\\n# The Pmarca Blog Archives\\n\\nThis of course begs the question of how to raise angel money, which is another topic altogether!\\n\\nI am not encouraging the other three alternatives — bootstrapping, working on it part time, or credit card debt. Each has serious problems. But, it is easy to name highly successful entrepreneurs who have followed each of those paths, so they are worth noting.\\n---\\n# Part 4: The only thing that matters\\n\\nThis post is all about the only thing that matters for a new startup.\\n\\nBut first, some theory:\\n\\nIf you look at a broad cross-section of startups — say, 30 or 40 or more; enough to screen out the pure Yukes and look for patterns — two obvious facts will jump out at you.\\n\\nFirst obvious fact: there is an incredibly wide divergence of success — some of those startups are insanely successful, some highly successful, many somewhat successful, and quite a few of course outright fail.\\n\\nSecond obvious fact: there is an incredibly wide divergence of caliber and quality for the three core elements of each startup — team, product, and market.\\n\\nAt any given startup, the team will range from outstanding to remarkably flawed; the product will range from a masterpiece of engineering to barely functional; and the market will range from booming to comatose.\\n\\nAnd so you start to wonder — what correlates the most to success — team, product, or market? Or, more bluntly, what causes success? And, for those of us who are students of startup failure — what’s most dangerous: a bad team, a weak product, or a poor market?\\n---\\n# The Pmarca Blog Archives\\n\\nLet’s start by defining terms.\\n\\nThe caliber of a startup team can be defined as the suitability of the CEO, senior staff, engineers, and other key staff relative to the opportunity in front of them.\\n\\nYou look at a startup and ask, will this team be able to optimally execute against their opportunity? I focus on effectiveness as opposed to experience, since the history of the tech industry is full of highly successful startups that were staffed primarily by people who had never “done it before”.\\n\\nThe quality of a startup’s product can be defined as how impressive the product is to one customer or user who actually uses it: How easy is the product to use? How feature-rich is it? How fast is it? How extensible is it? How polished is it? How many (or rather, how few) bugs does it have?\\n\\nThe size of a startup’s market is the number, and growth rate, of those customers or users for that product.\\n\\n(Let’s assume for this discussion that you can make money at scale — that the cost of acquiring a customer isn’t higher than the revenue that customer will generate.)\\n\\nSome people have been objecting to my classification as follows: “How great can a product be if nobody wants it?” In other words, isn’t the quality of a product defined by how appealing it is to lots of customers?\\n\\nNo. Product quality and market size are completely different.\\n\\nHere’s the classic scenario: the world’s best software application for an operating system nobody runs. Just ask any software developer targeting the market for BeOS, Amiga, OS/2, or NeXT applications what the difference is between a great product and big market.\\n\\nSo:\\n\\nIf you ask entrepreneurs or VCs which of team, product, or market is most important, many will say team. This is the obvious\\n---\\n# Part 4: The only thing that matters 27\\n\\nAnswer, in part because in the beginning of a startup, you know a lot more about the team than you do the product, which hasn’t been built yet, or the market, which hasn’t been explored yet.\\n\\nPlus, we’ve all been raised on slogans like “people are our most important asset” — at least in the US, pro-people sentiments permeate our culture, ranging from high school self-esteem programs to the Declaration of Independence’s inalienable rights to life, liberty, and the pursuit of happiness — so the answer that team is the most important feels right.\\n\\nAnd who wants to take the position that people don’t matter?\\n\\nOn the other hand, if you ask engineers, many will say product. This is a product business, startups invent products, customers buy and use the products. Apple and Google are the best companies in the industry today because they build the best products. Without the product there is no company. Just try having a great team and no product, or a great market and no product. What’s wrong with you? Now let me get back to work on the product.\\n\\nPersonally, I’ll take the third position — I’ll assert that market is the most important factor in a startup’s success or failure.\\n\\nWhy?\\n\\nIn a great market — a market with lots of real potential customers — the market pulls product out of the startup.\\n\\nThe market needs to be fulfilled and the market will be fulfilled, by the first viable product that comes along.\\n\\nThe product doesn’t need to be great; it just has to basically work. And, the market doesn’t care how good the team is, as long as the team can produce that viable product.\\n\\nIn short, customers are knocking down your door to get the product; the main goal is to actually answer the phone and respond to all the emails from people who want to buy.\\n---\\n# The Pmarca Blog Archives\\n\\nAnd when you have a great market, the team is remarkably easy to upgrade on the Yy.\\n\\nThis is the story of search keyword advertising, and Internet auctions, and TCP/IP routers.\\n\\nConversely, in a terrible market, you can have the best product in the world and an absolutely killer team, and it doesn’t matter — you’re going to fail.you’re going to fail\\n\\nYou’ll break your pick for years trying to Xnd customers who don’t exist for your marvelous product, and your wonderful team will eventually get demoralized and quit, and your startup will die.\\n\\nThis is the story of videoconferencing, and workYow soaware, and micropayments.\\n\\nIn honor of Andy RachleW, formerly of Benchmark Capital, who crystallized this formulation for me, let me present RachleE’s Law of Startup Success:\\n\\nThe #1 company-killer is lack of market.\\n\\nThe #1 company-killer is lack of market.\\n\\nAndy puts it this way:\\n\\n- When a great team meets a lousy market, market wins.\\n- When a lousy team meets a great market, market wins.\\n- When a great team meets a great market, something special happens.\\n\\nYou can obviously screw up a great market — and that has been done, and not infrequently — but assuming the team is baseline competent and the product is fundamentally acceptable, a great market will tend to equal success and a poor market will tend to equal failure. Market matters most.\\n\\nAnd neither a stellar team nor a fantastic product will redeem a bad market.\\n\\nOK, so what?\\n---\\n# Part 4: The only thing that matters\\n\\nWell, First question: Since team is the thing you have the most control over at the start, and everyone wants to have a great team, what does a great team actually get you?\\n\\nHopefully a great team gets you at least an OK product, and ideally a great product.\\n\\nHowever, I can name you a bunch of examples of great teams that totally screwed up their products. Great products are really, really hard to build.\\n\\nHopefully a great team also gets you a great market — but I can also name you lots of examples of great teams that executed brilliantly against terrible markets and failed. Markets that don’t exist don’t care how smart you are.\\n\\nIn my experience, the most frequent case of great team paired with bad product and/or terrible market is the second- or third-time entrepreneur whose first company was a huge success. People get cocky, and slip up. One highly successful software entrepreneur is burning through something like $80 million in venture funding in his latest startup and has practically nothing to show for it except for some great press clippings and a couple of beta customers — because there is virtually no market for what he is building.\\n\\nConversely, I can name you any number of weak teams whose startups were highly successful due to explosively large markets for what they were doing.\\n\\nFinally, to quote Tim Shephard: “A great team is a team that will always beat a mediocre team, given the same market and product.”\\n\\nSecond question: Can’t great products sometimes create huge new markets?\\n\\nAbsolutely.\\n\\nThis is a best case scenario, though.\\n\\nVMWare is the most recent company to have done it —\\n---\\n# The Pmarca Blog Archives\\n\\nVMWare’s product was so profoundly transformative out of the gate that it catalyzed a whole new movement toward operating system virtualization, which turns out to be a monster market.\\n\\nAnd of course, in this scenario, it also doesn’t really matter how good your team is, as long as the team is good enough to develop the product to the baseline level of quality the market requires and get it fundamentally to market.\\n\\nUnderstand I’m not saying that you should shoot low in terms of quality of team, or that VMWare’s team was not incredibly strong — it was, and is. I’m saying, bring a product as transformative as VMWare’s to market and you’re going to succeed, full stop.\\n\\nShort of that, I wouldn’t count on your product creating a new market from scratch.\\n\\nThird question: as a startup founder, what should I do about all this?\\n\\nLet’s introduce RachleE’s Corollary of Startup Success:\\n\\nThe only thing that matters is getting to product/market Ft.\\n\\nThe only thing that matters is getting to product/market Ft.\\n\\nProduct/market Xt means being in a good market with a product that can satisfy that market.\\n\\nYou can always feel when product/market Ft isn’t happening. The customers aren’t quite getting value out of the product, word of mouth isn’t spreading, usage isn’t growing that fast, press reviews are kind of “blah”, the sales cycle takes too long, and lots of deals never close.\\n\\nAnd you can always feel product/market Ft when it’s happening. The customers are buying the product just as fast as you can make it — or usage is growing just as fast as you can add more servers. Money from customers is piling up in your company checking account. You’re hiring sales and customer support staW as fast as you can. Reporters are calling because they’ve heard about your hot new thing and they want to talk to you about it. You start getting entrepreneur of the year awards from Harvard Busi-\\n---\\n# Part 4: The only thing that matters\\n\\nness School. Investment bankers are staking out your house. You could eat free for a year at Buck’s.\\n\\nLots of startups fail before product/market Ht ever happens.\\n\\nMy contention, in fact, is that they fail because they never get to product/market Xt.\\n\\nCarried a step further, I believe that the life of any startup can be divided into two parts: before product/market Ft (call this “BPMF”) and aMer product/market Ft (“APMF”).\\n\\nWhen you are BPMF, focus obsessively on getting to product/market Ht.\\n\\nDo whatever is required to get to product/market Ht. Including changing out people, rewriting your product, moving into a different market, telling customers no when you don’t want to, telling customers yes when you don’t want to, raising that fourth round of highly dilutive venture capital — whatever is required.\\n\\nWhen you get right down to it, you can ignore almost everything else.\\n\\nI’m not suggesting that you do ignore everything else — just that judging from what I’ve seen in successful startups, you can.\\n\\nWhenever you see a successful startup, you see one that has reached product/market Ht — and usually along the way screwed up all kinds of other things, from channel model to pipeline development strategy to marketing plan to press relations to compensation policies to the CEO sleeping with the venture capitalist. And the startup is still successful.\\n\\nConversely, you see a surprising number of really well-run startups that have all aspects of operations completely buttoned down, HR policies in place, great sales model, thoroughly thought-through marketing plan, great interview processes, outstanding catered food, 30\" monitors for all the programmers, top tier VCs on the board — heading straight oG a cliG due to not ever Hnding product/market Ht.\\n---\\n# The Pmarca Blog Archives\\n\\nIronically, once a startup is successful, and you ask the founders what made it successful, they will usually cite all kinds of things that had nothing to do with it. People are terrible at understanding causation. But in almost every case, the cause was actually product/market fit.\\n\\nBecause, really, what else could it possibly be?\\n\\n[Editorial note: this post obviously raises way more questions than it answers. How exactly do you go about getting to product/market fit if you don’t hit it right out of the gate? How do you evaluate markets for size and quality, especially before they’re fully formed? What actually makes a product “fit” a market? What role does timing play? How do you know when to change strategy and go after a different market or build a different product? When do you need to change out some or all of your team? And why can’t you count on a great team to build the right product and find the right market? All these topics will be discussed in future posts in this series.]\\n---\\nPart 5: The Moby Dick theory of big companies\\n\\n“There she blows,” was sung out from the mast-head.\\n\\n“Where away?” demanded the captain.\\n\\n“Three points oE the lee bow, sir.”\\n\\n“Raise up your wheel. Steady!” “Steady, sir.”\\n\\n“Mast-head ahoy! Do you see that whale now?”\\n\\n“Ay ay, sir! A shoal of Sperm Whales! There she blows! There she breaches!”\\n\\n“Sing out! sing out every time!”\\n\\n“Ay Ay, sir! There she blows! there — there — THAR she blows — bowes — bo-o-os!”\\n\\n“How far oE?”\\n\\n“Two miles and a half.”\\n\\n“Thunder and lightning! so near! Call all hands.”\\n\\nJ. Ross Browne’s Etchings of a Whaling Cruize, 1846\\n\\nThere are times in the life of a startup when you have to deal with big companies.\\n\\nMaybe you’re looking for a partnership or distribution deal. Perhaps you want an investment. Sometimes you want a marketing or sales alliance. From time to time you need a big com-\\n---\\n# The Pmarca Blog Archives\\n\\npany’s permission to do something. Or maybe a big company has approached you and says it wants to buy your startup.\\n\\nThe most important thing you need to know going into any discussion or interaction with a big company is that you’re Captain Ahab, and the big company is Moby Dick.\\n\\n“Scarcely had we proceeded two days on the sea, when about sunrise a great many Whales and other monsters of the sea, appeared. Among the former, one was of a most monstrous size. … This came towards us, open-mouthed, raising the waves on all sides, and beating the sea before him into a foam.”\\n\\n— Tooke’s Lucian, “The True History”\\n\\nWhen Captain Ahab went in search of the great white whale Moby Dick, he had absolutely no idea whether he would find Moby Dick, whether Moby Dick would allow himself to be found, whether Moby Dick would try to immediately capsize the ship or instead play cat and mouse, or whether Moby Dick was off mating with his giant whale girlfriend.\\n\\nWhat happened was entirely up to Moby Dick.\\n\\nAnd Captain Ahab would never be able explain to himself or anyone else why Moby Dick would do whatever it was he’d do.\\n\\nYou’re Captain Ahab, and the big company is Moby Dick.\\n\\n“Clap eye on Captain Ahab, young man, and thou wilt find that he has only one leg.”\\n\\n“What do you mean, sir? Was the other one lost by a whale?”\\n\\n“Lost by a whale! Young man, come nearer to me: it was devoured, chewed up, crunched by the monstrousest parmacetty that ever chipped a boat! — ah, ah!”\\n\\n— Moby Dick\\n\\nHere’s why:\\n\\nThe behavior of any big company is largely inexplicable when viewed from the outside.\\n---\\n# Part 5: The Moby Dick theory of big companies\\n\\nI always laugh when someone says, “Microsoft is going to do X”, or “Google is going to do Y”, or “Yahoo is going to do Z”.\\n\\nOdds are, nobody inside Microsoft, Google, or Yahoo knows what Microsoft, Google, or Yahoo is going to do in any given circumstance on any given issue.\\n\\nSure, maybe the CEO knows, if the issue is really big, but you’re probably not dealing at the CEO level, and so that doesn’t matter.\\n\\nThe inside of any big company is a very, very complex system consisting of many thousands of people, of whom at least hundreds and probably thousands are executives who think they have some level of decision-making authority.\\n\\nOn any given issue, many people inside the company are going to get some kind of vote on what happens — maybe 8 people, maybe 10, 15, 20, sometimes many more.\\n\\nWhen I was at IBM in the early 90’s, they had a formal decision-making process called “concurrence” — on any given issue, a written list of the 50 or so executives from all over the company who would be affected by the decision in any way, no matter how minor, would be assembled, and any one of those executives could “nonconcur” and veto the decision. That’s an extreme case, but even a non-extreme version of this process — and all big companies have one; they have to — is mind-bendingly complex to try to understand, even from the inside, let alone the outside.\\n\\n“… and the breath of the whale is frequently attended with such an insupportable smell, as to bring on a disorder of the brain.”\\n\\n— Ulloa’s South America\\n\\nYou can count on there being a whole host of impinging forces that will affect the dynamic of decision-making on any issue at a big company.\\n\\nThe consensus building process, trade-offs, quid pro quo, politics, rivalries, arguments, mentorships, revenge for past wrongs,\\n---\\n# The Pmarca Blog Archives\\n\\nturf-building, engineering groups, product managers, product marketers, sales, corporate marketing, finance, HR, legal, channels, business development, the strategy team, the international divisions, investors, Wall Street analysts, industry analysts, good press, bad press, press articles being written that you don’t know about, customers, prospects, lost sales, prospects on the fence, partners, this quarter’s sales numbers, this quarter’s margins, the bond rating, the planning meeting that happened last week, the planning meeting that got cancelled this week, bonus programs, people joining the company, people leaving the company, people getting fired by the company, people getting promoted, people getting sidelined, people getting demoted, who’s sleeping with whom, which dinner party the CEO went to last night, the guy who prepares the Powerpoint presentation for the staff meeting accidentally putting your startup’s name in too small a font to be read from the back of the conference room…\\n\\nYou can’t possibly even identify all the factors that will come to bear on a big company’s decision, much less try to understand them, much less try to influence them very much at all.\\n\\n“The larger whales, whalers seldom venture to attack. They stand in so great dread of some of them, that when out at sea they are afraid to mention even their names, and carry dung, lime-stone, juniper-wood, and some other articles of the same nature in their boats, in order to terrify and prevent their too near approach.”\\n\\n— Uno Von Troil’s Letters on Banks’s and Solander’s Voyage to Iceland In 1772\\n\\nBack to Moby Dick.\\n\\nMoby Dick might stalk you for three months, then jump out of the water and raise a huge ruckus, then vanish for six months, then come back and beach your whole boat, or alternately give you the clear shot you need to harpoon his giant butt.\\n\\nAnd you’re never going to know why.\\n\\nA big company might study you for three months, then approach you and tell you they want to invest in you or partner with you or buy you, then vanish for six months, then come out\\n---\\n# Part 5: The Moby Dick theory of big companies\\n\\nwith a directly competitive product that kills you, or alternately acquire you and make you and your whole team rich.\\n\\nAnd you’re never going to know why.\\n\\nThe upside of dealing with a big company is that there’s potentially a ton of whale meat in it for you.\\n\\nSorry, mixing my metaphors. The right deal with the right big company can have a huge impact on a startup’s success.\\n\\n“And what thing soever besides cometh within the chaos of this monster’s mouth, be it beast, boat, or stone, down it goes all incontinently that foul great swallow of his, and perisheth in the bottomless gulf of his paunch.”\\n\\n— Holland’s Plutarch’s Morals\\n\\nThe downside of dealing with a big company is that he can capsize you — maybe by stepping on you in one way or another and killing you, but more likely by wrapping you up in a bad partnership that ends up holding you back, or just making you waste a huge amount of time in meetings and get distracted from your core mission.\\n\\nSo what to do?\\n\\nFirst, don’t do startups that require deals with big companies to make them successful.\\n\\nThe risk of never getting those deals is way too high, no matter how hard you are willing to work at it.\\n\\nAnd even if you get the deals, they probably won’t work out the way you hoped.\\n\\n“‘Stern all!’ exclaimed the mate, as upon turning his head, he saw the distended jaws of a large Sperm Whale close to the head of the boat, threatening it with instant destruction; — ‘Stern all, for your lives!\\'”\\n\\n— Wharton the Whale Killer\\n\\nSecond, never assume that a deal with a big company is closed\\n---\\n# The Pmarca Blog Archives\\n\\nuntil the ink hits the paper and/or the cash hits the company bank account.\\n\\nThere is always something that can cause a deal that looks like it’s closed, to suddenly get blown to smithereens — or vanish without a trace.\\n\\nAt day-break, the three mast-heads were punctually manned afresh.\\n\\n“D’ye see him?” cried Ahab after allowing a little space for the light to spread.\\n\\n“See nothing, sir.”\\n\\n— Moby Dick\\n\\nThird, be extremely patient.\\n\\nBig companies play “hurry up and wait” all the time. In the last few years I’ve dealt with one big East Coast technology company in particular that has played “hurry up and wait” with me at least four separate times — including a mandatory immediate cross-country flight just to have dinner with the #2 executive — and has never followed through on anything.\\n\\nIf you want a deal with a big company, it is probably going to take a lot longer to put together than you think.\\n\\n“My God! Mr. Chace, what is the matter?” I answered, “we have been stove by a whale.”\\n\\n— “Narrative of the Shipwreck of the Whale Ship Essex of Nantucket, Which Was Attacked and Finally Destroyed by a Large Sperm Whale in the Pacific Ocean” by Owen Chace of Nantucket, First Mate of Said Vessel, New York, 1821\\n\\nFourth, beware bad deals.\\n\\nI am thinking of one startup right now that is extremely promising, has great technology and a unique offering, that did two big deals early with high-profile big company partners, and has become completely hamstrung in its ability to execute on its core business as a result.\\n---\\n# Part 5: The Moby Dick theory of big companies\\n\\nFiLh, never, ever assume a big company will do the obvious thing.\\n\\nWhat is obvious to you — or any outsider — is probably not obvious on the inside, once all the other factors that are involved are taken into account.\\n\\nSixth, be aware that big companies care a lot more about what other big companies are doing than what any startup is doing.\\n\\nHell, big companies often care a lot more about what other big companies are doing than they care about what their customers are doing.\\n\\nMoby Dick cared a lot more about what the other giant white whales were doing than those annoying little people in that Yimsy boat.\\n\\n“The Whale is harpooned to be sure; but bethink you, how you would manage a powerful unbroken colt, with the mere appliance of a rope tied to the root of his tail.”\\n\\n— A Chapter on Whaling in Ribs and Trucks\\n\\nSeventh, if doing deals with big companies is going to be a key part of your strategy, be sure to hire a real pro who has done it before.\\n\\nOnly the best and most experienced whalers had a chance at taking down Moby Dick.\\n\\nThis is why senior sales and business development people get paid a lot of money. They’re worth it.\\n\\n“Oh! Ahab,” cried Starbuck, “not too late is it, even now, the third day, to desist. See! Moby Dick seeks thee not. It is thou, thou, that madly seekest him!”\\n\\n— Moby Dick\\n\\nEighth, don’t get obsessed.\\n\\nDon’t turn into Captain Ahab.\\n\\nBy all means, talk to big companies about all kinds of things, but\\n---\\n# The Pmarca Blog Archives\\n\\nalways be ready to have the conversation just drop and to return to your core business.\\n\\nRare is the startup where a deal with a big company leads to success, or lack thereof leads to huge failure.\\n\\n(However, see also Microsoft and Digital Research circa 1981. Talk about a huge whale.)\\n\\nClosing thought:\\n\\nDiving beneath the settling ship, the whale ran quivering along its keel; but turning under water, swiftly shot to the surface again, far off the other bow, but within a few yards of Ahab’s boat, where, for a time, the whale lay quiescent.\\n\\n“…Towards thee I roll, thou all-destroying but unconquering whale; to the last I grapple with thee; from hell’s heart I stab at thee; for hate’s sake I spit my last breath at thee. Sink all coffins and all hearses to one common pool! and since neither can be mine, let me then tow to pieces, while still chasing thee, though tied to thee, thou damned whale! THUS, I give up the spear!”\\n\\nThe harpoon was darted; the stricken whale flew forward; with igniting velocity the line ran through the grooves; — ran foul. Ahab stooped to clear it; he did clear it; but the flying turn caught him round the neck, and voicelessly as Turkish mutes bowstring their victim, he was shot out of the boat, ere the crew knew he was gone.\\n\\n–Moby Dick\\n---\\nPart 6: How much funding is too little? Too much?\\n\\nIn this post, I answer these questions:\\n\\n- How much funding for a startup is too little?\\n- How much funding for a startup is too much?\\n- And how can you know, and what can you do about it?\\n\\nThe first question to ask is, what is the correct, or appropriate, correct amount of funding for a startup?\\n\\nThe answer to that question, in my view, is based my theory that a startup’s life can be divided into two parts — Before Product/Market Fit, and After Product/Market Fit.\\n\\nBefore Product/Market Fit, a startup should ideally raise at least enough money to get to Product/Market Fit.\\n\\nAfter Product/Market Fit, a startup should ideally raise at least enough money to fully exploit the opportunity in front of it, and then to get to profitability while still fully exploiting that opportunity.\\n\\nI will further argue that the definition of “at least enough money” in each case should include a substantial amount of extra money beyond your default plan, so that you can withstand bad surprises. In other words, insurance. This is partic-\\n---\\n# The Pmarca Blog Archives\\n\\nParticularly true for startups that have not yet achieved Product/Market Fit, since you have no real idea how long that will take.\\n\\nThese answers all sound obvious, but in my experience, a surprising number of startups go out to raise funding and do not have an underlying theory of how much money they are raising and for precisely what purpose they are raising it.\\n\\nWhat if you can’t raise that much money at once?\\n\\nObviously, many startups find that they cannot raise enough money at one time to accomplish these objectives — but I believe this is still the correct underlying theory for how much money a startup should raise and around which you should orient your thinking.\\n\\nIf you are Before Product/Market Fit and you can’t raise enough money in one shot to get to Product/Market Fit, then you will need get as far as you can on each round and demonstrate progress towards Product/Market Fit when you raise each new round.\\n\\nIf you are After Product/Market Fit and you can’t raise enough money in one shot to fully exploit your opportunity, you have a high-class problem and will probably — but not definitely — find that it gets continually easier to raise new money as you need it.\\n\\nWhat if you don’t want to raise that much money at once?\\n\\nYou can argue you should raise a smaller amount of money at a time, because if you are making progress — either BPMF or APMF — you can raise the rest of the money you need later, at a higher valuation, and give away less of the company.\\n\\nThis is the reason some entrepreneurs who can raise a lot of money choose to hold back.\\n---\\n# Part 6: How much funding is too little? Too much?\\n\\nHere’s why you shouldn’t do that:\\n\\nWhat are the consequences of not raising enough money?\\n\\nNot raising enough money risks the survival of your company, for the following reasons:\\n\\n- First, you may have — and probably will have — unanticipated setbacks within your business. Maybe a new product release slips, or you have unexpected quality issues, or one of your major customers goes bankrupt, or a challenging new competitor emerges, or you get sued by a big company for patent infringement, or you lose a key engineer.\\n- Second, the funding window may not be open when you need more money. Sometimes investors are highly enthusiastic about funding new businesses, and sometimes they’re just not. When they’re not — when the “window is shut”, as the saying goes — it is very hard to convince them otherwise, even though those are many of the best times to invest in startups because of the prevailing atmosphere of fear and dread that is holding everyone else back. Those of us who were in startups that lived through 2001-2003 know exactly what this can be like.\\n- Third, something completely unanticipated, and bad, might happen. Another major terrorist attack is the one that I frankly worry about the most. A superbug. All-out war in the Middle East. North Korea demonstrating the ability to launch a true nuclear-tipped ICBM. Giant Yaming meteorites. Such worst-case scenarios will not only close the funding window, they might keep it closed for a long time.\\n\\nFunny story: it turns out that a lot of Internet business models from the late 90’s that looked silly at the time actually work.\\n---\\n# The Pmarca Blog Archives\\n\\nreally well — either in their original form or with some tweaking.\\n\\nAnd there are quite a few startups from the late 90’s that are doing just great today — examples being OpenTable (which is about to go public) and TellMe (which recently sold itself to Microsoft for $800 million), and my own company Opsware — which would be bankrupt today if we hadn’t raised a ton of money when we could, and instead just did its first $100 million revenue year and has a roughly $1 billion public market value.\\n\\nI’ll go so far as to say that the big difference between the startups from that era that are doing well today versus the ones that no longer exist, is that the former group raised a ton of money when they could, and the latter did not.\\n\\nSo how much money should I raise?\\n\\nIn general, as much as you can. Without giving away control of your company, and without being insane.\\n\\nEntrepreneurs who try to play it too aggressive and hold back on raising money when they can because they think they can raise it later occasionally do very well, but are gambling their whole company on that strategy in addition to all the normal startup risks.\\n\\nSuppose you raise a lot of money and you do really well. You’ll be really happy and make a lot of money, even if you don’t make quite as much money as if you had rolled the dice and raised less money up front.\\n\\nSuppose you don’t raise a lot of money when you can and it backfires. You lose your company, and you’ll be really, really sad.\\n\\nIs it really worth that risk?\\n\\nThere is one additional consequence to raising a lot of money that you should bear in mind, although it is more important for some companies than others.\\n---\\n# Part 6: How much funding is too little? Too much?\\n\\nIn the scenario where your company ultimately gets acquired: the more money you raise from outside investors, the higher the acquisition price has to be for the founders and employees to make money on top of the initial payout to the investors.\\n\\nIn other words, raising a lot of money can make it much harder to effectively sell your company for less than a very high price, which you may not be able to get when the time comes.\\n\\nIf you are convinced that your company is going to get bought, and you don’t think the purchase price will be that high, then raising less money is a good idea purely in terms of optimizing for your own financial outcome. However, that strategy has lots of other risks and will be addressed in another entertaining post, to be entitled “Why building to Yip is a bad idea”.\\n\\nTaking these factors into account, though, in a normal scenario, raising more money rather than less usually makes sense, since you are buying yourself insurance against both internal and external potential bad events — and that is more important than worrying too much about dilution or liquidation preference.\\n\\n# How much money is too much?\\n\\nThere are downside consequences to raising too much money.\\n\\nI already discussed two of them — possibly incremental dilution (which I dismissed as a real concern in most situations), and possibly excessively high liquidation preference (which should be monitored but not obsessed over).\\n\\nThe big downside consequence to too much money, though, is cultural corrosion.\\n\\nYou don’t have to be in this industry very long before you run into the startup that has raised a ton of money and has become infected with a culture of complacency, laziness, and arrogance.\\n\\nRaising a ton of money feels really good — you feel like you’ve\\n---\\n# The Pmarca Blog Archives\\n\\ndone something, that you’ve accomplished something, that you’re successful when a lot of other people weren’t.\\n\\nAnd of course, none of those things are true.\\n\\nRaising money is never an accomplishment in and of itself — it just raises the stakes for all the hard work you would have had to do anyway: actually building your business.\\n\\nSome signs of cultural corrosion caused by raising too much money:\\n\\n• Hiring too many people — slows everyping down and makes it much harder for you to react and change. You are almost certainly setting yourself up for layoffs in pe future, even if you are successful, because you probably won’t accurately allocate pe hiring among functions for what you will really need as your business grows.\\n• Lazy management culture — it is easy for a management culture to get set where pe manager’s job is simply to hire people, and pen every oper aspect of management suffers, wip potentially disastrous long-term consequences to morale and effectiveness.\\n• Engineering team bloat — anoper side effect of hiring too many people; it’s very easy for engineering teams to get too large, and it happens very fast. And pen pe “Mypical Man Monp” effect kicks in and everyping slows to a crawl, your best people get frustrated and quit, and you’re in huge trouble.\\n• Lack of focus on product and customers — it’s a lot easier to not be completely obsessed wip your product and your customers when you have a lot of money in pe bank and don’t have to worry about your doors closing imminently.\\n• Too many salespeople too soon — out selling a product pat isn’t quite ready yet, hasn’t yet achieved Product/Market Fit — alienating early adopters and making it much harder to go back when pe product does get right.\\n• Product schedule slippage — what’s pe urgency? We have all\\n---\\n# Part 6: How much funding is too little? Too much?\\n\\nThis cash! Creating a golden opportunity for a smaller, scrappier startup to come along and kick your rear.\\n\\nSo what should you do if you do raise a lot of money?\\n\\nAs my old boss Jim Barksdale used to say, the main thing is to keep the main thing the main thing — be just as focused on product and customers when you raise a lot of money as you would be if you hadn’t raised a lot of money.\\n\\nEasy to say, hard to do, but worth it.\\n\\nContinue to run as lean as you can, bank as much of the money as possible, and save it for a rainy day — or a nuclear winter.\\n\\nTell everyone inside the company, over and over and over, until they can’t stand it anymore, and then tell them some more, that raising money does not count as an accomplishment and that you haven’t actually done anything yet other than raise the stakes and increase the pressure.\\n\\nIllustrate that point by staying as scrappy as possible on material items — office space, furniture, etc. The two areas to splurge, in my opinion, are big-screen monitors and ergonomic office chairs. Other than that, it should be Ikea all the way.\\n\\nThe easiest way to lose control of your spending when you raise too much money is to hire too many people. The second easiest way is to pay people too much. Worry more about the first one than the second one; more people multiply spending a lot faster than a few raises.\\n\\nGenerally speaking, act like you haven’t raised nearly as much money as you actually have — in how you talk, act, and spend.\\n\\nIn particular, pay close attention to deadlines. The easiest thing to go wrong when you raise a lot of money is that suddenly things don’t seem so urgent anymore. Oh, they are. Competitors still lurk behind every bush and every tree, metaphorically speaking. Keeping moving fast if you want to survive.\\n\\nThere are certain startups that raised an excessive amount of money.\\n---\\n# The Pmarca Blog Archives\\n\\nproceeded to spend it like drunken sailors, and went on to become hugely successful. Odds are, you’re not them. Don’t bet your company on it.\\n\\nThere are a lot more startups that raised an excessive amount of money, burned through it, and went under.\\n\\nRemember Geocast? General Magic? Microunity? HAL? Trilogy Systems?\\n\\nExactly.\\n---\\n# Part 7: Why a startup\\'s initial business plan doesn\\'t matter that much\\n\\nA startup’s initial business plan doesn’t matter that much, because it is very hard to determine up front exactly what combination of product and market will result in success.\\n\\nBy definition you will be doing something new, in a world that is a very uncertain place. You are simply probably not going to know whether your initial idea will work as a product and a business, or not. And you will probably have to rapidly evolve your plan — possibly every aspect of it — as you go.\\n\\n(The military has a saying that expresses the same concept — “No battle plan ever survives contact with the enemy.” In this case, your enemy is the world at large.)\\n\\nIt is therefore much more important for a startup to aggressively seek out a big market, and product/market fit within that market, once the startup is up and running, than it is to try to plan out what you are going to do in great detail ahead of time.\\n\\nThe history of successful startups is quite clear on this topic.\\n\\nNormally I would simply point to Microsoft, which started as a programming tools company before IBM all but forced Bill Gates to go into the operating system business, or Oracle, which was a consultancy for the CIA before Larry Ellison decided to\\n---\\n50 The Pmarca Blog Archives\\n\\nproductize the relational database, or Intel, which was a much smaller company focused on the memory chip market until the Japanese onslaught of the mid-80’s forced Andy Grove to switch focus to CPUs.\\n\\nHowever, I’ve recently been reading Randall Stross’s marvelous book about Thomas Edison, The Wizard of Menlo Park.\\n\\nEdison’s first commercially viable breakthrough invention was the phonograph — the forerunner to what you kids know as the record player, the turntable, the Walkman, the CD player, and the IPod. Edison went on, of course, to become one of the greatest inventors and innovators of all time.\\n\\nAs our story begins, Edison, an unknown inventor running his own startup, is focused on developing better hardware for telegraph operators. He is particularly focused on equipment for telegraph operators to be able to send voice messages over telegraph lines.\\n\\nCue the book:\\n\\nThe day after Edison had noted the idea for recording voice messages received by a telegraphy office, he came up with a variation. That evening, on 18 July 1877, when [his lab’s] midnight dinner had been consumed… [Edison] turned around to face [his assistant Charles Batchelor] and casually remarked, “Batch, if we had a point on this, we could make a record of some material which we could afterwards pull under the point, and it would give us the speech back.”\\n\\nAs soon as Edison had pointed it out, it seemed so obvious that they did not pause to appreciate… the suggestion. Everyone jumped up to rig a test… within an hour, they had the gizmo set up on the table… Edison sat down, leaned into the mouthpiece… [and] delivered the stock phrase the lab used to test telephone diaphragms: “Mary had a little lamb.”\\n\\nBatchelor reinserted the beginning of the [strip on which the phrase had been recorded]… out came “ary ad ell am.” “It was not fine talking,” Batchelor recalled, “but the shape of it was there.” The men celebrated with a whoop, shook hands with one another, and worked on. By breakfast the following morning, they had succeeded in getting clear articulation from waxed paper, the first recording medium — in the first midnight recording session.\\n---\\n# Part 7: Why a startup\\'s initial business plan doesn\\'t matter that much\\n\\nThe discovery was treated surprisingly casually in the lab’s notebooks.\\n\\nIt was a singular moment in the modern history of invention, but, in the years that would follow, Edison would never tell the story the way it actually unfolded that summer, always moving the events from July 1877 to December. We may guess the reason why: in July, he and his assistants failed to appreciate what they had discovered. At the time, they were working feverishly to develop a set of working telephones to show their best prospect… Western Union… There was no time to pause and reflect on the incidental invention of what was the first working model of the phonograph.\\n\\nThe invention continued to be labeled in the notebooks with the broader rubric “speaking telegraph”, reflecting the assumption that it would be put to use in the telegraph office, recording messages. An unidentified staff member drew up a list of possible names for the machine, which included: tel-autograph, tel-autophone, “chronophone = time-announcer = speaking clock”, “didaskophone = teaching speaker = portable teacher”, “glottophone = language sounder or speaker”, “climatophone = weather announcer”, “klangophone = bird cry sounder”, “hulagmophone = barking sounder”.\\n\\nIn October 1877, [Edison] wrote his father that he was “at present very hard up for cash,” but if his “speaking telegraph” was successful, he would receive an advance on royalties. The commercial potential of his still-unnamed recording apparatus remained out of sight.\\n\\n[A description of the phonograph in Scientific American in early November] set off a frenzy in America and Europe. The New York Sun was fascinated by the metaphysical implications of an invention that could play “echoes from dead voices”. The New York Times predicted [in an eerie foreshadowing of their bizarre coverage of the Internet in the mid-1990’s] that a large business would develop in “bottled sermons”, and wealthy connoisseurs would take pride in keeping “a well-stocked oratorical cellar.”\\n\\nSuch was the authority of Scientific American’s imprimatur that all of this extraordinary attention was lavished not on the first working phonograph made for public inspection, but merely a description supplied by Edison’s assistant.\\n\\nBy late November, Edison and his staff had caught onto the phonograph’s commercial potential as a gadget for entertainment… a list of possible uses for the phonograph was noted [by Edison and his staff], assembled apparently by free association: speaking toys (dogs, reptiles, humans), whistling toy train engines, music.\\n---\\n# The Pmarca Blog Archives\\n\\nboxes, clocks and watches that announced the time. There was even an inkling of the future importance of personal music collections, here described as the machine for the whole family to enjoy, equipped with a thousand [music recordings], “giving endless amusement.”\\n\\nThe first actual model, however, remained to be built… On 4 December 1877, Batchelor’s diary laconically noted, “[staff member John Kruesi] made phonograph today”; it received no more notice than the other entry, “working on speaking tel”, the invention [for telegraph operators] that continued to be at the top of the laboratory’s research agenda.\\n\\nOn 7 December 1877, [Edison] walked into the New York office of Scientific American, placed a small machine on the editor’s desk, and with about a dozen people gathered around, turned the crank. “How do you do?” asked the machine, introducing itself crisply. “How do you like the phonograph?” It itself was feeling quite well, it assured its listeners, and then cordially bid everyone a good night.\\n\\nHaving long worked within the world of telegraphic equipment, [Edison] had been perfectly placed to receive the technical inspiration for the phonograph. But that same world, oriented to a handful of giant industrial customers, had nothing in common with the consumer marketplace.\\n\\nThe story goes on and on — and you should read the book; it’s all like this.\\n\\nThe point is this:\\n\\nIf Thomas Edison didn’t know what he had when he invented the phonograph while he thought he was trying to create better industrial equipment for telegraph operators… what are the odds that you — or any entrepreneur — is going to have it all figured out up front?\\n---\\nThe Pmarca Guide to Hiring\\n---\\n# Part 8: Hiring, managing, promoting, and Firing executives\\n\\nOne of the most critical things a startup founder must do is develop a top-notch executive team. This is a topic that could fill a whole book, but in this post I will provide specific guidelines on how to hire, manage, promote, and fire executives in a startup based on my personal observations and experiences.\\n\\nFor the purposes of this post, definitions: An executive is a leader — someone who runs a function within the company and has primary responsibility for an organization within the company that will contribute to the company’s success or failure. The difference between an executive and a manager is that the executive has a higher degree of latitude to organize, make decisions, and execute within her function than a manager. The manager may ask what the right thing to do is; the executive should know.\\n\\nThe general theory of executives, like managers, is, per Andy Grove: the output of an executive is the output of her organization. Therefore, the primary task of an executive is to maximize the output of her organization. However, in a startup, a successful executive must accomplish three other critical tasks simultaneously:\\n\\n- Build her organization– typically when an executive arrives or is promoted into her role at a startup, she isn’t there to be a caretaker; rather she must build her organization, often\\n---\\n# Part 8: Hiring, managing, promoting, and Firing executives 55\\n\\nFrom scratch. This is a sharp difference from many big company executives, who can spend their entire careers running organizations other people built — often years or decades earlier.\\n\\n- Be a primary individual contributor– a startup executive must “roll up her sleeves” and produce output herself. There are no shortage of critical things to be done at a startup, and an executive who cannot personally produce while simultaneously building and running her organization typically will not last long. Again, this is a sharp difference from many big companies, where executives often serve more as administrators and bureaucrats.\\n- Be a team player– a startup executive must take personal responsibility for her relationships with her peers and people throughout the startup, in all functions and at all levels. Big companies can often tolerate internal rivalries and warfare; startups cannot.\\n\\nBeing a startup executive is not an easy job. The rewards are substantial — the ability to contribute directly to the startup\\'s success; the latitude to build and run an organization according to her own theories and principles; and a meaningful equity stake that can lead to personal financial independence if the startup succeeds — but the responsibilities are demanding and intense.\\n\\n# Hiring\\n\\nFirst, if you’re not sure whether you need an executive for a function, don’t hire one.\\n\\nStartups, particularly well-funded startups, often hire executives too early. Particularly before a startup has achieved product/market fit, it is often better to have a highly motivated manager or director running a function than an executive.\\n\\nHiring an executive too quickly can lead to someone who is really expensive, sitting there in the middle of the room, doing very little. Not good for the executive, not good for the rest of the team.\\n---\\n# The Pmarca Blog Archives\\n\\nthe team, not good for the burn rate, and not good for the company.\\n\\nHire an executive only when it’s clear that you need one: when an organization needs to get built; when hiring needs to accelerate; when you need more processes and structure and rigor to how you do things.\\n\\nSecond, hire the best person for the next nine months, not the next three years.\\n\\nI’ve seen a lot of startups overshoot on their executive hires. They need someone to build the software development team from four people to 30 people over the next nine months, so they hire an executive from a big company who has been running 400 people. That is usually death.\\n\\nHire for what you need now — and for roughly the next nine months. At the very least, you will get what you need now, and the person you hire may well be able to scale and keep going for years to come.\\n\\nIn contrast, if you overhire — if you hear yourself saying, “this person will be great when we get bigger” — you are most likely hiring someone who, best case, isn’t that interested in doing things at the scale you need, and worst case, doesn’t know how.\\n\\nThird, whenever possible, promote from within.\\n\\nGreat companies develop their own executives. There are several reasons for this:\\n\\n- You get to develop your best people and turn them into executives, which is great for both them and you — this is the single best, and usually the only, way to hold onto great people for long periods of time.\\n- You ensure that your executives completely know and understand your company culture, strategy, and ethics.\\n- Your existing people are the “devil you know” — anyone new coming from outside is going to have flaws, often really serious ones, but you probably won’t figure out what they are.\\n---\\n# Part 8: Hiring, managing, promoting, and Firing executives 57\\n\\nUntil after you\\'ve hired them. With your existing people, you know, and you minimize your odds of being shocked and appalled.\\n\\nOf course, this isn\\'t always possible. Which segues us directly into...\\n\\nFourth, my list of the key things to look at, and for, when evaluating executive candidates:\\n\\n- Look for someone who is hungry and driven– someone who wants a shot at doing \"their thing\". Someone who has been an up and comer at a midsized company but wants a shot at being a primary executive at a startup can be a great catch.\\n- Flip side of that: beware people who have \"done it before\". Sometimes you do run into someone who has been VP Engineering at four companies and loves it and wants to do it at a Xah company. More often, you will be dealing with someone who is no longer hungry and driven. This is a very, very big problem to end up with — be very careful.\\n- Don\\'t disqualify someone based on ego or cockiness– as long as she\\'s not insane. Great executives are high-ego — you want someone driven to run things, driven to make decisions, confident in herself and her abilities. I don\\'t mean loud and obnoxious, I mean assured and determined, bleeding over into cocky. If a VC\\'s ideal investment is a company that will succeed without him, then your ideal executive hire is someone who will succeed without you.\\n- Beware hiring a big company executive for a startup. The executive skill sets required for a big company vs a startup are very different. Even great big company executives frequently have no idea what to do once they arrive at a startup.\\n- In particular, really beware hiring an executive from an incredibly successful big company. This is often very tempting — who wouldn\\'t want to bring onboard someone who sprinkles some of that IBM (in the 80\\'s), Microsoft (in the 90\\'s), or Google (today) fairy dust on your startup? The issue is that people who have been at an incredibly successful big company often cannot function in a normal, real world.\\n---\\n# The Pmarca Blog Archives\\n\\ncompetitive situation where they don’t start every day with 80% market share. Back in the 80’s, you often heard, “never hire anyone straight out of IBM — first, let them go somewhere else and fail, and then hire them”. Believe it.\\n\\n- This probably goes without saying, but look for a pattern of output– accomplishment. Validate it by reference checking peers, reports, and bosses. Along the way, reference check personality and teamwork, but look first and foremost for a pattern of output.\\n\\nFinally, by all means, use an executive recruiter, but for sourcing, not evaluation.\\n\\nThere are some executive recruiters who are actually really good at evaluation. Others are not. It’s beside the point. It’s your job to evaluate and make the decision, not the recruiter’s.\\n\\nI say this because I have never met a recruiter who lacks confidence in his ability to evaluate candidates and pass judgment on who’s right for a given situation. This can lull a startup founder into relying on the recruiter’s judgment instead of really digging in and making your own decision. Betting that your recruiter is great at evaluation is not a risk you want to take. You’re the one who has to fire the executive if it doesn’t work out.\\n\\nSixth, be ready to pay market compensation, including more cash compensation than you want, but watch for red flags in the compensation discussion.\\n\\nYou want someone focused on upside — on building a company. That means, a focus on their stock option package first and foremost.\\n\\nWatch out for candidates who want egregious amounts of cash, high bonuses, restricted stock, vacation days, perks, or — worst of all — guaranteed severance. A candidate who is focused on those things, as opposed to the option package, is not ready to do a startup.\\n\\nOn a related note, be careful about option acceleration in the event of change of control. This is often reasonable for support.\\n---\\n# Part 8: Hiring, managing, promoting, and Firing executives 59\\n\\nFunctions such as finance, legal, and HR where an acquirer would most likely not have a job for the startup executive in any of those functions. But this is not reasonable, in my view, for core functions such as engineering, product management, marketing, or sales. You don’t want your key executives focused on selling the company — unless of course you want them focused on selling the company. Make your acceleration decisions accordingly.\\n\\nSeventh, when hiring the executive to run your former specialty, be careful you don’t hire someone weak on purpose.\\n\\nThis sounds silly, but you wouldn’t believe how often it happens. The CEO who used to be a product manager who has a weak product management executive. The CEO who used to be in sales who has a weak sales executive. The CEO who used to be in marketing who has a weak marketing executive.\\n\\nI call this the “Michael Eisner Memorial Weak Executive Problem” — after the CEO of Disney who had previously been a brilliant TV network executive. When he bought ABC at Disney, it promptly fell to fourth place. His response? “If I had an extra two days a week, I could turn around ABC myself.” Well, guess what, he didn’t have an extra two days a week.\\n\\nA CEO — or a startup founder — often has a hard time letting go of the function that brought him to the party. The result: you hire someone weak into the executive role for that function so that you can continue to be “the man” — consciously or subconsciously. Don’t let it happen to you — make sure the person you hire into that role is way better than you used to be.\\n\\nEighth, recognize that hiring an executive is a high-risk proposition.\\n\\nYou often see a startup with a screwed up development process, but “when we get our VP of Engineering onboard, everything will get fixed”. Or a startup that is missing its revenue targets, but “when we get our VP of sales, revenue will take off”.\\n\\nHere’s the problem: in my experience, if you know what you’re doing, the odds of a given executive hire working out will be about\\n---\\n# The Pmarca Blog Archives\\n\\n50/50. That is, about 50% of the time you’ll screw up and ultimately have to replace the person. (If you don’t know what you’re doing, your failure rate will be closer to 100%.)\\n\\nWhy? People are people. People are complicated. People have Yaws. You often don’t know what those Yaws are until after you get to know them. Those Yaws are often fatal in an executive role. And more generally, sometimes the X factor just isn’t there.\\n\\nThis is why I’m so gung ho on promoting from within. At least then you know what the Yaws are up front.\\n\\n# Managing\\n\\nFirst, manage your executives.\\n\\nIt’s not that uncommon to see startup founders, especially first-timers, who hire executives and are then reluctant to manage them.\\n\\nYou can see the thought process: I just hired this really great, really experienced VP of Engineering who has way more experience running development teams than I ever did — I should just let him go do his thing!\\n\\nThat’s a bad idea. While respecting someone’s experience and skills, you should nevertheless manage every executive as if she were a normal employee. This means weekly 1:1’s, performance reviews, written objectives, career development plans, the whole nine yards. Skimp on this and it is very easy for both your relationship with her and her effectiveness in the company to skew sideways.\\n\\nThis even holds if you’re 22 and she’s 40, or 50, or 60! Don’t be shy, that will just scare her — and justifiably so.\\n\\nSecond, give your executives the latitude to run their organizations.\\n\\nThis is the balancing act with the previous point, but it’s equally important. Don’t micromanage.\\n\\nThe whole point of having an executive is to have someone who\\n---\\n# Part 8: Hiring, managing, promoting, and Firing executives\\n\\nYou can figure out how to build and run an organization so that you don’t have to. Manage her, understand what she is doing, be very clear on the results you expect, but let her do the job.\\n\\nHere’s the key corollary to that: if you want to give an executive full latitude, but you’re reluctant to do so because you’re not sure she can make it happen, then it’s probably time to Fire her.\\n\\nIn my experience it’s not that uncommon for a founder or CEO to be uncomfortable — sometimes only at a gut level — at really giving an executive the latitude to run with the ball. That is a surefire signal that the executive is not working out and probably needs to be fired. More on that below.\\n\\nThird, ruthlessly violate the chain of command in order to gather data.\\n\\nI don’t mean going around telling people under an executive what to do without her knowing about it. I mean, ask questions, continually, at all levels of the organization. How are things going? What do you think of the new hires? How often are you meeting with your manager? And so on.\\n\\nYou never want the bulk of your information about a function coming from the executive running that function. That’s the best way to be completely and utterly surprised when everything blows up.\\n\\nHere’s the kicker: a great executive never minds when the CEO talks to people in her organization. In fact, she loves it, because it means the CEO just hears more great things about her.\\n\\nIf you have an executive who doesn’t want you to talk to people in her organization, you have a bad executive.\\n\\n# Promoting\\n\\nThis will be controversial, but I am a big fan of promoting talented people as fast as you can — promoting up and comers into executive roles, and promoting executives into bigger and broader responsibilities.\\n---\\n# The Pmarca Blog Archives\\n\\nYou can clearly overdo this — you can promote someone before they are ready and in the worst case, completely screw up their career. (Seen it. Done it.) You can also promote someone to their level of incompetence — the Peter Principle. (Seen it. Done it.)\\n\\nHowever, life is short, startups move fast, and you have stuff to get done. You aren’t going to have the privilege of working with that many great, talented, high-potential people in your career. When you find one, promote her as fast as you can. Great for her, great for the company, and great for you.\\n\\nThis assumes you are properly training and managing her along the way. That is left as an exercise for the reader.\\n\\nThe surest sign someone is ready for promotion is when they’re doing a great job running their current team. Projects are getting done, team morale is good, new hires are top quality, people are happy. Time to promote some people into new challenges.\\n\\nI’m a firm believer that most people who do great things are doing them for the first time. Returning to my theory of hiring, I’d rather have someone all fired up to do something for the first time than someone who’s done it before and isn’t that excited to do it again. You rarely go wrong giving someone who is high potential the shot.\\n\\nThis assumes you can tell the high potential people apart from everyone else. That too is left as an exercise for the reader.\\n\\nFiring\\n\\nFirst, recognize the paradox of deciding to fire an executive.\\n\\nThe paradox works like this:\\n\\nIt takes time to gather data to evaluate an executive’s performance. You can’t evaluate an executive based on her own output, like a normal employee — you have to evaluate her based on the output of her organization. It takes time for her to build and manage her organization to generate output. Therefore, it\\n---\\n# Part 8: Hiring, managing, promoting, and Firing executives\\n\\nIt takes longer to evaluate the performance of an executive than a normal employee.\\n\\nBut, an executive can cause far more damage than a normal employee. A normal employee doesn’t work out, fine, replace him. An executive doesn’t work out, it can — worst case — permanently cripple her function and sometimes the entire company. Therefore, it is far more important to Fire a bad executive as fast as possible, versus a normal employee.\\n\\nSolution? There isn’t one. It’s a permanent problem.\\n\\nI once asked Andy Grove, one of the world’s all-time best CEOs, about this. He said, you always Fire a bad executive too late. If you’re really good, you’ll Fire her about three months too late. But you’ll always do it too late. If you did it fast enough that it wasn’t too late, you wouldn’t have enough data, and you’d risk being viewed as arbitrary and capricious by the rest of the organization.\\n\\nSecond, the minute you have a bad feeling in your gut, start gathering data.\\n\\nBack to the point on ruthlessly violating the chain of command — get to it. Talk to everyone. Know what’s going on. Unless you’re paranoid — and, shockingly, I have met paranoid founders and CEOs, and not counting Andy Grove — you need to gather the data because you’re going to need to Fire the executive — if you’re good, in about three months.\\n\\nIn the meantime, of course do everything you can to coach and develop and improve the executive. If it works out, that’s great. If not, get ready.\\n\\nA few specific things I think are critical to look for:\\n\\n|Is the executive hiring?|If there are open headcount slots and nobody’s coming in the door, you have a problem. Just as bad is when the new hires aren’t very good — when they’re bringing down the average quality of the organization.|\\n|---|---|\\n|Is the executive training and developing her people?|Often in a|\\n---\\n# The Pmarca Blog Archives\\n\\nstartup, an executive is hired to take over a function that’s already been started, at least in rudimentary form. The people in that function should be noticeably better at their jobs, and highly respectful of the executive’s skills, within the first several months at the very least. If not, you have a problem.\\n\\n- What do the other executives think? Great executives are often imperfect but their peers always respect them. If your other executives are skeptical of a new executive after the first few months, you have a problem.\\n- Is it painful for you to interact with the executive? Do you try to avoid or cancel your 1:1’s? Does talking to her give you a headache? Do often not understand what point she’s trying to make or why she’s focused on such an odd issue? If the answer to any of these questions is yes, you have a problem.\\n\\nThird, Fire crisply.\\n\\nFiring an executive sucks. It’s disruptive to the organization. It creates a lot of work for you — not least of which is you’ll have to go find someone else for the job. And, it risks making you look bad, since you’re the one who hired the person in the first place.\\n\\nAnd it always seems to happen at a critical time in your startup’s life, when the last thing you need is a distraction like this.\\n\\nNevertheless, the only thing to do is do it, do it professionally, make clear to the organization what will happen next, and get on down the road.\\n\\nIn my opinion the two most common mistakes people make when they fire executives both fall in the category of pulling one’s punches, and I highly recommend avoiding them:\\n\\n- Long transition periods — tempting, but counterproductive. Confusing, demoralizing, and just plain weird. Instead, make a clean break, put a new person in charge — even if only on an acting basis — and get moving.\\n---\\n# Part 8: Hiring, managing, promoting, and Firing executives\\n\\nDemotion as an alternative to Firing (or, alternately, “I know, we’ll hire her a boss!”). Hate it. Great people don’t deal well with getting demoted. There is an occasional exception. Unless you are positive you have such an exception, skip it, and move directly to the conclusion.\\n\\nFourth, don’t feel guilty.\\n\\nYou’re not beheading anyone.\\n\\nAnyone who got a job as an executive at a startup is going to have an easy time getting the next job. After all, she can always paint you as a crazy founder, or inept CEO.\\n\\nMore often than not, when you Fire an executive, you are doing her a favor — you are giving her a chance to find a better fit in a different company where she will be more valued, more respected, and more successful. This sounds mushy, but I mean it. And if she can’t, then she has a much deeper problem and you just dodged a huge bullet.\\n\\nAnd on that cheery note, good luck!\\n\\nCounterpoint: Ben Horowitz on micromanagement\\n\\n[This is a guest post from my business partner Ben Horowitz, reacting to my recent post about hiring, managing, promoting, and Firing executives. I have italicized the parts where he really tears into me for your added humor value.]\\n\\nWhile I enjoyed Marc’s post on hiring and Firing executives, I think that he unfairly dissed micromanagement.\\n\\nHere’s why.\\n\\nEveryone knows that the hyper-controlling manager with the severe personality disorder who micromanages every crummy decision is no fun to work for. However, it is wrong to condemn the practice of micromanagement on that basis.\\n---\\n# The Pmarca Blog Archives\\n\\nSpeciXcally, there are times and situations where micromanaging executives is not just ok, but also the right thing to do. Andy Grove has an excellent explanation of this in his classic book High Output Management, where he describes a concept called “Task Relevant Maturity”. Andy explains that employees who are immature in a given task require detailed training and instruction. They need to be micromanaged. On the other hand, if an employee is relatively mature in a task, then it is counterproductive and annoying to manage the details of their work.\\n\\nThis is also true when managing executives. Marc might think that he hires an executive because she has the experience and know-how to comprehensively do her job, so any detailed instruction would be unwise and unwarranted. Marc would be wrong about that. It turns out that even — and maybe especially — executives are also immature in certain tasks.\\n\\nIt is almost always the case that a new executive will be immature in their understanding of your market, your technology, and your company — its personnel, processes, and culture. Will the new head of engineering at Ning walk in the door with Marc’s understanding of the development process or the technology base? Would it be better for this new head of engineering to make guesses and use her own best — not so good– judgment, or for Marc to review the Xrst say 20 decisions until the new exec is fully up to speed?\\n\\nIn reality — as opposed to Marc’s warped view of reality — it will be extremely helpful for Marc [if he were actually the CEO, which he is not] to meet with the new head of engineering daily when she comes on board and review all of her thinking and decisions. This level of micromanagement will accelerate her training and improve her long-term eWectiveness. It will make her seem smarter to the rest of the organization which will build credibility and conXdence while she comes up to speed. Micromanaging new executives is generally a good idea for a limited period of time.\\n\\nHowever, that is not the only time that it makes sense to micro-\\n---\\n# Part 8: Hiring, managing, promoting, and Firing executives\\n\\nManage executives. It turns out that just about every executive in the world has a few things that are seriously wrong with them. They have areas where they are truly deficient in judgment or skill set. That’s just life. Almost nobody is brilliant at everything. When hiring and when Hiring executives, you must therefore focus on strength rather than lack of weakness. Everybody has severe weaknesses even if you can’t see them yet. When managing, it’s often useful to micromanage and to provide remedial training around these weaknesses. Doing so may make the difference between an executive succeeding or failing.\\n\\nFor example, you might have a brilliant engineering executive who generates excellent team loyalty, has terrific product judgment and makes the trains run on time. This same executive may be very poor at relating to the other functions in the company. She may generate far more than her share of cross-functional conflicts, cut herself off from critical information, and significantly impede your ability to sell and market effectively.\\n\\nYour alternatives are:\\n\\n- (a) Macro-manage and give her an annual or quarterly objective to fix it, or…\\n- (b) Intensively micromanage her interactions until she learns the fundamental interpersonal skills required to be an effective executive.\\n\\nI am arguing that doing (a) will likely result in weak performance. The reason is that she very likely has no idea how to be effective with her peers. If somebody is an executive, it’s very likely that somewhere along the line somebody gave her feedback — perhaps abstractly — about all of her weaknesses. Yet the weakness remains. As a result, executives generally require more hands-on management than lower level employees to improve weak areas.\\n\\nSo, micromanagement is like fine wine. A little at the right times will really enhance things; too much all the time and you’ll end up in rehab.\\n---\\n# Part 9: How to hire a professional CEO\\n\\nDon’t.\\n\\nIf you don’t have anyone on your founding team who is capable of being CEO, then sell your company — now.\\n---\\nHow to hire the best people you\\'ve ever worked with\\n\\nThere are many aspects to hiring great people, and various people smarter than me have written extensively on the topic.\\n\\nSo I’m not going to try to be comprehensive.\\n\\nBut I am going to relay some lessons learned through hard experience on how to hire the best people you’ve ever worked with — particularly for a startup.\\n\\nI’m going to cover two key areas in this post:\\n\\n- Criteria: what to value when evaluating candidates.\\n- And process: how to actually run the hiring process, and if necessary the aftermath of making a mistake.\\n\\nCriteria First\\n\\nLots of people will tell you to hire for intelligence.\\n\\nEspecially in this industry.\\n\\nYou will read, hire the smartest people out there and your company’s success is all but guaranteed.\\n\\nI think intelligence, per se, is highly overrated.\\n\\nSpecifically, I am unaware of any actual data that shows a correlation between success and intelligence.\\n---\\n# The Pmarca Blog Archives\\n\\nRelation between raw intelligence, as measured by any of the standard metrics (educational achievement, intelligence tests, or skill at solving logic puzzles) and company success.\\n\\nNow, clearly you don’t want to hire dumb people, and clearly you’d like to work with smart people.\\n\\nBut let’s get specific.\\n\\nMost of the lore in our industry about the role of intelligence in company success comes from two stratospherically successful companies — Microsoft, and now Google — that are famous for hiring for intelligence.\\n\\nMicrosoft’s metric for intelligence was the ability to solve logic puzzles.\\n\\n(I don’t know if the new, MBA-heavy Microsoft still does this, but I do know this is how Microsoft in its heyday worked.)\\n\\nFor example, a classic Microsoft interview question was: “Why is a manhole cover round?”\\n\\nThe right answer, of course, is, “Who cares? Are we in the manhole business?”\\n\\n(Followed by twisting in your chair to look all around, getting up, and leaving.)\\n\\nGoogle, on the other hand, uses the metric of educational achievement.\\n\\nHave a PhD? Front of the line. Masters? Next. Bachelor’s? Go to the end.\\n\\nIn apparent direct contradiction to decades of experience in the computer industry that PhD’s are the hardest people to motivate to ship commercially viable products — with rare exception. (Hi, Tim! Hi, Diego!)\\n\\nNow, on the one hand, you can’t question the level of success of either company.\\n---\\n# How to hire the best people you\\'ve ever worked with 71\\n\\nMaybe they’re right.\\n\\nBut maybe, just maybe, their success had a lot to do with other factors — say, huge markets, extreme aggressiveness, right time/right place, key distribution deals, and at least in one case, great products.\\n\\nBecause here’s the problem: I’m not aware of another Microsoft that’s been built by hiring based on logic puzzles. And I’m not aware of another Google that’s been built by hiring PhD’s.\\n\\nSo maybe there are other hiring criteria that are equally, or more, important.\\n\\nHere’s what I think those criteria are.\\n\\nDrive\\n\\nI define drive as self-motivation — people who will walk right through brick walls, on their own power, without having to be asked, to achieve whatever goal is in front of them.\\n\\nPeople with drive push and push and push and push and push until they succeed.\\n\\nWinston Churchill after the evacuation of Dunkirk:\\n\\n“We shall not flag or fail. We shall go on to the end, we shall fight in France, we shall\\n---\\n# The Pmarca Blog Archives\\n\\nWith others, it comes from a burning desire to make it big.\\n\\nWith others, it comes from being incredibly Type A.\\n\\nWhatever… go with it.\\n\\nDrive is independent of educational experience, grade point averages, and socioeconomic background.\\n\\n(But Marc, isn’t a 4.0 GPA a sure sign of drive? Well, it’s a sign that the person is driven to succeed on predefined tests with clear criteria and a grader — in an environment where the student’s parents are often paying a lot of money for the privilege of having their child take the tests. That may or may not be the same thing as being driven to succeed in the real world.)\\n\\nDrive is even independent of prior career success.\\n\\nDriven people don’t tend to stay long at places where they can’t succeed, and just because they haven’t succeeded in the wrong companies doesn’t mean they won’t succeed at your company — if they’re driven.\\n\\nI think you can see drive in a candidate’s eyes, and in a candidate’s background.\\n\\nFor the background part, I like to see what someone has done.\\n\\nNot been involved in, or been part of, or watched happen, or was hanging around when it happened.\\n\\nI look for something you’ve done, either in a job or (often better yet) outside of a job.\\n\\nThe business you started and ran in high school.\\n\\nThe nonprofit you started and ran in college.\\n\\nIf you’re a programmer: the open source project to which you’ve made major contributions.\\n\\nSomething.\\n\\nIf you can’t find anything — if a candidate has just followed the\\n---\\n# How to hire the best people you\\'ve ever worked with\\n\\nRules their whole lives, showed up for the right classes and the right tests and the right career opportunities without achieving something distinct and notable, relative to their starting point — then they probably aren’t driven.\\n\\nAnd you’re not going to change them.\\n\\nMotivating people who are fundamentally unmotivated is not easy.\\n\\nBut motivating people who are self-motivated is wind at your back.\\n\\nI like specifically looking for someone for which this job is their big chance to really succeed.\\n\\nFor this reason, I like hiring people who haven’t done the specific job before, but are determined to ace it regardless.\\n\\nI also like specifically looking for someone who comes from some kind of challenging background — a difficult family situation, say, or someone who had to work his/her way through school — who is nevertheless on par with his/her more fortunate peers in skills and knowledge.\\n\\nFinally, beware in particular people who have been at highly successful companies.\\n\\nPeople used to say, back when IBM owned the industry: never hire someone straight out of IBM. First, let them go somewhere else and fail. Then, once they’ve realized the real world is not like IBM, hire them and they’ll be great.\\n\\nAnd remember, an awful lot of people who have been at hugely successful companies were just along for the ride.\\n\\nCareer success is great to look for — but it’s critical to verify that the candidates out of hugely successful companies actually did what they claim in their roles at those companies. And that they really get it, that the real world is a lot tougher than being IBM in the 80’s, or Microsoft in the 90’s, or Google today.\\n---\\n# The Pmarca Blog Archives\\n\\nCuriosity\\n\\nCuriosity is a proxy for, do you love what you do?\\n\\nAnyone who loves what they do is inherently intensely curious about their field, their profession, their craft.\\n\\nThey read about it, study it, talk to other people about it… immerse themselves in it, continuously.\\n\\nAnd work like hell to stay current in it.\\n\\nNot because they have to.\\n\\nBut because they love to.\\n\\nAnyone who isn’t curious doesn’t love what they do.\\n\\nAnd you should be hiring people who love what they do.\\n\\nAs an example, programmers.\\n\\nSit a programmer candidate for an Internet company down and ask them about the ten most interesting things happening in Internet software.\\n\\nREST vs SOAP, the new Facebook API, whether Ruby on Rails is scalable, what do you think of Sun’s new Java-based scripting language, Google’s widgets API, Amazon S3, etc.\\n\\nIf the candidate loves their field, they’ll have informed opinions on many of these topics.\\n\\nThat’s what you want.\\n\\nNow, you might say, Marc, that’s great for a young kid who has a lot of spare time to stay current, but what about the guy who has a family and only has time for a day job and can’t spend nights and weekends reading blogs and staying that current?\\n\\nWell, when you run into a person like that who isn’t current in their field, the other implication is that their day job isn’t keeping them current.\\n---\\n# How to hire the best people you\\'ve ever worked with\\n\\nIf they’ve been in that job for a while, then ask yourself, is the kind of person you’re looking for really going to have tolerated staying in a day job where their skills and knowledge get stale, for very long?\\n\\nReally?\\n\\nRemember — because of the Internet, staying current in any field no longer costs any money.\\n\\nIn my experience, drive and curiosity seem to coincide pretty frequently.\\n\\nThe easiest way to be driven is to be in a field that you love, and you’ll automatically be curious.\\n\\n# Ethics\\n\\nEthics are hard to test for.\\n\\nBut watch for any whiff of less than stellar ethics in any candidate’s background or references.\\n\\nAnd avoid, avoid, avoid.\\n\\nUnethical people are unethical by nature, and the odds of a metaphorical jailhouse conversion are quite low.\\n\\nPriests, rabbis, and ministers should give people a second chance on ethics — not hiring managers at startups.\\n\\n‘NuW said.\\n\\nOne way to test for an aspect of ethics — honesty — is to test for how someone reacts when they don’t know something.\\n\\nPick a topic you know intimately and ask the candidate increasingly esoteric questions until they don’t know the answer.\\n\\nThey’ll either say they don’t know, or they’ll try to bullshit you.\\n\\nGuess what. If they bullshit you during the hiring process, they’ll bullshit you once they’re onboard.\\n---\\n# The Pmarca Blog Archives\\n\\nA candidate who is confident in his own capabilities and ethical — the kind you want — will say “I don’t know” because they know that the rest of the interview will demonstrate their knowledge, and they know that you won’t react well to being bullshitted — because they wouldn’t react well either.\\n\\nHow to run the hiring process\\n\\n- First, have a written hiring process.\\n- Whatever your hiring process is — write it down, and make sure everyone has a copy of it, on paper.\\n- It’s continually shocking how many startups have a random hiring process, and as a result hire apparently randomly.\\n\\n- Second, do basic skills tests.\\n- It’s amazing how many people come in and interview for jobs where their resume says they’re qualified, but ask them basic questions about how to do things in their domain, and they fail.\\n- For example, test programmers on basic algorithms — linked lists, binary searches.\\n- Just in pseudocode — it doesn’t matter if they know the relevant Java library calls.\\n- It does matter if they are unable to go up to the whiteboard and work their way through something that was covered in their first algorithms course.\\n- A lot of people come in and interview for programming jobs who, at their core, can’t program.\\n- And it’s such a breath of fresh air when you get someone who just goes, oh yeah, a linked list, sure, let me show you.\\n- The same principle applies to other fields.\\n- For a sales rep — have them sell you on your product all the way to a closed deal.\\n---\\n# How to hire the best people you\\'ve ever worked with\\n\\nFor a marketing person — have them whiteboard out a launch for your new product.\\n\\nThird, plan out and write down interview questions ahead of time.\\n\\nI’m assuming that you know the right interview questions for the role — and frankly, if you don’t, you probably shouldn’t be the hiring manager for that position.\\n\\nThe problem I’m addressing is: most people don’t know how to interview a candidate.\\n\\nAnd even people who do know how, aren’t necessarily good at coming up with questions on the fly.\\n\\nSo just make sure you have questions planned out and assigned to each interviewer ahead of time.\\n\\nI do this myself — always enter the room with a list of questions pre-planned — because I don’t want to count on coming up with them on the fly.\\n\\nThe best part is that you can then iteratively refine the questions with your team as you interview candidates for the position.\\n\\nThis is one of the best ways for an organization to become really good at hiring: by iterating the questions, you’re refining what your criteria are — and how you screen for those criteria.\\n\\nFourth, pay attention to the little things during the interview process.\\n\\nYou see little hints of things in the interview process that blow up to disasters of unimaginable proportions once the person is onboard.\\n\\nPerson never laughs? Probably hard to get along with.\\n\\nPerson constantly interrupts? Egomaniac, run for the hills.\\n\\nPerson claims to be good friends with someone you know but\\n---\\n# The Pmarca Blog Archives\\n\\nthen doesn’t know what the friend is currently doing? Bullshit- ter.\\n\\nPerson gives nonlinear answers to simple questions? Complete disorganized and undisciplined on the job.\\n\\nPerson drones on and on? Get ready for hell.\\n\\nFiah, pay attention to the little things during the reference calls.\\n\\n(You are doing reference calls, right?)\\n\\nMost people soaball deXciencies in people they’ve worked with when they do reference calls.\\n\\n“He’s great, super-smart, blah blah blah, but…”\\n\\n“Sometimes        wasn’t   that   motivated”      —   the   person    is  a  slug, you’re going to have to kick their rear every morning to get them to do anything.\\n\\n“Could sometimes be a little hard to get along with” — hugely unpleasant.\\n\\n“Had an easier time working with men than women” — raging sexist.\\n\\n“Was    sometimes       a   little moody”      —    suWering     from     clinical depression, and unmedicated.\\n\\nYou get the picture.\\n\\nSixth, Hx your mistakes fast… but not too fast.\\n\\nIf you are super-scrupulous about your hiring process, you’ll still have maybe a 70% success rate of a new person really work- ing out — if you’re lucky.\\n\\nAnd that’s for individual contributors.\\n\\nIf you’re hiring executives, you’ll probably only have a 50% suc- cess rate.\\n---\\n# How to hire the best people you\\'ve ever worked with\\n\\nThat’s life.\\n\\nAnyone who tells you otherwise is hiring poorly and doesn’t realize it.\\n\\nMost startups in my experience are undisciplined at Xxing hiring mistakes — i.e., Xring people who aren’t working out.\\n\\nFirst, realize that while you’re going to hate Xring someone, you’re going to feel way better aaer the fact than you can currently imagine.\\n\\nSecond, realize that the great people on your team will be happy that you’ve done it — they knew the person wasn’t working out, and they want to work with other great people, and so they’ll be happy that you’ve done the right thing and kept the average high.\\n\\n(The reason I say “not too fast” is because your great people are watching to see how you Xre people, and if you do it too fast you’ll be viewed as arbitrary and capricious — but trust me, most startup managers do not have this problem, they have the opposite problem.)\\n\\nThird, realize that you’re usually doing the person you’re Xring a favor — you’re releasing them from a role where they aren’t going to succeed or get promoted or be valued, and you’re giving them the opportunity to Xnd a better role in a different company where they very well might be an incredible star.\\n\\n(And if they can’t, were they really the kind of person you wanted to hire in the Xrst place?)\\n\\nOne of the good things about our industry is that there are frequently lots of new jobs being created and so you’re almost never pushing someone out onto the street — so don’t feel that you’re dooming their families to the poorhouse, because you aren’t.\\n\\nYou’re not that important in their lives.\\n---\\n80 The Pmarca Blog Archives\\n\\nI can name a number of people I’ve Xred or participated in Xr-ing who have gone on to be quite successful at other companies.\\n\\nThey won’t necessarily talk to me anymore, though :-).\\n\\nFinally, although this goes without saying: value the hell out of the great people you do have on your team. Given all of the above, they are incredibly special people.\\n---\\nThe Pmarca Guide to Big\\nCompanies\\n---\\n# Part 1: Turnaround!\\n\\nSo you’ve been hired/promoted/brought out of retirement to become CEO of and turn around your NASDAQ/NYSE/LSE-listed 5,000+ employee software/semiconductor/media company that’s recently been getting trounced by competitors, brutalized by the press, and savaged in the stock market.\\n\\nHere’s your turnaround plan in 9 easy steps.\\n\\n# Step 1: Go dark and execute.\\n\\nYour predecessor in the CEO job inevitably spent way too much time explaining to reporters, investors, analysts, and anyone else who would listen why your company was actually doing just fine and how brighter times were just around the corner as your competitive position deteriorated and your financial results fell apart, and nobody believed it anyway.\\n\\nMoney talks, hype walks — when you’re hitting your numbers, everyone thinks you’re a genius and believes everything you say, no matter how silly. When you’re not hitting your numbers, everyone thinks you’re a moron and won’t believe anything you say, no matter how true.\\n\\nSo go dark, focus on the business, and don’t talk publicly for at least six months.\\n\\n# Step 2: But First, throw your predecessor completely under the bus.\\n\\nCan’t forget this one! Tell Wall Street that your predecessor\\n---\\n# Part 1: Turnaround! 83\\n\\nwas such an incredibly dim bulb that in retrospect you can’t even understand how he got past security and into the building, much less was picked to be CEO. He completely fouled the financials and sabotaged the business and as a result, earnings for the next several quarters are going to come in way below expectations.\\n\\nThe fun part about this one is that your stock won’t even drop because everyone has already figured that out.\\n\\n# Step 3: Identify the 3-5 things that are working surprisingly well in your business, and double down on those.\\n\\nAny big company, no matter how moribund and poorly run, has a number of products and projects that are going better than expected — and usually come as a complete surprise.\\n\\nDrawing on Peter Drucker’s classic admonition to “focus on opportunities, not problems”, figure out what these surprise successes are and double down on them.\\n\\nPromote their general managers, elevate their business units in the organization, give them more funding, and get out of the way.\\n\\n# Step 4: Identify the 3-5 things that are consuming a lot of money and time and yet going nowhere, and kill those.\\n\\nA good starting point is your predecessor’s pet projects — line ‘em up and shoot ‘em.\\n\\nFrankly, they don’t even have to be consuming that much money. They’re almost certainly consuming time and management bandwidth, and they need to go.\\n\\nYou can also consider this a warmup exercise for Step 5.\\n\\n# Step 5: Lay off a third of the workforce.\\n\\nHere’s why:\\n\\nHistory shows that you’re going to have to ultimately do it anyway\\n---\\n# The Pmarca Blog Archives\\n\\nway, either via death of a thousand cuts (or six to eight distinct rounds of layoffs), or all at once.\\n\\nSo do it all at once.\\n\\nA company that requires a turnaround has, in all likelihood, hired too many people for the size of the business opportunity it actually has. This impairs profitability, driving away investors and submerging the stock price at precisely the time the company needs a healthy acquisition currency; this demotivates your great people by surrounding them by too many mediocre people and too much bureaucracy; and this slows everything in your company to a crawl because there are simply too many people running around who have to talk about everything before anything gets done.\\n\\nGrit your teeth, offer the most generous severance and assistance packages you possibly can, and get it done.\\n\\nYour ability to continue to employ the other two-thirds of your people is at stake.\\n\\nStep 6: Reduce layers, then promote up and comers and put them clearly in charge.\\n\\nA company that requires a turnaround has, in all likelihood, too many layers of management. Nuke as many of them as you can.\\n\\nThen develop a list of your top 20 or 30 up and comers — strong, sharp, aggressive, ambitious director- or VP-level managers who want to succeed and want your company to succeed. And promote them, and put them in sole charge of clearly identified teams and missions. (And give them big ol’ fresh option packages.)\\n\\nAs CEO, you should only have at most one executive between you and these 20 or 30 up and comers once you are done promoting them and putting them in charge of their teams and missions.\\n\\nIf you don’t know who those top 20 or 30 up and comers are, if you don’t promote them, if you don’t put them clearly in charge of the things that matter, or if you have more than one layer of\\n---\\n# Part 1: Turnaround!\\n\\nStep 7: Figure out the single most important thing your company has to win at, and put your single best person in charge of winning at it.\\n\\nStep 8: Look at the market, Figure out 3-5 new areas in which your company is not currently playing or winning, but are clearly going to grow a lot — and acquire the best company in each of those areas.\\n\\nHere you’re looking for growth — for products, trends, perhaps phenomena outside but adjacent to your current products and markets, that are going to grow a lot in the next few years.\\n\\nYou have to acquire, because if you’re in a turnaround situation, you aren’t going to have the time or bandwidth to build them in-house — unless you’re the very rare exception.\\n\\nWhen you do acquire, you’re going to have to pay up, because new things that are growing really fast in growth markets are always expensive — whether private or public — especially compared to the PE multiple of a big company in turnaround.\\n\\nSo here’s hoping you did a great job at Step 5.\\n\\nStep 9: In six months, relaunch the company with a single, crisp, coherent message and strategy.\\n\\nThen go dark again and go right back to work.\\n\\nOf course, there’s more to being the CEO of a turnaround than these 9 steps. There are a thousand other things you’re going to have to do. But these are the 9 most important.\\n\\nTo quote the great Tommy Lasorda: “This fucking job ain’t that fucking easy.”\\n\\nAppendix for media companies only:\\n\\nStep 10: For God’s sake, stop suing your customers.\\n---\\n# Part 2: Retaining great people\\n\\nThis post is about retaining great people, particularly at big companies in industries like technology, where stock options matter and where people can relatively easily move from one company to another.\\n\\nActually, I lied. This post isn’t really about retention at all.\\n\\nIt’s about winning.\\n\\nLet me explain:\\n\\nCompanies that are winning — even really big, old ones — never have a retention problem. Everyone wants to stay, and when someone does leave, it’s really easy to get someone great to take her place.\\n\\nCompanies that have a retention problem usually have a winning problem. Or rather, a “not winning” problem.\\n\\nThe typical case is a company that used to be a hot growth company, but the growth has flattened out, causing the stock to tank and everyone to be in a bad mood. Or, alternately, an older big company that did really well for a while but more recently hasn’t been doing so well, causing the stock to tank and everyone to be in a bad mood.\\n\\nIn other words, a company in transition — from winning at one point, to not winning now.\\n---\\n# Part 2: Retaining great people\\n\\nThe only way a company in that situation can retain great people is to start winning again.\\n\\nGreat people want to work at a winner.\\n\\nAll the raises, perks, and HR-sponsored “company values” drawing sessions in the world won’t help you retain great people if you’re not winning — not even the $6,000 heated Japanese toilets in all the restrooms, the $30,000 Olympic lap pool out back, and the free $4 bottles of organic orange juice in all the snack rooms.\\n\\nThis seems deeply unfair when you’re going through it, because when you’re not winning, that’s exactly when you need all those great people the most!\\n\\nOh well. That’s the price we pay for living in a society where jobs aren’t for life anymore.\\n\\nSo the right question is, how can we start winning again?\\n\\nIn this post, I’m going to punt on large parts of the answer to that question, as follows:\\n\\n- I already discussed the big company turnaround scenario in my last post in this series, which describes how to take a big company that is no longer winning and set it up to win again.\\n- A company that was a hot startup a few years ago and grew fast but is now seeing growth slow has a slightly different problem — your original product cycle has peaked and you need to find a new product cycle. That’s your big challenge, way beyond retention. But I’ll talk about that in a future post.\\n\\nRetention follows from the steps you are taking to orchestrate the turnaround and/or get to the next big product cycle.\\n\\nHaving adroitly sidestepped most of what you need to do, let me now address some things you can do to help the retention.\\n---\\n# The Pmarca Blog Archives\\n\\nsituation while you are addressing the deeper issues required to win again.\\n\\nFirst, don’t give up. I am particularly talking about the former hot startup that is now a large slow-growth company. It is easy to say, well, we’re not a startup anymore, we’re not a growth company anymore — now we’re a big company, and we need to change our culture and our methods to attract and retain the kinds of people who like to work at big companies.\\n\\nDoing that will make your situation far worse, by causing the remaining great people you do have to abandon ship even faster. Who wants to work for a company that has given up on having energy and drive and ambition? And then you will end up with a staff that only knows how to be a big company — that only knows how to maintain something that someone else has already built — which is death in any industry where things change all the time.\\n\\nSecond, focus. In a technology company, focus on retaining the great architects and managers. In other kinds of companies, focus on retaining the equivalent people — the people who are the magnets for retaining other great people and hiring more great people.\\n\\nYou have to retain the magnets — or at least a critical mass of them — because without them, you’re going to lose everyone else.\\n\\nIf you bear down and focus on retaining the magnets, retaining everyone else — for example, in a software company, the junior programmers, the product managers, the user interface designers, the salespeople, the sales engineers, the marketing staff, and so on — will be much easier.\\n\\nThird, clean house. Any company with a retention problem probably also has an overstaffing problem and a mediocrity problem and needs to fix both of those at the same time.\\n\\nIdentify and eliminate the jobs of the following categories of people:\\n---\\n# Part 2: Retaining great people\\n\\n• People who are “vesting in peace” — so called “VIPs”. VIPs are a particular problem at the former hot startup that has plateaued. They suck the life out of their environment and have to go.\\n\\n• “Summertime soldiers” — people who only joined in the first place because you were already successful and have no interest in really bearing down and applying themselves to a challenge. Again, a classic problem for the former hot startup. Look particularly hard at the people who joined in the two years following the IPO — some of them are undoubtedly very hard working, but others are summertime soldiers and have to go.\\n\\n• Mediocre performers — every company has some, unless you have been routinely firing your bottom 10% every year, and even then you probably have some.\\n\\nTaking out the people who fall into these categories will make your remaining great people feel better immediately, and will save you a lot of money and stock options that you can reallocate to better purposes — such as new compensation packages for your remaining great people.\\n\\nFourth, promote your best people — especially into the jobs vacated by the more senior of the people you just fired — and give them very interesting challenges.\\n\\nThat is so fundamental that I’m not even going to discuss it further here.\\n\\nFifth, simplify and clarify your organizational structure to make sure that your best people have direct responsibility for their projects.\\n\\nCompanies coming off a period of significant success usually have grown a lot and/or bought a lot of other companies, and typically have messy or overly complex org structures. This is a great opportunity to clean that up — and in particular, to move to an organizational model where each of your stars has clear, direct, and comprehensive responsibility for a critical mission.\\n---\\n# The Pmarca Blog Archives\\n\\nNuke all matrices. Nuke all dual reporting structures. And nuke as many shared services functions as you possibly can.\\n\\nFor example, in a software company, break up the centralized documentation group, QA group, build group, etc. and disperse those people into the individual product divisions. Give your product division heads complete responsibility for everything they need to ship great products — except for sales. And then in sales, give your territory heads everything they need to kill their numbers.\\n\\nA great general rule of thumb for this kind of organizational redesign is that you want to tolerate overlap. So each product division has its own QA team — so what? Your division heads — who are now your best people — will be able to move so much faster that way that it’s worth it. Plus, you saved so much money taking out the VIPs, summertime soldiers, and mediocre people that you’re still ahead on headcount expense.\\n\\nRemember, it’s generally a good idea, once you do all of this restructuring, to end up with smaller team sizes than you had before. By reducing the size of a team, and increasing the average quality level within the team, you will usually speed things up, while saving money.\\n\\nFinally, be sure to take out layers — especially at the top of the company. The best people who are now running all the key projects and divisions should be no more than one layer away from the CEO, and usually that means you can take out at least one layer, maybe two, and (shudder) maybe even more.\\n\\nSixth, put the recruiters to work, aggressively — but don’t rely on them for everything.\\n\\nNotably, for the really critical open jobs, go out and recruit the right person yourself, or better yet promote from within.\\n\\nAnd here’s a neat trick that actually works. Go out and re-recruit the best people who already left. Some of them have since discovered that the grass isn’t actually greener at whatever mediocre startup they joined or whatever other big company.\\n---\\n# Part 2: Retaining great people\\n\\nSeventh, ramp up college recruiting. This will be very important for you over the next couple years. College recruiting is the best way to get a bunch of new fired up people into your company who are hungry and who don’t realize quite how badly you suck. (That was a joke.)\\n\\nEighth, communicate within — tell everyone in your company clearly and unambiguously, we are here to win and here’s how we’re going to do it. It won’t be easy, but we can do it and we will do it, and we will have amazing stories to tell our grandchildren.\\n\\nYou don’t need to be certain of all the answers! Colin Powell says, “You know you’re a good leader when people follow you, if only out of curiosity.” So project boldness, and have that glint in your eye where people know you’re up to something big.\\n\\nNinth, shake things up. Directly on Powell’s curiosity point — change the story to something new. Overhaul the organization, move people around, fire people, promote other people, cancel products, double down on other products, do some acquisitions, cut some big deals, do some spinoffs, whatever — but change the story. Reintroduce curiosity.\\n\\nWhen all else fails, do a “shake and bake” — do a big transformative deal that you’re not sure will work but which you think has a real shot. That will at the very least inject energy back into the situation.\\n\\nI am being deliberately cavalier about this tactic, especially the “shake and bake” part. You can easily destroy your company with this kind of move.\\n\\nBut — and this is a very important but — a company in crisis often has a severe narrative or “story” problem that accompanies its business problems, and it can be hard to get people inside and outside the company motivated to reengage without you forcing a dramatic change to the story in some fundamental way.\\n---\\n# The Pmarca Blog Archives\\n\\nStories don’t change by themselves. Change the story.\\n\\nNext topic: how to talk a great person out of going to a startup\\n\\nI’m assuming based on all of the above that if you do the blocking and tackling right, you’re going to be able to convince a lot of your great people to not go to a different big company.\\n\\nTalking someone out of going to a startup is a separate challenge.\\n\\nSomeone usually wants to move from a big company to a startup for one or more of the following four reasons:\\n\\nFirst, she wants to build a new company instead of being a caretaker in someone else’s company.\\n\\nYou can talk someone out of this if you can show her how, if she stays with you for two more years, you are going to concretely better train and prepare her to kick butt at a startup when she does make such a move — particularly if she is on the management track.\\n\\nGive her a promotion, a big new job with a big new challenge, and clear responsibility. And tell her that if she kicks butt at this more significant challenge, she’ll not only be better prepared to be out on her own, but you will personally give her glowing recommendations and help her find the perfect startup or the perfect VC for her — in two years.\\n\\nThen, two years later, you can do the same thing again.\\n\\nI believe you are doing someone a huge favor when you do this. Most startups aren’t very good and have no prospect of real success, and most big company people aren’t very good at picking ‘em, although they never believe that. And by staying, your great person is gaining incredibly valuable experience by taking on new challenges and new responsibilities at your company that will help her succeed and flourish down the road wherever she ultimately decides to go.\\n---\\n# Part 2: Retaining great people\\n\\nIt’s not that unusual to see a young superstar division head or senior vice president at a big company who has been promoted rapidly over the last several years who has also been periodically on the verge of going to a startup and stayed each time for a new challenge instead. And there she is, running 100 or 500 or 2,000 people and doing incredibly well in her career. Win/win.\\n\\nNow, if you’re not willing to promote ‘em, that’s another story.\\n\\nSecond, she has a killer idea for a startup, or has fallen in love with a startup’s killer idea.\\n\\nIn this case, you’re probably better off letting her go to the startup.\\n\\nThis isn’t the case nearly as often as you’d think. Some of the startups I’ve seen great people join — including very recently — boggle my brain at how bad the ideas were.\\n\\nThird, she wants the financial upside of a startup.\\n\\nVisions of being the next Larry Page (Larriett Page?) are dancing in her head.\\n\\nYou can often defeat this by simply explaining the realities of the compensation package she’s being offered.\\n\\nExplain to her how her options will likely be worthless when the startup fails, how small a percentage of the company she’s actually being offered, how much she’s going to be diluted by future financing rounds, how far below market her package is overall, and how bad the medical and dental benefits are for her kids. And if she hasn’t changed her mind by that point, tell her a cramdown round story.\\n\\nFourth, she can’t function in a large environment. It’s too frustrating, too boring, too many rules, too much management, whatever.\\n\\nIn this case, you are probably also better off letting her go to the startup.\\n\\nThings not to do when trying to retain great people:\\n---\\n94 The Pmarca Blog Archives\\n\\nNow we’re getting into personal opinion, but for what it’s worth…\\n\\nDon’t create a new group or organization within your company whose job is “innovation”. This takes various forms, but it happens reasonably often when a big company gets into product trouble, and it’s hugely damaging.\\n\\nHere’s why:\\n\\n- First, you send the terrible message to the rest of the organization that they’re not supposed to innovate.\\n- Second, you send the terrible message to the rest of the organization that you think they’re the B team.\\n\\nThat’s a one-two punch that will seriously screw things up.\\n\\nInstead, focus on boosting the innovation culture of the entire company.\\n\\nDon’t do arbitrary large spot bonuses or restricted stock grants to try to give a small number of people huge financial upside.\\n\\nAn example is the Google Founders’ Awards program, which Google has largely stopped, and which didn’t work anyway.\\n\\nIt sounds like a great idea at the time, but it causes a severe backlash among both the normal people who don’t get it (who feel like they’re the B team) and the great people who don’t get it (who feel like they’ve been screwed).\\n\\nClosing thought\\n\\nIn general, the intangibles that keep great people are: the quality of the people they’re working with, the interestingness level of their projects, and whether they are learning and growing.\\n\\nThe tangibles are: winning, and a high stock price.\\n\\nAs the leader, you have to really believe that you can get your company back to winning and therefore back to a high stock price.\\n---\\n# Part 2: Retaining great people\\n\\n95\\n\\nIf not, you should sell the company.\\n---\\nThe Pmarca Guide to\\nCareer, Productivity, and\\nSome Other Things\\n---\\n# Introduction\\n\\nIn real life — as opposed to blogging — one of my least favorite things to do is give career planning advice. Most people who say they want career planning advice aren’t actually looking for advice — they just want validation of the path they have already chosen. Because of that, giving someone career planning advice is one of the surest ways to end up feeling like an a******.\\n\\nHowever, as with so many other things, career planning is a topic about which I have plenty of opinions. And since I started this blog, I’ve received a lot of questions from people who are looking for career planning advice. So, this series of posts will present my opinions on career planning in today’s world.\\n\\n# Disclaimers:\\n\\n- These posts are aimed at high-potential people who want to excel throughout their careers and make a significant impact on their fields and the world. These posts are not appropriate for people for whom work/life balance is a high priority or for whom lifestyle is particularly important — if that’s you, there are plenty of existing career planning resources for you already!\\n- My background is biased towards high-tech companies and Silicon Valley, and my advice will be most relevant to people entering either my industry or other industries that are like my industry — fast moving, rapidly changing, and characterized by lots of new companies and lots of\\n---\\n# The Pmarca Blog Archives\\n\\nOpportunity for new people. Some of this advice may be applicable to people entering other kinds of fields — but I wouldn\\'t know and I won\\'t guarantee it.\\n\\n- I\\'ll use a lot of words like \"ambition\" and \"promotion\" and \"gaining more responsibility\". It may seem like I\\'m talking about moving up through the management ranks and managing more and more people, but my intention is for all of this advice to be equally relevant to people in purely technical careers, such as software programming. If you aren\\'t interested in managing people, then when I talk about promotion and advancement, just think about getting broader latitude to work on or lead more complex technical projects, assuming more technical seniority within a company, and the like.\\n- Everything that follows is purely personal opinion — specifically, these are the things I would want to know if I were entering college today. I\\'m sure there are many equally valid counterpoints to each of my points, and I look forward to reading them on other people\\'s blogs!\\n---\\n# Part 1: Opportunity\\n\\nThe first rule of career planning: Do not plan your career.\\n\\nThe world is an incredibly complex place and everything is changing all the time. You can’t plan your career because you have no idea what’s going to happen in the future. You have no idea what industries you’ll enter, what companies you’ll work for, what roles you’ll have, where you’ll live, or what you will ultimately contribute to the world. You’ll change, industries will change, the world will change, and you can’t possibly predict any of it.\\n\\nTrying to plan your career is an exercise in futility that will only serve to frustrate you, and to blind you to the really significant opportunities that life will throw your way.\\n\\nCareer planning = career limiting.\\n\\nThe sooner you come to grips with that, the better.\\n\\nThe second rule of career planning: Instead of planning your career, focus on developing skills and pursuing opportunities.\\n\\nI’ll talk a lot about skills development in the next post. But for the rest of this post, I’m going to focus in on the nature of opportunities.\\n\\nOpportunities are key. I would argue that opportunities fall loosely into two buckets: those that present themselves to you, and those that you go out and create. Both will be hugely important to your career.\\n---\\n# The Pmarca Blog Archives\\n\\nOpportunities that present themselves to you are the consequence — at least partially — of being in the right place at the right time. They tend to present themselves when you’re not expecting it — and often when you are engaged in other activities that would seem to preclude you from pursuing them. And they come and go quickly — if you don’t jump all over an opportunity, someone else generally will and it will vanish.\\n\\nI believe a huge part of what people would like to refer to as “career planning” is being continuously alert to opportunities that present themselves to you spontaneously, when you happen to be in the right place at the right time.\\n\\n- A senior person at your firm is looking for someone young and hungry to do the legwork on an important project, in addition to your day job.\\n- Your former manager has jumped ship to a hot growth company and calls you three months later and says, come join me.\\n- Or, a small group of your smartest friends are headed to Denny’s at 11PM to discuss an idea for a startup — would you like to come along?\\n\\nI am continually amazed at the number of people who are presented with an opportunity like one of the above, and pass.\\n\\nThere’s your basic dividing line between the people who shoot up in their careers like a rocket ship, and those who don’t — right there.\\n\\nThe second bucket of opportunities are those you seek out and create. A lot of what will follow in future posts in this series will discuss how to do that. However, let me say up front that I am also continually amazed at the number of people who coast through life and don’t go and seek out opportunities even when they know in their gut what they’d really like to do. Don’t be one of those people. Life is way too short.\\n\\nThe world is a very malleable place. If you know what you want, and you go for it with maximum energy and drive and passion,\\n---\\n# Part 1: Opportunity 101\\n\\n\"the world will often reconfigure itself around you much more quickly and easily than you would think.\"\\n\\nNow, I’m not proposing that you simply ping pong from opportunity to opportunity randomly. You can have a strategy. And here’s how I think that strategy should work.\\n\\nPeople who manage money professionally don’t think about individual investments in isolation; they think of those investments as part of an overall portfolio. Each investment has its potential return — the benefit you get from owning it — and its potential risks — the things that can go wrong. A portfolio, then, is a set of investments, and the portfolio assumes the return and risk characteristics of all of the investments blended together.\\n\\nViewed in that context, it is often logical to have individual investments within a portfolio that are far more risky than one would normally find comfortable — if the potential return is good enough. Or, investments that are far less risky and have far less return potential than one would normally want — to protect one’s downside. The risk of any individual investment is not important; what is important is how the risks — and the potential returns — of all of the investments combine in the overall portfolio.\\n\\nI believe you should look at your career as a portfolio of jobs/roles/opportunities. Each job that you take, each role that you choose to fill, each opportunity you pursue, will have a certain potential return — the benefits you can get from taking it, whether those benefits come in the form of income, skill development, experience, geographic location, or something else. Each job will also have a certain risk profile — the things that could go wrong, from getting fired for not being able to handle the job’s demands, to having to move somewhere you don’t want to, to the company going bankrupt, to the opportunity cost of not pursuing some other attractive opportunity.\\n\\nOnce you start thinking this way, you can think strategically about your career over its likely 50+ year timespan.\\n\\nFor example, when you are just out of school and have a low\\n---\\n# The Pmarca Blog Archives\\n\\nburn rate and geographic Yexibility, you can take jobs with a certain return/risk proXle. If you get married and have kids, you will take jobs with a diWerent return/risk proXle. Later, when your kids grow up and you are once again free to move about and you don’t have to worry about tuition payments and a mortgage on a big house in a great school district, but you now have far more experience than you did when you were Xrst starting out, you can take jobs with a third return/risk proXle.\\n\\nMost people do not think this way. They might occasionally think this way, but they don’t do it systematically. So when an opportunity pops up, they evaluate it on a standalone basis — “boy, it looks risky, I’m not sure I should do it”. What you should automatically do instead is put it in context with all of the other risks you are likely to take throughout your entire career and decide whether this new opportunity Fts strategically into your portfolio.\\n\\nLet’s dig into the concept of risk a little more.\\n\\nI’m not talking about the form of risk that you think of when you think of stepping out into the crosswalk and getting run over by an Escalade. I’m talking about the form of risk that Xnancial professionals deal with (see the classic book Against the Gods: The Remarkable Story of Risk for more on this), and startup entrepreneurs deal with, and that you deal with any time you make any decision. There are a set of potential downsides to almost any decision — but they can be analyzed, and oMen quantiFed, and thereby brought under control.\\n\\nWhich is important, because in life, there is generally no opportunity without risk. Doing the legwork on that extra project for the senior person at your Xrm? You risk exhausting yourself and doing your day job poorly. Joining your former manager at that hot growth company? Maybe it tanks six months later and then your current employer won’t rehire you. Join those smart friends at Denny’s and start a new company with them? Maybe it completely fails, and you have to explain why you were so foolish at every job interview you do for the rest of your\\n---\\n# Part 1: Opportunity 103\\n\\nLife. There are always real and legitimate reasons why people often pass on opportunities — they see the risks and they wish to avoid them.\\n\\nThe issue is that without taking risk, you can’t exploit any opportunities. You can live a quiet and reasonably happy life, but you are unlikely to create something new, and you are unlikely to make your mark on the world.\\n\\nTo quote Aaron Brown — a legendary Morgan Stanley derivatives trader and poker expert — from his extraordinary book The Poker Face of Wall Street, when talking about hiring traders at an investment bank:\\n\\nWhat I listen for is someone who really wanted something that could be obtained only through taking the risk, whether that risk was big or small.\\n\\nIt’s not even important that she managed the risk skillfully; it’s only important that she knew it was there, respected it, but took it anyway.\\n\\nMost people wander through life, carelessly taking whatever risk crosses their path without compensation, but never consciously accepting extra risk to pick up the money and other good things lying all around them.\\n\\nOther people reflexively avoid every risk or grab every loose dollar without caution.\\n\\nI don’t mean to belittle these strategies; I’m sure they make sense to the people who pursue them. I just don’t understand them myself.\\n\\nI do know that none of these people will be successful traders.\\n\\n…or successful at anything important in life.\\n\\nSo, when you are presented with an opportunity, carefully analyze its risks, but:\\n\\n- Do so within the context of your likely lifetime portfolio of risks…\\n- And do so realizing that taking risk can be a good thing when it leads to pursuing the best opportunities.\\n---\\n# The Pmarca Blog Archives\\n\\nAll that said, here are some of my opinions about the kinds of risks you should take and when:\\n\\n- When you are just out of school — and assuming that you are relatively free to move and have a low burn rate — is when you should optimize for the rate at which you can develop skills and acquire experiences that will serve you well later. You should specifically take income risk in order to do that. Always take the job that will best develop your skills and give you valuable experiences, regardless of its salary. This is not the time in your career to play it safe.\\n- When you have family obligations — a spouse, two and a half kids, a dog, and a picket fence — that’s obviously the time to crank back on the income risk and instead take a little risk that you might not learn as much or advance as quickly or join that hot new startup. However, even this is not black and white! In Silicon Valley, for example, it can still make a lot of sense for a young parent to take a risk on a hot new startup because it will usually be easy to get another job if the startup fails — especially if one has developed more useful skills and experiences along the way.\\n- There may be times when you realize that you are dissatisfied with your field — you are working in enterprise software, for example, but you’d really rather be working on green tech or in a consumer Internet company. Jumping from one field into another is always risky because your specific skills and contacts are in your old field, so you’ll have less certainty of success in the new field. This is almost always a risk worth taking– standing pat and being unhappy about it has risks of its own, particularly to your happiness. And it is awfully hard to be highly successful in a job or field in which one is unhappy.\\n- Likewise with geography risk. You start out in one city — say, working at a software company in Philadelphia — and you’re doing well. You get the opportunity to jump to a faster growing software company in Silicon Valley. Should you take the risk of moving geographies — to a place where you don’t know anybody, and where the cost of living is higher? Almost\\n---\\n# Part 1: Opportunity 105\\n\\nCertainly — the additional risks of not having an extensive personal network and of tolerating a lower standard of living for some period of time are almost certainly overcome by the upside of being at a better company, relocating yourself to the heart of your industry, and setting yourself up to exploit many more great opportunities over the next decades.\\n\\nWorking for a big company is, I believe, much riskier than it looks. I’ll talk about this more in the next post, but people who work at big companies are subject to impersonal layoffs at any time, and often forego the opportunity to develop skills and gain experiences as rapidly as they would at someplace smaller and faster growing. And then five or ten years pass, and you realize your skills and experiences are only relevant for jobs at other big companies — and then you have a real problem.\\n\\nFinally, pay attention to opportunity cost at all times. Doing one thing means not doing other things. This is a form of risk that is very easy to ignore, to your detriment.\\n\\nThose are just a few examples. You will run into specific return/risk situations that nobody can predict ahead of time. When you do, just sit down and tease apart the risks — and think hard about whether, in the context of your overall career portfolio, they are really so scary that they justify passing on the return potential of a great opportunity. They often won’t.\\n\\nOne more quote, this time from Nassim Nicholas Taleb in The Black Swan:\\n\\nSeize any opportunity, or anything that looks like opportunity. They are rare, much rarer than you think…\\n\\nMany people do not realize they are getting a lucky break in life when they get it. If a big publisher (or a big art dealer or a movie executive or a hotshot banker or a big thinker) suggests an appointment, cancel anything you have planned: you may not see such a window open up again.\\n\\nOf course, if you really are high-potential, you’re naturally going to be seeking out risks in your career in order to max-\\n---\\n# The Pmarca Blog Archives\\n\\nimize your level of achievement, so you’re thinking, c’mon, Andreessen, get to the next point. For which, see the next post!\\n---\\n# Part 2: Skills and education\\n\\n[Please read my opening disclaimers. Note especially that these are only personal views; I am not trying to malign anyone else’s choice of career or education path. These are simply the things I would want to be told if I were entering college today.]\\n\\nThis post discusses skills acquisition throughout your lifetime, including your formal education. So I will start with college and move on from there.\\n\\nWhat should I study in college?\\n\\nSome people argue that college will be your one chance in life to pursue your passion — to spend four years doing nothing but studying whatever you love the most, whether that’s Renaissance literature or existential philosophy.\\n\\nI disagree.\\n\\nIf you intend to have an impact on the world, the faster you start developing concrete skills that will be useful in the real world, the better — and your undergrad degree is a great place to start. Once you get into the real world and you’re primed for success, then you can pursue your passion.\\n\\nA typical liberal arts degree will be almost useless on its own. So you usually won’t have the option of immediately entering the\\n---\\n# The Pmarca Blog Archives\\n\\nworkforce in a high-impact way when you graduate, and you’ll have to go get a useful graduate degree.\\n\\nAnd even if you are already planning to get a useful graduate degree, you are much better off combining it with a substantive undergraduate degree — thereby becoming a “double threat”. More on this in a bit.\\n\\nWhich undergraduate degrees are useful in the real world?\\n\\nTypically, those that have a technical element of some form — that teach you how to do something substantive.\\n\\nEngineering degrees obviously qualify. The current myth that engineering and computer science degrees are less useful because all the jobs are going to India and China is silliness; ignore it.\\n\\nHard science degrees — physics, chemistry — also clearly qualify, as do mathematics and economics.\\n\\nWhy do I take this stance?\\n\\n- Technical degrees teach you how to do something difficult and useful that matters in the real world. Even if you don’t end up actually doing what the degree teaches you how to do, going through the experience of learning how to do it will help you go through other serious learning experiences in your career. Complexity and difficulty will not faze you.\\n- Plus, technical degrees teach you how think like an engineer, a scientist, an economist, or a mathematician — how to use reason, logic, and data. This is incredibly useful in the real world, which generally demands rigorous thinking on the path to doing anything big.\\n- Plus, technical degrees indicate seriousness of purpose to future employers and partners. You get coded right up front as someone who is intent on doing real things.\\n\\nGraduating with a technical degree is like heading out into the real world.\\n---\\n# Part 2: Skills and education  109\\n\\nworld armed with an assault riGe instead of a dull knife. Don’t miss\\nthat opportunity because of some fuzzy romanticized view of\\nliberal arts broadening your horizons.\\n\\nWhat graduate degrees are useful in the\\nreal world?\\n\\nGenerally, if you have a useful undergrad degree, I think gradu-\\nate degrees are overrated. You can usually hit the workforce in a\\nreal job with just an undergraduate degree and progress rapidly\\naccording to your own ability and energy from there.\\n\\nOf course, you’re hearing this from someone who could barely\\nstand to stay in school long enough to Xnish undergrad, so take\\nthat for what it’s worth.\\n\\nIf you don’t have a useful undergrad degree, then a useful grad-\\nuate degree is deFnitely a great idea. Business, math, economics,\\nscience — something practical, substantive.\\n\\nQuite a few people in business have paired a liberal arts under-\\ngrad degree with an MBA. They seem to do just Xne. But I think\\nthat’s a missed opportunity — much better would be an MBA\\non top of an engineering or math undergraduate degree. Peo-\\nple with that combination are invaluable, and there aren’t nearly\\nenough of them running around.\\n\\nAs far as PhDs are concerned — some of my best friends have\\nPhDs. However, most of the people who have a huge impact\\non the world — outside of pure research and education — do\\nnot have PhDs. Draw from that whatever conclusion you think\\nmakes sense.\\n\\nWhat college or university should I go to?\\n\\nTry very very hard to go to one of the best colleges or universi-\\nties in the world for your chosen Xeld.\\n\\nDon’t worry about being a small Fsh in a big pond — you want to\\nalways be in the best pond possible, because that’s how you will get\\n---\\n# The Pmarca Blog Archives\\n\\nExposed to the best people and the best opportunities in your field.\\n\\nIf you can’t start out in one of the top schools for your field, then work hard and get great grades and transfer as fast as you possibly can into a top school.\\n\\nAnd if you can’t do that — if you end up getting your undergrad at a school that’s not one of the top in your field — then strongly consider pursuing a graduate degree in your field at a great school for your field.\\n\\nIn this way, even if your only option is starting out at a community college, by the time you finish 4-6 years of education, you can vault yourself into the top tier of your field.\\n\\nWhat should I do while I’m in school?\\n\\nI’m a huge fan of gaining practical experience in school by working during the school year, and then doing as many internships and co-op programs as you can.\\n\\nParticularly at research universities — where you want to be — there are lots of on-campus jobs that will give you highly valuable work experience. Take a job that will teach you something useful and practical — the two obvious examples are working for a professor in your field with an active research program who needs undergrads to do some of the work, and being a staff member at a campus computer lab or research lab.\\n\\nAnd then aggressively pursue internship and co-op programs — to get real-world working experience at companies in your field, before you even graduate. Target the best companies in your field, and go after the opportunities early and often.\\n\\nIf you do this right, by the time you graduate even with just an undergrad degree, you can have a year and a half of real working experience at high-quality companies plus another four years of practical experience from an on-campus job under your belt.\\n---\\n# Part 2: Skills and education\\n\\nPlus, you will be implicitly demonstrating to future employers how determined you are to succeed and how hard you are willing to work.\\n\\nIn contrast, almost any other way you can spend your time while in school aside from getting reasonably good grades is a mistake.\\n\\nHow should I think about skills development once I’m out of school?\\n\\nYou should view graduating from school as just the beginning of your development of a whole portfolio of useful skills.\\n\\nOne of the single best ways you can maximize the impact you will have on the world and the success you will have in your career is by continuously developing and broadening your base of skills.\\n\\nMy favorite way of thinking about this is:\\n\\nSeek to be a double/triple/quadruple threat.\\n\\nSeek to be a double/triple/quadruple threat.\\n\\nScott Adams — the creator of Dilbert — nails it:\\n\\nIf you want an average successful life, it doesn’t take much planning. Just stay out of trouble, go to school, and apply for jobs you might like. But if you want something extraordinary, you have two paths:\\n\\n- Become the best at one specific thing.\\n- Become very good (top 25%) at two or more things.\\n\\nThe first strategy is difficult to the point of near impossibility. Few people will ever play in the NBA or make a platinum album. I don’t recommend anyone even try.\\n\\nThe second strategy is fairly easy. Everyone has at least a few areas in which they could be in the top 25% with some effort. In my case, I can draw better than most people, but I’m hardly an artist. And I’m not any funnier than the average standup comedian who never makes it big, but I’m funnier than most people. The magic is that few people can draw well and write jokes. It’s the combination of the two that makes what I do so rare. And when you add in my business.\\n---\\n# The Pmarca Blog Archives\\n\\nness background, suddenly I had a topic that few cartoonists could hope to understand without living it.\\n\\n…Get a degree in business on top of your engineering degree, law degree, medical degree, science degree, or whatever. Suddenly you’re in charge, or maybe you’re starting your own company using your combined knowledge.\\n\\nCapitalism rewards things that are both rare and valuable. You make yourself rare by combining two or more “pretty goods” until no one else has your mix…\\n\\nIt sounds like generic advice, but you’d be hard pressed to find any successful person who didn’t have about three skills in the top 25%.\\n\\nThe fact is, this is even the secret formula to becoming a CEO. All successful CEO’s are like this. They are almost never the best\\n---\\n# Part 2: Skills and education 113\\n\\nFirst, communication.\\n\\nBack to Scott Adams:\\n\\nI always advise young people to become good public speakers (top 25%). Anyone can do it with practice. If you add that talent to any other, suddenly you’re the boss of the people who have only one skill…\\n\\nAt least one of the skills in your mixture should involve communication, either written or verbal.\\n\\nThe great thing about communication is that most people are terrible at it, because they never take it seriously as a skill to develop.\\n\\nThis is particularly true of engineers and technical people, who often quaintly believe that the world works logically and that people will automatically recognize the quality of things.\\n\\nHa!\\n\\nOf course, communication is critically important because it’s how you convey information and concepts to lots of people in ways that will cause them to change their behavior.\\n\\nThis is one good argument for certain liberal arts undergrad degrees, such as English. But you don’t need specific college training to be a good communicator — you can learn communication many other ways, including by doing, by practicing, by taking classes (how about a class in standup comedy? I’m serious!), and by reading a lot. And communication in combination with some other useful skill is much more powerful than communication alone.\\n\\nAn engineer or a finance person or a lawyer who can communicate is hugely more valuable than one who cannot.\\n\\nAnd in the long run, you are going to have a very hard time ever changing the world if you can’t communicate really well.\\n\\nSecond, management.\\n\\nIf at all possible, learn how to manage people.\\n---\\n# The Pmarca Blog Archives\\n\\nThe best way is to learn from a great manager.\\n\\nEarly in your career, make sure you are working for a great manager — you’ll know her when you see her in action — and then ask her to teach you how to do it.\\n\\nAnd then give it a shot — ask for and get responsibility for a team of people whom you manage.\\n\\nEven if your career path won’t involve managing lots of people, being able to manage will give you a highly valuable tool that you can pull out whenever you need it, instead of forcing you to always be reliant on other people to manage.\\n\\nWorst case, you’ll understand a lot more about why companies work the way they do and why people are the way they are. Which is hugely helpful when you set about doing something new.\\n\\nThird, sales.\\n\\nLearn how to sell.\\n\\nI don’t mean, learn how to sell someone a set of steak knives they don’t need — although I hear that can be quite an education by itself.\\n\\nI mean, learn how to convince people that something is in their best interest to do, even when they don’t realize it up front.\\n\\nThink of this as the art of being able to interact with people such that they will do what you want, predictably and repeatedly, as long as you are making sense and offering them something they should want.\\n\\nThis is another terribly underrated skill, at least among people who aren’t professional salespeople. But it’s an incredibly general skill that can be helpful not only in your career but throughout your entire life. Knowing how to sell can also help you recruit, raise money, talk to investors, create business partnerships, deal with reporters and analysts, and more — even, God help you, in your marriage and with your kids.\\n---\\n# Part 2: Skills and education\\n\\nSpending a year or more in an actual salesforce can be a superb idea even if you have no intention of making your career in sales. John Doerr once told me that the year he spent “carrying a bag” in sales at Intel in the late 70’s was the most valuable year of his life in terms of skills development — skills he now uses every day as one of the world’s most successful venture capitalists. If you’ve ever had John Doerr try to talk you into something, you’ll know what he means.\\n\\nFourth, Finance.\\n\\nA strong level of financial literacy — financial theory, understanding financial statements, budgeting and planning, corporate structure, how equity and debt markets work — will be a huge boost for almost any career.\\n\\nAgain, this is a more general skill than it appears to be — having financial skills will also help you in your personal life, as well as in any non-profit organizations in which you participate.\\n\\nAnd if you ever want to start your own company, being financially literate will be a huge help.\\n\\nIf you’re, for example, a programmer working at a tech company and you don’t know anything about finance, go find a finance person and offer to teach her all about software in return for her teaching you all about finance.\\n\\nOtherwise, finance is something you can easily learn by taking classes, or by reading books.\\n\\nAlso, make an investment in yourself by reading the Financial Times and the Wall Street Journal every day. Read those two papers cover to cover for five years and you’ll know a lot of what you need to know. (This recommendation will be even more practical once Rupert Murdoch makes the Wall Street Journal website free. The Financial Times just announced its website is becoming free for casual readers. But even still, if I were you, I’d get paper subscriptions to those two papers, and every day take an hour and sit in a corner and read them cover to cover.\\n---\\n# The Pmarca Blog Archives\\n\\n— except of course for the Journal‘s op-ed pages; those will rot your brain.)\\n\\nFifth, international.\\n\\nTime spent on the ground in other countries and in other cultures will pay off in many different ways throughout your career.\\n\\nIf your company, or university, offers you the opportunity to spend a year in another country, it’s probably a pretty good idea to take it.\\n\\nPersonally I’d incline towards spending that time in younger, faster-growing market economies — like China, India, South Korea, or Argentina — versus older, slower-growing market economies like France or Germany. But almost any international exposure is likely to be helpful.\\n\\nThis is another of those skills where there’s both a pragmatic benefit — you will have experience on the ground with people in a specific country — and a general benefit — you will know how to think more broadly than the average American, or American president, who has never been out of the country.\\n\\nThere aren’t very many interesting businesses anymore that don’t have a strong international element — in fact, many American companies now generate the majority of their revenue and profit outside the US. Having a global perspective can only help you maximize your future opportunities.\\n\\nAny final thoughts on education?\\n\\nYes.\\n\\nIf you’re in college now, or about to graduate from college, and you come from an upper-middle-class background — especially if you are going to an Ivy League school — take the time to read a provocative essay David Brooks wrote several years ago called “The Organization Kid”.\\n---\\n# Part 2: Skills and education  117\\n\\nSome excerpts:\\n\\nI asked several [Ivy League] students to describe their daily schedules, and their replies sounded like a session of Future Workaholics of America: crew practice at dawn, classes in the morning, resident-adviser duty, lunch, study groups, classes in the afternoon, tutoring disadvantaged kids in Trenton, a cappella practice, dinner, study, science lab, prayer session, hit the StairMaster, study a few hours more…\\n\\n[N]owhere did I find any real unhappiness with this state of affairs; nowhere did I find anybody who seriously considered living any other way. These super-accomplished kids aren’t working so hard because they are compelled to… It’s not the stick that drives them on, it’s the carrot. Opportunity lures them… [I]n a rich information-age country like America, promises of enjoyable work abound — at least for people as smart and ambitious as these. “I want to be this busy,” one young woman insisted, after she had described a daily schedule that would count as slave-driving if it were imposed on anyone…\\n\\nThat doesn’t mean that these leaders-in-training are money-mad (though they are certainly career-conscious). It means they are goal-oriented. An activity — whether it is studying, hitting the treadmill, drama group, community service, or one of the student groups they found and join in great numbers — is rarely an end in itself. It is a means for self-improvement, résumé-building, and enrichment. College is just one step on the continual stairway of advancement, and they are always aware that they must get to the next step (law school, medical school, whatever) so that they can progress up the steps after that…\\n\\nThey’re not trying to buck the system; they’re trying to climb it, and they are streamlined for ascent…\\n\\nKids of all stripes [today] lead lives that are structured, supervised, and stuffed with enrichment… Today’s elite kids are likely to spend their afternoons and weekends shuttling from one skill-enhancing activity to the next. By the time they reach college, they take this sort of pace for granted…\\n\\nIn short, at the top of the meritocratic ladder we have in America a generation of students who are extraordinarily bright, morally earnest, and incredibly industrious. They like to study and socialize in groups. They create and join organizations with great enthusiasm. They are responsible, safety-conscious, and mature. They feel no compelling need to rebel — not even a hint of one. They not only defer to authority; they admire it. “Alienation” is a word one\\n---\\n# The Pmarca Blog Archives\\n\\nalmost never hears from them. They regard the universe as beneficent, orderly, and meaningful. At the schools and colleges where the next leadership class is being bred, one finds not angry revolutionaries, despondent slackers, or dark cynics but the Organization Kid.\\n\\nNow, if your parents are middle class, or lower middle class, and you’re attending a state school or a local college, and you’re working your way through school in order to pay for tuition, you can stop reading now; you probably don’t have anything to worry about. But if you read Brooks’ essay and recognize yourself, read on.\\n\\nThe good news is that Brooks’ fundamental thesis is correct: kids graduating from top colleges and universities today are in many ways better prepared for achievement and success than ever before. As a group, you are better educated, better trained, more motivated, and more serious than many of your predecessors. And that is fantastic.\\n\\nThe risk, however, is this:\\n\\nIf you have lived an orchestrated existence, gone to great schools, participated in lots of extracurricular activities, had parents who really concentrated hard on developing you broadly and exposing you to lots of cultural experiences, and graduated from an elite university in the first 22 or more years of your life, you are in danger of entering the real world, being smacked hard across the face by reality, and never recovering.\\n\\nWhat do I mean? It’s possible you got all the way through those first 22 or more years and are now entering the workforce without ever really challenging yourself. This sounds silly because you’ve been working hard your whole life, but working hard is not what I’m talking about. You’ve been continuously surrounded by a state of the art parental and educational support structure — a safety net — and you have yet to make tough decisions, by yourself, in the absence of good information, and to live with the consequences of screwing up.\\n\\nIn my opinion, it’s now critically important to get into the real world and really challenge yourself — expose yourself to risk.\\n---\\n# Part 2: Skills and education  119\\n\\nPut yourself in situations where you will succeed or fail by your own decisions and actions, and where that success or failure will be highly visible.\\n\\nBy failure I don’t mean getting a B or even a C, but rather: having your boss yell at you in front of your peers for screwing up a project, launching a product and seeing it tank, being unable to meet a ship date, missing a critical piece of information in a financial report, or getting fired.\\n\\nWhy? If you’re going to be a high achiever, you’re going to be in lots of situations where you’re going to be quickly making decisions in the presence of incomplete or incorrect information, under intense time pressure, and often under intense political pressure. You’re going to screw up — frequently — and the screwups will have serious consequences, and you’ll feel incredibly stupid every time. It can’t faze you — you have to be able to just get right back up and keep on going.\\n\\nThat may be the most valuable skill you can ever learn. Make sure you start learning it early.\\n---\\n# Part 3: Where to go and why\\n\\nWhen picking an industry to enter, my favorite rule of thumb is this:\\n\\nPick an industry where the founders of the industry — the founders of the important companies in the industry — are still alive and actively involved.\\n\\nThis is easy to figure out — just look at the CEO, chairman or chairwoman, and board of directors for the major companies in the industry.\\n\\nIf the founders of the companies are currently serving as CEO, chairman or chairwoman, or board member of their companies, it’s a good industry to enter. It is probably still young and vital, and there are probably still opportunities to exploit all over the place, either at those companies or at new companies in that industry.\\n\\nIf not — if the industry’s founders are dead, or old and out of touch — beware. That industry is now dominated by companies that are being run by second or third or even fourth generation managers who inherited their companies pre-built, and are serving as caretakers.\\n\\nIf you are young and want to have an impact, you want to be in an industry where there is a lot of growth and change and flux and opportunity.\\n\\nAs an industry ages, the vitality drains out until all that’s left is a\\n---\\n# Part 3: Where to go and why\\n\\nSet of ossified remnants in the form of oligopolistic entities of which you would find being a part to be completely soul-killing.\\n\\nThe exception comes when an industry has gotten so old and ossified that the clear opportunity exists to up-end it and introduce a new order, a new way of doing things, and therefore a new set of companies.\\n\\nIn some industries this happens routinely — e.g. every 10-20 years. This is the case in technology, for example, and financial services.\\n\\nIt doesn’t seem to happen ever in certain other industries which I won’t name for fear of being permanently cut off from my necessary supply of oil, gas, music, and movies.\\n\\nIf you’re going to enter an old industry, make sure to do it on the side of the forces of radical change that threaten to up-end the existing order — and make sure that those forces of change have a reasonable chance at succeeding.\\n\\nSecond rule of thumb:\\n\\nOnce you have picked an industry, get right to the center of it as fast as you possibly can.\\n\\nYour target is the core of change and opportunity — figure out where the action is and head there, and do not delay your progress for extraneous opportunities, no matter how lucrative they might be.\\n\\nNever worry about being a small fish in a big pond. Being a big fish in a small pond sucks — you will hit the ceiling on what you can achieve quickly, and nobody will care. Optimize at all times for being in the most dynamic and exciting pond you can find. That is where the great opportunities can be found.\\n\\nApply this rule when selecting which company to go to. Go to the company where all the action is happening.\\n\\nOr, if you are going to join a startup or start your own company, always make sure that your startup is aimed at the largest and\\n---\\n# The Pmarca Blog Archives\\n\\nmost interesting opportunity available — the new markets that are growing fast and changing rapidly.\\n\\nAlso apply this rule when selecting which city to live in. Go to the city where all the action is happening.\\n\\nFor technology, at least in the US, this is Silicon Valley. For entertainment, this is Los Angeles. For politics, Washington DC. For coffee, Seattle. For financial services, New York — unless you are convinced that there are equally compelling opportunities someplace else, like London or Hong Kong or Shanghai.\\n\\nIn my opinion, living anywhere other than the center of your industry is a mistake. A lot of people — those who don’t live in that place — don’t want to hear it. But it’s true. Geographic locality is still — even in the age of the Internet — critically important if you want to maximize your access to the best companies, the best people, and the best opportunities. You can always cite exceptions, but that’s what they are: exceptions.\\n\\nNo one cares who the top filmmaker in Chicago is — hell, people often don’t even care who the top filmmaker in New York is, and quite a lot of films get made out of New York. On the other hand, the top 50 filmmakers in Los Angeles are all very important people in their industry.\\n\\nLet’s flavor all of the above with a little nuance:\\n\\n“Current importance” may not be the same as “greatest change”.\\n\\nWhenever you believe that the currently dominant companies, or cities, are not the places of greatest change and opportunity, you have a decision to make.\\n\\nPerhaps New York, while clearly the financial services capital of the world, is not the place of greatest opportunity for someone new. Perhaps, for you, that would be Dubai, or Buenos Aires, or Prague, or Macau.\\n\\nAnd perhaps Goldman Sachs, Morgan Stanley, Lehman Brothers, Citigroup, and JP Morgan Chase, while clearly the most\\n---\\n# Part 3: Where to go and why\\n\\nImportant financial services companies in the world, are not the companies of greatest opportunity for someone new. Perhaps, for you, that’s a totally different kind of financial services company, like Paypal.\\n\\nThen you have a decision to make — whether to tilt a little conservative and stick with the currently most important place and companies under the rationale that they are still the major agents of change in the industry, or tilt aggressive and go someplace or to some firm that’s up and coming and might represent disruptive change and therefore even greater opportunity.\\n\\nEither way, to quote Pink Floyd, “set the controls for the heart of the sun” — be sure you’re heading where the action is, where the biggest opportunities in your field are, as you’ve chosen to think about it. Don’t fart around in second and third tier companies that don’t have a clear mission to dominate their markets.\\n\\nThird rule:\\n\\nIn a rapidly changing field like technology, the best place to get experience when you’re starting out is in younger, high-growth companies.\\n\\n(This is not necessarily true in older and more established industries, but those aren’t the industries we’re talking about.)\\n\\nThere are a bunch of great things that you get when you go to a younger, high-growth company:\\n\\n- You’ll get to do lots of stuff. There will be so much stuff to do in the company that you’ll be able to do as much of it as you can possibly handle. Which means you’ll gain skills and experience very quickly.\\n- You’ll probably get promoted quickly. Fast-growing companies are characterized by a chronic lack of people who can step up to all the important new leadership jobs that are being created all the time. If you are aggressive and performing well, promotions will come quickly and easily.\\n- You’ll get used to being in a high-energy, rapidly-changing environment with sharp people and high expectations. It’s like\\n---\\n# The Pmarca Blog Archives\\n\\ntraining for a marathon while wearing ankle weights — if you ever end up going to a big company, you’ll blow everyone away. And if you ever go to a startup, you’ll be ready for the intensity.\\n\\n- Reputational benefit. Having Silicon Graphics from the early 90’s, or Netscape from the mid-90’s, or eBay from the late 90’s, or Paypal from the early 00’s, or Google from the mid-00’s on your resume is as valuable as any advanced degree — it’s a permanent source of credibility.\\n\\nIn contrast to going to a big company: working for a big company teaches you how to work for big companies. The way things work at a big company is usually unique to big companies. So, working for a big company is often a statement that you plan to spend your career at big companies — and lots of people are very happy doing that, but I doubt that’s your intention or you wouldn’t be reading this post.\\n\\nIn contrast to going to a startup: when you are first starting your career, you should realize that raw startups are highly variable in terms of the experiences you will have. Some can be great, but many are very poorly managed and go nowhere. You will probably be better off going somewhere that’s already succeeding, gain skills and experience, and then go to a startup.\\n\\nIn contrast to going to a mediocre small or mid-sized company that’s not growing: those are great places to go if you don’t want to go anywhere yourself. If you find yourself stuck in one, either figure out how to get the company unstuck and on a fast growth path, or get yourself unstuck.\\n\\nThere is a caveat to all this, which is as follows:\\n\\nDon’t just be a “summertime soldier” — don’t go someplace because it’s already successful, and then bail when things get tough.\\n\\nAny hiring manager for the rest of your career will be able to read that on your resume just by looking at the dates.\\n\\nHigh-growth companies virtually always hit speed bumps, or even huge\\n---\\n# Part 3: Where to go and why\\n\\nPotholes. Stuff goes wrong. Going through the experience of gutting through the hard parts and coming out the other end will be a key part of your real-world education and will serve you very well down the road, especially if you ever start your own company.\\n\\nThen, once you’ve racked up killer skills and experiences at a high-growth company, feel free to go to a startup.\\n\\nPicking which startup to join probably deserves its own post. However, in a nutshell, look for one where you understand the product, see how it might fit into a very large market, and really like and respect the people who are already there.\\n\\nOr, start your own company.\\n\\nIf your startup fails, try another one. If that one fails, get back into a high-growth company to reset your resume and get more skills and experiences. Then start another company. Repeat as necessary until you change the world.\\n\\nFinally, every job you take and every role you fill will always be a tactical opportunity and a strategic opportunity.\\n\\nThe tactical opportunity is obvious: kick ass and take names — gain skills and experiences that will be valuable to you in the future, and do so well that everyone you work with is singing your praises for decades to come.\\n\\nThe strategic opportunity is less obvious and often overlooked.\\n\\nEvery job, every role, every company you go to is an opportunity to learn how a business works and how an industry works.\\n\\nLearn everything you can about the business and the industry in which you find yourself.\\n\\nThink strategically: how would I start a firm like this today? Or, if I were starting a company in this industry today, how would it be different than this firm? Why is this firm and other firms in this industry doing what they do? What are the assumptions underneath their behavior? Should those assumptions be changing?\\n---\\n# The Pmarca Blog Archives\\n\\nHow might this industry work differently? Which customers are being underserved? What new technologies might change things completely? How were things working 10 years ago, versus today, versus 10 years from now? And, my favorite: if the creators of this industry were starting out today, what would they be doing now?\\n\\nIn FX’s great new series Damages, a young attorney named Ellen Parsons has gone to work for a famous law firm called Hewes and Associates, run by the legendary, ruthless, and amoral Patty Hewes. Ellen, rattled by the intensity of her experience at Hewes and Associates, asks her mentor Hollis Nye what she should do:\\n\\n|Hollis Nye:|My advice to you, Ellen, is to stop trying to figure Patty out. You’ll never change her, but she’ll change you.|\\n|---|---|\\n|Ellen:|How?|\\n|Nye:|By giving you access to how she thinks. You signed up for this; now, keep your head down, and do the work. That’s why you’re there, isn’t it?|\\n|Ellen:|Yes.|\\n|Nye:|Then don’t be shortsighted. Start using her. Learn everything you can, then get the hell out of there before it’s too late.|\\n|Ellen:|How exactly will I know when that is?|\\n|Nye:|Ah. That’s for another walk.|\\n\\n...and another post.\\n---\\n# The Pmarca Guide to Personal Productivity\\n\\nOne of my all-time favorite guilty pleasures is indulging in productivity porn.\\n\\nProductivity porn (or, for those really in the know, “productivity pr0n”) consists of techniques, tactics, and tricks for maximizing personal productivity — or, as they say, “getting things done”.\\n\\nHaving enjoyed such fine purveyors of prodporn as Merlin Mann, Danny O’Brien, Gina Trapani, David Allen, and Tim Ferriss, I’d like to return the favor with the following: the Pmarca Guide to Personal Productivity.\\n\\nThe techniques that follow work together as an integrated set for me, but they probably won’t for you. Maybe you’ll get one or two ideas — probably out of the ideas I stole from other people. If so, I have succeeded.\\n\\nAnd here we go; let’s start with a bang:\\n\\nDon’t keep a schedule\\n\\nHe’s crazy, you say!\\n\\nI’m totally serious. If you pull it off — and in many structured jobs, you simply can’t — this simple tip alone can make a huge difference in productivity.\\n---\\n# The Pmarca Blog Archives\\n\\nBy not keeping a schedule, I mean: refuse to commit to meetings, appointments, or activities at any set time in any future day.\\n\\nAs a result, you can always work on whatever is most important or most interesting, at any time.\\n\\nWant to spend all day writing a research report? Do it!\\n\\nWant to spend all day coding? Do it!\\n\\nWant to spend all day at the cafe down the street reading a book on personal productivity? Do it!\\n\\nWhen someone emails or calls to say, “Let’s meet on Tuesday at 3″, the appropriate response is: “I’m not keeping a schedule for 2007, so I can’t commit to that, but give me a call on Tuesday at 2:45 and if I’m available, I’ll meet with you.”\\n\\nOr, if it’s important, say, “You know what, let’s meet right now.”\\n\\nClearly this only works if you can get away with it. If you have a structured job, a structured job environment, or you’re a CEO, it will be hard to pull off.\\n\\nBut if you can do it, it’s really liberating, and will lead to far higher productivity than almost any other tactic you can try.\\n\\nThis idea comes from a wonderful book called A Perfect Mess, which explains how not keeping a schedule has been key to Arnold Schwarzenegger’s success as a movie star, politician, and businessman over the last 20 years.\\n\\nIf you have at any point in your life lived a relatively structured existence — probably due to some kind of job with regular office hours, meetings, and the like — you will know that there is nothing more liberating than looking at your calendar and seeing nothing but free time for weeks ahead to work on the most important things in whatever order you want.\\n\\nThis also gives you the best odds of maximizing flow, which is a whole ‘nother topic but highly related.\\n---\\n# The Pmarca Guide to Personal Productivity 129\\n\\nI’ve been trying this tactic as an experiment in 2007, as those of you who have emailed me to suggest we get together or that I go to a conference or to a meeting will attest. And I am so much happier, I can’t even tell you. I get so much more time to focus on the things that really matter — in my case, my two companies, my non-profit boards, and my lovely wife.\\n\\nThe other great thing about this tactic is that it doesn’t have to be all or nothing — there are quite a few things that still sneak onto my calendar that I really can’t get out of. But one is still able to draw the line between “must do” and “sounds interesting but I’m not keeping a schedule”.\\n\\nKeep three and only three lists: a Todo List, a Watch List, and a Later List.\\n\\nThe more into lists you are, the more important this is.\\n\\nInto the Todo List goes all the stuff you “must” do — commitments, obligations, things that have to be done. A single list, possibly subcategorized by timeframe (today, this week, next week, next month).\\n\\nInto the Watch List goes all the stuff going on in your life that you have to follow up on, wait for someone else to get back to you on, remind yourself of in the future, or otherwise remember.\\n\\nInto the Later List goes everything else — everything you might want to do or will do when you have time or wish you could do.\\n\\nIf it doesn’t go on one of those three lists, it goes away.\\n\\nEach night before you go to bed, prepare a 3x5 index card with a short list of 3 to 5 things that you will do the next day.\\n\\nAnd then, the next day, do those things.\\n\\nI sit down at my desk before I go to sleep, pull up my Todo List\\n---\\n# The Pmarca Blog Archives\\n\\n(which I keep in Microsoft Word’s outline mode, due to long habit), and pick out the 3 to 5 things I am going to get done tomorrow. I write those things on a fresh 3×5 card, lay the card out with my car keys, and go to bed. Then, the next day, I try like hell to get just those things done. If I do, it was a successful day.\\n\\nPeople who have tried lots of productivity porn techniques will tell you that this is one of the most successful techniques they have ever tried.\\n\\nOnce you get into the habit, you start to realize how many days you used to have when you wouldn’t get 3 to 5 important/significant/meaningful things done during a day.\\n\\nThen, throughout the rest of the day, use the back of the 3×5 card as your Anti-Todo List.\\n\\nThis isn’t a real list. And the name is tongue firmly in cheek.\\n\\nWhat you do is this: every time you do something — anything — useful during the day, write it down in your Anti-Todo List on the card.\\n\\nEach time you do something, you get to write it down and you get that little rush of endorphins that the mouse gets every time he presses the button in his cage and gets a food pellet.\\n\\nAnd then at the end of the day, before you prepare tomorrow’s 3×5 card, take a look at today’s card and its Anti-Todo list and marvel at all the things you actually got done that day.\\n\\nThen tear it up and throw it away.\\n\\nAnother day well spent, and productive.\\n\\nI love this technique — being able to put more notches on my accomplishment belt, so to speak, by writing down things on my Anti-Todo list as I accomplish them throughout the day makes me feel marvelously productive and efficient. Far more so than if I just did those things and didn’t write them down.\\n\\nPlus, you know those days when you’re running around all day\\n---\\nThe Pmarca Guide to Personal Productivity\\n\\nand doing stuff and talking to people and making calls and responding to emails and filling out paperwork and you get home and you’re completely exhausted and you say to yourself, “What the hell did I actually get done today?”\\n\\nYour Anti-Todo list has the answer.\\n\\nBy the way, in order to do this, you have to carry a pen with you everywhere you go. I recommend the Fisher Space Pen. It’s short and bullet-shaped so it won’t poke you in the thigh when it’s in your pocket, it’s wonderfully retro, it helped save the Apollo 11 mission, and it writes upside down. What’s not to like?\\n\\nStructured procrastination\\n\\nThis is a great one.\\n\\nThis one is lifted straight from the genius mind of John Perry, a philosophy professor at Stanford. (Read his original description, by all means. You even get to see a photo of him practicing jumping rope with seaweed on a beach while work awaits. Outstanding.)\\n\\nThe gist of Structured Procrastination is that you should never fight the tendency to procrastinate — instead, you should use it to your advantage in order to get other things done.\\n\\nGenerally in the course of a day, there is something you have to do that you are not doing because you are procrastinating.\\n\\nWhile you’re procrastinating, just do lots of other stuff instead.\\n\\nAs John says, “The list of tasks one has in mind will be ordered by importance. Tasks that seem most urgent and important are on top. But there are also worthwhile tasks to perform lower down on the list. Doing these tasks becomes a way of not doing the things higher up on the list. With this sort of appropriate task structure, the procrastinator becomes a useful citizen. Indeed, the procrastinator can even acquire, as I have, a reputation for getting a lot done.”\\n---\\n# The Pmarca Blog Archives\\n\\nReading John’s essay was one of the single most profound moments of my entire life.\\n\\nFor example, I hate making phone calls. Hate it. Love sending emails, enjoy seeing people face to face (sometimes), but I hate making phone calls.\\n\\nI can get so much done while I am avoiding making a phone call that I need to make, I can barely believe it.\\n\\nIn fact, that’s what’s happening right now.\\n\\nThe other key two-word tactic…\\n\\nStrategic incompetence\\n\\nThe best way to make sure that you are never asked to do something again is to royally screw it up the first time you are asked to do it.\\n\\nOr, better yet, just say you know you will royally screw it up — maintain a strong voice and a clear gaze, and you’ll probably get off the hook.\\n\\nOf course, this assumes that there are other things that are more important at which you are competent.\\n\\nWhich, hopefully, there are.\\n\\nOrganizing the company picnic, sending faxes or Fedexes, negotiating with insurance brokers, writing in plain English… the list of things at which one can be strategically incompetent is nearly endless.\\n\\nDo email exactly twice a day — say, once first thing in the morning, and once at the end of the workday.\\n\\nAllocate half an hour or whatever it takes, but otherwise, keep your email client shut and your email notifications turned off.\\n---\\n# The Pmarca Guide to Personal Productivity 133\\n\\nAnyone who needs to reach you so urgently that it can’t wait until later in the day or tomorrow morning can call you, or send a runner, or send up smoke signals, or something else.\\n\\nOr, more likely, find someone else who can do whatever it is that needs doing.\\n\\n(If you communicate with your spouse or key family members via email during the day, then just set up a separate email account just for them and leave that open all day, but keep your primary email closed. And never give out the family email address to anyone noncritical — including your boss.)\\n\\nOnly doing email twice a day will make you far more productive for the rest of the day.\\n\\nThe problem with email is that getting an email triggers that same endorphin hit I mentioned above — the one that a mouse gets when he bonks on the button in the cage and gets a food pellet.\\n\\nResponding to an email triggers that same hit.\\n\\nThe pleasure chemical hits your neocortex and you go “ahhh” inside and feel like you’ve done something.\\n\\nSo you sit and work with your mail client open and you interrupt your work every time an email comes in and you answer it and you send another email and you feel great in the moment.\\n\\nBut what you’re really doing is fracturing your time, interrupting your flow, and killing your ability to focus on anything long enough to get real high-quality work done.\\n\\nThis one is far easier to say than do. And it won’t be feasible during projects where lots of updates during the day really are important — raising money, for example, or closing a big deal.\\n\\nMe, I’m just trying to get down to checking email only a half dozen times per day.\\n---\\n# The Pmarca Blog Archives\\n\\nWhen you do process email, do it like this:\\n\\n1. First, always finish each of your two daily email sessions with a completely empty inbox.\\n2. I don’t know about you, but when I know I have emails in my inbox that haven’t been dealt with, I find it hard to concentrate on other things. The urge to go back to my email is nearly overpowering. (I am apparently seriously addicted to endorphins.)\\n3. Second, when doing email, either answer or file every single message until you get to that empty inbox state of grace. Not keeping a schedule helps here, a lot, if you can pull it off — you can reply to a lot of messages with “I’m sorry, I’m not keeping a schedule in 2007, I can’t commit to that.”\\n4. Third, emails relating to topics that are current working projects or pressing issues go into temporary subfolders of a folder called Action. You should only have Action subfolders for the things that really matter, right now. Those subfolders then get used, and the messages in them processed, when you are working on their respective projects in the normal course of your day.\\n5. Fourth, aside from those temporary Action subfolders, only keep three standing email folders: Pending, Review, and Vault. Emails that you know you’re going to have to deal with again — such as emails in which someone is committing something to you and you want to be reminded to follow up on it if the person doesn’t deliver — go in Pending. Emails with things you want to read in depth when you have more time, go into Review. Everything else goes into Vault.\\n---\\n# The Pmarca Guide to Personal Productivity 135\\n\\nEvery once in a while, sweep through your Action subfolders and dump any of them that you can into Vault.\\n\\n(And do the same thing for messages in your Pending folder — most of the things in there you will never look at again. Actually, same is true for Review.)\\n\\nThat’s it.\\n\\nYou can get away with this because modern email clients are so good at search (well, most of them — and you can always move to GMail) that it’s not worth the effort to try to file emails into lots of different folders.\\n\\nObviously you may need some additional permanent folders for important things like contracts, or emails from your doctor, or the like, but these are exceptions and don’t change your standard operating procedure.\\n\\nDon’t answer the phone\\n\\nLet it go to voicemail, and then every few hours, screen your voicemails and batch the return calls.\\n\\nSay, twice a day.\\n\\nCell phones and family plans are so cheap these days that I think the best thing to do is have two cell phones with different numbers — one for key family members, your closest friends, and your boss and a few coworkers, and the other for everyone else.\\n\\nAnswer the first one when it rings, but never answer the second one.\\n\\nHide in an iPod\\n\\nOne of the best and easiest ways to avoid distractions in the workplace is to be wearing those cute little iPod earbud headphones (or any other headphones of your choice).\\n---\\n# The Pmarca Blog Archives\\n\\nPeople, for some reason, feel much worse interrupting you if you are wearing headphones than if you’re not.\\n\\nIt’s great — a lot of the time, people will walk up to you, start to say something, notice the headphones, apologize (using exaggerated mouth motions), and walk away.\\n\\nThis is great — half the time they didn’t actually need to talk to you, and the other half of the time they can send an email that you can process at the end of the day during the second of your two daily email sweeps.\\n\\nHere’s the best part: you don’t actually have to be listening to anything.\\n\\nHell, you don’t even have to have the headphones plugged into anything.\\n\\nSleeping and Eating\\n\\nI’m not going to talk a lot about getting up early or going to bed late or anything else related to the course of a typical day, because everyone’s different.\\n\\nPersonally I go back and forth between being a night owl (99% of the time) and a morning person (1% — I’m going to try to push it to 2%).\\n\\nBut the thing that matters almost more than anything in determining whether I’ll have a happy, satisfying day is this: no matter what time you get up, start the day with a real, sit-down breakfast.\\n\\nThis serves two purposes.\\n\\nFirst, it fuels you up. Study after study have shown that breakfast is, yes, the most important meal of the day. It’s critical to properly fuel the body for the day’s activities and it’s also critical to staying lean or losing weight. (People who don’t have breakfast tend to eat more, and worse, at lunch.)\\n\\nSecond, it gives you a chance to calmly, peacefully collect your\\n---\\n# The Pmarca Guide to Personal Productivity\\n\\nthoughts and prepare mentally and emotionally for the day ahead.\\n\\nThis works whether you do it with kids and/or a partner, or you’re solo.\\n\\nPersonally I think it’s worth whatever effort is involved to go to bed early enough to wake up early enough to have a good solid 45 minutes or an hour for breakfast each morning, if you can pull it off.\\n\\nOnly agree to new commitments when both your head and your heart say yes\\n\\nThis one is from the great Robert Evans. (Hold out for the audiobook — trust me.)\\n\\nIt’s really easy to get asked to do something — a new project, a nonprofit activity, a social event — and to have your head say yes and your heart say no, and then your mouth says yes.\\n\\nThe next thing you know, you’re piled up with all kinds of things on your schedule that sounded like a good idea at the time but you really don’t want to do.\\n\\nAnd distract you from the things that really matter.\\n\\nAnd make you angry, and bitter, and sullen, and hostile.\\n\\n(Oh, wait, I’m projecting.)\\n\\nIn my experience, it takes time to tell the difference between your head saying yes and your heart saying yes.\\n\\nI think the key is whether you’re really excited about it.\\n\\nIf you get that little adrenaline spike (in a good way) when you think about it, then your heart is saying yes.\\n\\nThe corollary, of course, is that when your head says no and your heart says yes, your mouth should generally say yes as well :-).\\n---\\n# The Pmarca Blog Archives\\n\\nBut not when your head says yes and your heart says no.\\n\\nDo something you love\\n\\nAs you’ve probably concluded by now, most of the tactics described in this post involve keeping oneself as free as possible to pursue one’s core interests, and dreams.\\n\\nIf you’re not doing something you love with the majority of your time, and you have any personal freedom and flexibility whatsoever, it’s time for a change.\\n\\nAnd this doesn’t mean something that you love doing in theory — but rather, the core thing you love doing in practice.\\n\\nAnd that’s it.\\n\\nPlease feel free to nominate additions to the list! Next time my mobile wiki-based GTD Outlook synchronized hipster PDA reminds me, I’ll check ‘em out.\\n\\nNotes based on reader feedback:\\n\\nTurns out Robert Benchley wrote about structured procrastination back in 1949. Wonderful essay — highly recommended.\\n\\nThe sharpest reaction has been to my theory of not keeping a schedule. I’ll stick to my theory but make (or re-make) a couple of clarifying points.\\n\\nFirst, it is certainly true that many people have jobs and responsibilities where they can’t do that. Or maybe can only do it partially. And many people enjoy living a highly structured life and obviously this approach is not for them.\\n\\nBut if your reaction is, “boy, I wish I could do that”, then it may well be worth rethinking your approach to your career.\\n\\nI can tell you from personal experience that being stuck in a role where you have a lot of structure but feel like you never get any-\\n---\\n# The Pmarca Guide to Personal Productivity\\n\\nDoing things just to get things done is not the optimal way to advance in one’s profession, or maximize one’s job satisfaction.\\n\\nSecond, I do not recommend pursuing this approach in one’s personal life :-).\\n\\nOn another topic, the tactic of each night, write down the 3 to 5 things you need to do the next day has struck some people as too simplistic.\\n\\nThat may be the case for some people, but I can’t tell you how many times I’ve arrived home at night and am at a loss as to what I actually got done that day, despite the fact that I worked all day.\\n\\nAnd I also can’t tell you how often I’ve had a huge, highly-structured to-do list in front of me with 100 things on it and I stare at it and am paralyzed into inaction (or, more likely, structured procrastination).\\n\\nSo a day when I get 3 to 5 concrete, actionable things done in addition to all the other stuff one has to do to get through the day — well, that’s a good day.\\n\\nA few people have said, why not just use GTD (David Allen’s “Getting Things Done” approach).\\n\\nWhile I find GTD to be highly inspiring, in practice I think it’s awfully complex. At least if your job is based on project work (as opposed to having a highly structured role like CEO or head of sales).\\n\\nFor me, an organization system that requires significant time to deal with in and of itself is not optimal. Much better, for me at least, is to focus on stripping away nonessentials and freeing up as much time as possible to deal with whatever is most important.\\n\\nFinally, I discovered after writing this post that Paul Graham talks a bit about the role of time and focus in personal productivity in his essay on “The Power of the Marginal”.\\n---\\n# The Pmarca Blog Archives\\n\\nThanks for all the comments!\\n---\\nPsychology and\\nEntrepreneurship\\n---\\n# The Psychology of Entrepreneurial Misjudgment: Biases 1-6\\n\\nCharlie Munger is an 80-something billionaire who co-founded top-tier law firm Munger, Tolles & Olson and is Warren Buffett’s long-time partner and Vice-Chairman at Berkshire Hathaway, one of the most successful companies of all time.\\n\\nSome people, including me, consider Mr. Munger to be an even more interesting thinker and writer than Mr. Buffett, and recently a group of Mr. Munger’s friends assembled a compilation book of his most interesting thoughts and speeches called Poor Charlie’s Almanack, inspired by Ben Franklin’s Poor Richard’s Almanack. (The Munger book is only available on Amazon in used form, although you can apparently buy a new copy here.)\\n\\nMr. Munger’s magnum opus speech, included in the book, is The Psychology of Human Misjudgment — an exposition of 25 key forms of human behavior that lead to misjudgment and error, derived from Mr. Munger’s 60 years of business experience. Think of it as a practitioner’s summary of human psychology and behavioral economics as observed in the real world.\\n\\nIn this series of blog posts, I will walk through all 25 of the biases Mr. Munger identifies, and then adapt them for the modern entrepreneur. In each case I will start with relevant excerpts of Mr. Munger’s speech, and then after that add my own thoughts.\\n---\\n# The Psychology of Entrepreneurial Misjudgment: Biases 1-6\\n\\nOne: Reward and Punishment Superresponse Tendency\\n\\nI place this tendency first in my discussion because almost everyone thinks he fully recognizes how important incentives and disincentives are in changing cognition and behavior. But this is not often so. For instance, I think I’ve been in the top five percent of my age cohort almost all my adult life in understanding the power of incentives, and yet I’ve always underestimated that power. Never a year passes but I get some surprise that pushes a little further my appreciation of incentive superpower.\\n\\n…We [should] heed the general lesson implicit in the injunction of Ben Franklin in Poor Richard’s Almanack: “If you would persuade, appeal to interest and not to reason.” This maxim is a wise guide to a great and simple precaution in life: Never, ever, think about something else when you should be thinking about the power of incentives…\\n\\nOne of the most important consequences of incentive superpower is what I call “incentive caused bias.” A man has an acculturated nature making him a pretty decent fellow, and yet, driven both consciously and subconsciously by incentives, he drifts into immoral behavior in order to get what he wants, a result he facilitates by rationalizing his bad behavior [like a salesman who harms her customers by selling them the wrong product because she gets paid more for selling it, versus the right product — see, e.g., the mutual fund industry].\\n\\n…Another generalized consequence of incentive caused bias is that man tends to “game” all human systems, often displaying great ingenuity in wrongly serving himself at the expense of others. Antigaming features, therefore, constitute a huge and necessary part of almost all system design.\\n\\n…Military and naval organizations have very often been extreme in using punishment [the inverse of reward] to change behavior, probably because they needed to cause extreme behavior. Around the time of Caesar, there was a European tribe that, when the assembly horn blew, always killed the last warrior to reach his assigned place, and no one enjoyed fighting this tribe.\\n\\nHuman response to incentives is indeed a huge behavioral motivator, and I think Mr. Munger is right that once you think you realize how big it is, you need to assume it’s even bigger.\\n---\\n# The Pmarca Blog Archives\\n\\nThis is why stock options work so well in startups — and the fewer people in a startup, the better stock options work, since when there are only a few people in a company, it’s usually crystal clear to each person how her work will impact the value of the company.\\n\\nThere is a wrong-headed and dangerous theory afoot that restricted stock (grants of fully in-the-money shares of stock) is a more appropriate motivator of employees of tech companies than stock options:\\n\\nMr. Gates wanted Mr. BuWett’s input on whether to drop options in favor of restricted stock at Microsoft. [Gates] recalls asking: “How will employees respond to getting a lottery ticket that gives them a definite amount instead of one that could amount to nothing or a ridiculous sum?”\\n\\nMr. BuWett’s reply, according to Mr. Gates, was: “My wife would rather have a ticket for one fur coat, than a ticket that gave her two or nothing.”\\n\\nOvert sexism aside, from an incentive standpoint the result of shifting from stock options to restricted stock should be obvious: current employees will be incented to preserve value instead of creating value. And new hires will by definition be people who are conservative and change-averse, as the people who want to swing for the fences and get rewarded for creating something new will go somewhere else, where they will receive stock options — in typically greater volume than anyone will ever grant restricted stock — and have greater upside.\\n\\nAnd sure enough, in the wake of shifting towards restricted stock and away from stock options, Microsoft’s stock has been flat as a pancake. The incentive works.\\n\\nNow, against that, it is true that stock options, particularly for public companies, have an often-destructive random component: they tend to increase in value in rising stock market environments and decrease in value (potentially to zero) in falling stock market environments, regardless of whether value is being created inside your particular company.\\n\\nFor that reason, in the long run it probably makes sense for\\n---\\n# The Psychology of Entrepreneurial Misjudgment: Biases 1-6\\n\\nSome new approach to stock-based compensation to be developed that both preserves the motivation to create as opposed to preserve value, but factors out the environmental swings of rising and falling stock markets. Some form of indexing against market averages would probably do the trick. This has been tried from time to time, and I expect it to be tried more in the future, at least for public companies.\\n\\nAs a company grows, stock options and other forms of equity-based motivation become less and less useful as an incentive tool, since it becomes harder for many employees in a large company to see how their individual behavior would have any effect on the stock price of the overall corporation. So, more tactical incentives kick in, such as cash bonuses.\\n\\nThe design of tactical incentives — e.g. bonuses — is a whole topic in and of itself, and is critically important as your company grows. The most significant thing to keep in mind is that how the goals are designed really matters — as Mr. Munger says, people tend to game any system you put in place, and then they tend to rationalize that gaming until they believe they really are doing the right thing.\\n\\nI think it was Andy Grove who said that for every goal you put in front of someone, you should also put in place a counter-goal to restrict gaming of the first goal.\\n\\nSo, for example, if you are incenting your recruiters on the number of new employees recruited and hired, you need to also give them a counter-goal (and tie it to their compensation) that measures the quality of the new hires three months in. Otherwise the recruiters are guaranteed to give you what you don’t want: a lot of mediocre new hires.\\n\\nOne of the great unwritten Silicon Valley skewed incentive stories was a major datacenter vendor in the late 90’s that incented its salespeople based on bookings of long-term datacenter leases, without sufficient counter-goals tied to revenue collection or the customer’s ability to pay. Sure enough, soon the company’s reported bookings were heading straight up, revenue was flat, and cash headed straight down, resulting in a truly spectacular\\n---\\n# The Pmarca Blog Archives\\n\\nbankruptcy. The salespeople got paid, though, so they were happy.\\n\\nMore recently, skewed incentives in the mortgage industry — mortage issuers getting paid based on quantity of mortgages issued, versus ability to pay — caused many of the current catastrophic Wall Street financial meltdowns you get to read about every day.\\n\\nEven engineers need counter-goals: incent engineers based purely on a ship date, and you’ll get a shipping product with lots of bugs. Incent based on number of bugs fixed, and you’ll never get any new features. And so on.\\n\\nEspecially in smaller companies, peer pressure can be a very effective form of incentive. This is greatly enabled and abetted by transparency. People hate to be embarrassed in front of their peer group, so if it’s crystal clear who’s performing well and who isn’t, poor performers will be highly motivated to improve — and if they’re not, that’s good to know, since obviously then you really need to fire them.\\n\\nFinally, any entrepreneur should be highly attuned to incentives when hiring outside executives, especially a CEO. Hire a CEO and give her a large stock-option grant with four-year vesting, and you can guarantee she will sell the company in year four. Give her a stock-option grant with accelerated vesting on change of control and she will sell the company sooner than that. Founders can get tripped up on this because they naturally have an emotional incentive to see the company succeed that hired executives often do not share.\\n\\nAnd of course, never get caught between a venture capitalist and her incentives.\\n\\nTwo: Liking/Loving Tendency\\n\\n…[W]hat will a man naturally come to like and love, apart from his parent, spouse and child? Well, he will like and love being liked and loved… [M]an will generally strive, lifelong, for the affection and approval of many people not related to him.\\n---\\n# The Psychology of Entrepreneurial Misjudgment: Biases 1-6 147\\n\\nOne very practical consequence of Liking/Loving Tendency is that it acts as a conditioning device that makes the liker or lover tend to:\\n\\n1. Ignore faults of, and comply with wishes of, the object of his affection,\\n2. Favor people, products, and actions merely associated with the object of his affection (as we shall see when we get to “Influence-from-Mere-Association Tendency”), and\\n3. Distort other facts to facilitate love.\\n\\nThe application of this principle to entrepreneurs is obvious: entrepreneurs want to be liked just like everyone else, and wanting to be liked can be a major impediment to entrepreneurial success due to at least two major reasons.\\n\\nFirst, an entrepreneur, like any CEO, has to make tough decisions about what her company will do, and those decisions will often run counter to the preferences of her employees. You don’t have to be involved in that many startups to find one where the entrepreneur knows she needs to make a tough decision — such as change strategy, or cancel a flawed project — but can’t quite do it because employees won’t like it. Of course this always backfires: employees also don’t like leaders who don’t make the tough decisions that have to be made.\\n\\nSecond, an entrepreneur, like any manager, has to fire people who aren’t great or who aren’t right for the tasks at hand. This naturally makes people not like you, particularly the people you fire. But again, not doing this backfires: nobody great wants to be in a company populated by mediocre or ill-fitting peers.\\n\\nI think these pressures are intensified in a small company versus a larger company, because in a small company everyone tends to know everyone else and people naturally form strong personal relationships within the group — so the desire to be liked is stronger, and the perceived risk from making decisions that people won’t like is higher.\\n\\nA specific form of this dynamic in a startup is when you have multiple founders, of whom one is the CEO. The founder who is the CEO inevitably discovers that it becomes very hard to stay close personal friends with the other founders. As they say, it’s lonely at the top — if you’re doing your job right.\\n---\\n# The Pmarca Blog Archives\\n\\nFinally, some entrepreneurs have emotional resistance to pursuing a strategy that does not meet with immediate approval from press, analysts, and other entrepreneurs. This is worth watching carefully — if everyone agrees right up front that whatever you are doing makes total sense, it probably isn’t a new and radical enough idea to justify a new company.\\n\\nThree: Disliking/Hating Tendency\\n\\nIn a pattern obverse to Liking/Loving Tendency, the newly arrived human is also “born to dislike and hate” as triggered by normal and abnormal triggering forces in its life…\\n\\nAs a result, the long history of man contains almost continuous war…\\n\\nDisliking/Hating Tendency also acts as a conditioning device that makes the disliker/hater tend to (1) ignore virtues in the object of dislike, (2) dislike people, products, and actions merely associated with the object of his dislike, and (3) distort other facts to facilitate hatred.\\n\\nIf this is a problem inside your company, then you have bigger issues than I can help you with.\\n\\nHowever, I think this dynamic kicks in for a startup when thinking about competitors.\\n\\nI see two destructive consequences of this bias in startups with competitors:\\n\\nFirst, I believe startups often overfocus on their competitors. It’s the easiest thing in the world to orient yourself in opposition to another company in the same market, and to plan your actions based on what will cause damage to the competitor or block the competitor from getting business.\\n\\nIn the startup world, that often leads to multiple competitors engaged in a shooting war in a market that’s still too small for anyone to succeed.\\n\\nI think it’s much better for a startup to focus on creating and\\n---\\nThe Psychology of Entrepreneurial Misjudgment: Biases 1-6 149\\n\\nDeveloping a large market, as opposed to fighting over a small market.\\n\\nSo when your startup’s competitive juices get flowing — especially for the first time — and you find yourself fixated on a competitor, be sure to take a step back and say, is this really what we want to be focused on right now — is the market we’re both in really large enough to warrant this? If so, sure, go for it, guns blazing. But if not, stepping back and thinking about how to focus instead on creating a large market might be more valuable.\\n\\nA variant on this dynamic is letting your competitor determine your strategy by watching what he does and then making countermoves. The issue here is that it’s highly likely that neither one of you actually knows that much about what you are doing yet — since you are in a new market, by definition — and while you know you don’t know that much about what you’re doing yet, you only observe your competitors’s deliberate actions as opposed to seeing their equivalent or greater level of internal confusion. So they seem like they know what they’re doing, and so you fall into assuming they know more than you do, when they probably don’t.\\n\\nSecond, when you are in a truly competitive situation, this bias can easily lead you to underestimate your competitor by, as Mr. Munger says, “ignoring virtues in the object of dislike”.\\n\\nHis product sucks, his salespeople aren’t as good, his venture capitalists are those morons who backed that large datacenter vendor that went bankrupt — and so on.\\n\\nNotably, this attitude can become cultural in your company very quickly. I think that if you’re in a shooting war, even if you privately think your competitor is an amoral pinhead, that you establish a tone that says, we’ll assume that he’s highly competent and has many fine virtues, which we will respect and then systematically target with our own strengths and virtues until we have killed him.\\n---\\n# The Pmarca Blog Archives\\n\\nFour: Doubt-Avoidance Tendency\\n\\nThe brain of man is programmed with a tendency to quickly remove doubt by reaching some decision.\\n\\nIt is easy to see how evolution would make animals, over the eons, dria toward such quick elimination of doubt. After all, the one thing that is surely counterproductive for a prey animal that is threatened by a predator is to take a long time in deciding what to do...\\n\\nSo pronounced is the tendency in man to quickly remove doubt by reaching some decision that behavior to counter the tendency is required from judges and jurors. Here, delay before decision making is forced. And one is required to so comport himself, prior to conclusion time, so that he is wearing a \"mask\" of objectivity. And the \"mask\" works to help real objectivity along, as we shall see when we next consider man\\'s Inconsistency-Avoidance Tendency...\\n\\nWhat triggers Doubt-Avoidance Tendency? Well, an unthreatened man, thinking of nothing in particular, is not being prompted to remove doubt through rushing to some decision. As we shall see later when we get to Social-Proof Tendency and Stress-Influence Tendency, what usually triggers Doubt-Avoidance Tendency is some combination of (1) puzzlement and (2) stress.\\n\\nThis is probably a good one for entrepreneurs. You\\'d better not have a lot of doubts about what you are doing because everyone else will, and if you do too, you\\'ll probably give up.\\n\\nOf course, an entrepreneur\\'s doubt avoidance is only a plus right up to the point where it becomes pigheaded stubbornness that interferes with her ability to see reality, particularly when a strategy is not working.\\n\\nIn my view, entrepreneurial judgment is the ability to tell the difference between a situation that\\'s not working but persistence and iteration will ultimately prove it out, versus a situation that\\'s not working and additional effort is a destructive waste of time and radical change is necessary.\\n\\nI don\\'t believe there are any good rules for being able to tell the difference between the two. Which is one of the main reasons starting a company is so hard.\\n---\\nFive: Inconsistency-Avoidance Tendency\\n\\n[People are] reluctant to change, which is a form of inconsistency avoidance. We see this in all human habits, constructive and destructive. Few people can list a lot of bad habits that they have eliminated, and some people cannot identify even one of these. Instead, practically everyone has a great many bad habits he has long maintained despite their being known as bad. Given this situation, it is not too much in many cases to appraise early-formed habits as destiny. When Marley’s miserable ghost says, “I wear the chains I forged in life,” he is talking about chains of habit that were too light to be felt before they became too strong to be broken.\\n\\n[T]ending to be maintained in place by the anti-change tendency of the brain are one’s previous conclusions, human loyalties, reputational identity, commitments…\\n\\nIt is easy to see that a quickly reached conclusion, triggered by Doubt-Avoidance Tendency, when combined with a tendency to resist any change in that conclusion, will naturally cause a lot of errors in cognition for modern man. And so it observably works out. We all deal much with others whom we correctly diagnose as imprisoned in poor conclusions that are maintained by mental habits they formed early and will carry to their graves…\\n\\nAnd so, people tend to accumulate large mental holdings of fixed conclusions and attitudes that are not often reexamined or changed, even though there is plenty of good evidence that they are wrong…\\n\\nAs Lord Keynes pointed out about his exalted intellectual group at one of the greatest universities in the world, it was not the intrinsic difficulty of new ideas that prevented their acceptance. Instead, the new ideas were not accepted because they were inconsistent with old ideas in place…\\n\\nWe have no less an authority for this than Max Planck, Nobel laureate, founder of “Planck’s constant.” Planck is famous not only for his science but also for saying that even in physics the radically new ideas are seldom really accepted by the old guard. Instead, said Planck, the progress is made by a new generation that comes along, less brain-blocked by its previous conclusions…\\n\\nOne corollary of Inconsistency-Avoidance Tendency is that a person making big sacrifices in the course of assuming a new identity will intensify his devotion to the new identity. After all, it would be quite inconsistent behavior to make a large sacrifice for something that was no good. And thus civilization has invented many\\n---\\n# The Pmarca Blog Archives\\n\\ntough and solemn initiation ceremonies, often public in nature, that intensify new commitments made.\\n\\nThis goes hand-in-hand with doubt-avoidance, and again is usually a plus for a startup, since it leads to greater commitment on the part of the entrepreneur and the team. (And yes, I am in favor of blood oaths for startups.)\\n\\nPerhaps this bias is most relevant to how new markets develop. Sometimes you get lucky — you bring a new product to market, and the target customers all go, great, we’ll take it! However, often you get a level of resistance from the market that can be puzzling — “can’t they see that our new product would be better for them than what they have now?”\\n\\nThis in turn leads to the odd dynamic you often see where a startup will field a new product, nobody wants it, and the startup goes belly up. Then three or four or five years later, another startup launches with a very similar product, and this time the market says, hell yes!\\n\\nI think this is something that every entrepreneur needs to watch very carefully. Sometimes it’s simply a matter of timing — and if people just aren’t ready for a new idea, you usually can’t make them ready, and you have to wait for them to change or for a new generation of customers to come along.\\n\\nMy favorite way around this problem is the one identified by Clayton Christensen in The Innovator’s Dilemma: don’t go after existing customers in a category and try to get them to buy something new; instead, go find the new customers who weren’t able to afford or adopt the incarnation of the status quo.\\n\\nFor example, when the personal computer was invented, the desirable market was not the universe of people who were already buying computers — a.k.a. mainframe and minicomputer buyers — but rather the universe of the people who couldn’t afford a mainframe or minicomputer and therefore had never had a computer before.\\n\\nSimilarly, the desirable market for Hotmail in the early days was not existing email aficionados who were already using sophisticated\\n---\\nThe Psychology of Entrepreneurial Misjudgment: Biases 1-6 153\\n\\ncated email desktop software, but rather the universe of people who were coming on the Internet for the first time who didn\\'t even have email yet and for whom web-based email was by far the easiest way to start.\\n\\nConversely, one of the reasons that today\\'s consumer Internet companies have the wind at our backs versus our peers 10 years ago is that a whole new generation of consumers has come of age in the last 10 years for whom the Internet is their primary medium — time and demographics are on our side now. That makes life a lot easier, let me tell you. Meanwhile, the average age of television viewers continues driaing higher and higher…\\n\\nSix: Curiosity Tendency\\n\\nThis is, frankly, an odd one for Mr. Munger to include, since it\\'s primarily a plus, and he doesn\\'t really identify a downside.\\n\\nThe only important thing I can think to add — aside from the importance of hiring curious people — is that lack of curiosity can be a huge danger to a startup in the following way: often, your initial strategy won\\'t quite work, but you can learn as you go based on other things that happen in the market and eventually iterate into a strategy that does work. Obviously, insufficient curiosity can prevent you from seeing the new data and lead you to continue to pursue a losing strategy even when you wouldn\\'t have to.\\n---\\nAge and the Entrepreneur: Some data\\n\\nA short time back, several smart bloggers engaged in an enthusiastic debate about age and entrepreneurs — some taking the position that kids have a leg up on older entrepreneurs at least for certain categories of startups, and others theorizing that age is largely irrelevant (or as Ali G would put it, “geezers is good entrepreneurs as well, man”).\\n\\nI have opinions on this topic, but rather than just mouthing off like I would normally do, I decided to go get some data.\\n\\nI’m not aware of any systematic data on age and high-tech entrepreneurs. As far as I’m aware, all we have are anecdotes. However, a professor of psychology at University of California Davis named Dean Simonton has conducted extensive research on age and creativity across many other fields, including science, literature, music, chess, film, politics, and military combat.\\n\\nDr. Simonton’s research is unparalleled — he’s spent his career studying this and related topics and his papers make for absolutely fascinating reading.\\n\\nFor this post, I’ll be concentrating on his paper Age and Outstanding Achievement: What Do We Know After a Century of Research? from 1988. I haven’t been able to find a PDF of the paper online but you can read a largely intact cached HTML version courtesy of Google Scholar.\\n---\\n# Age and the Entrepreneur: Some data 155\\n\\nLet’s go to the paper:\\n\\nFor centuries, thinkers have speculated about the association between a person’s age and exceptional accomplishment: Is there an optimal age for a person to make a lasting contribution to human culture or society? When during the life span can we expect an individual to be most prolific or influential?\\n\\nYou can see why I think this is relevant.\\n\\nHere we adopt the product-centered approach, that is, our focus is on real-life achievements rather than performance on abstract measures.\\n\\n[Achievement takes] the form of noteworthy creativity… the goal is to assess how productivity changes over the life span… I focus on individual accomplishment in such endeavors as science, philosophy, literature, music, and the visual arts.\\n\\n[Studies like these focus] on three core topics: (a) the age curve that specifies how creative output varies over the course of a career, (b) the connection between productive precocity, longevity, and rate of output, and (c) the relation between quantity and quality of output (i.e., between “productivity” and “creativity”).\\n\\nDr. Simonton also discusses leadership as distinct from creative production, but I’m ignoring the leadership part for now since it’s quite different.\\n\\nOne empirical generalization appears to be fairly secure: If one plots creative output as a function of age, productivity tends to rise fairly rapidly to a definite peak and thereafter decline gradually until output is about half the rate at the peak.\\n\\nThis is the centerpiece of Dr. Simonton’s overall theory across many domains. And is probably not unexpected. But here’s where it gets really interesting:\\n\\n[T]he location of the peak, as well as the magnitude of the post-peak decline, tends to vary depending on the domain of creative achievement.\\n\\nAt one extreme, some fields are characterized by relatively early peaks, usually around the early 30s or even late 20s in chronological units, with somewhat steep descents thereafter, so that the output rate becomes less than one-quarter the maximum. This age-\\n---\\n# The Pmarca Blog Archives\\n\\nThe typical trends in other endeavors may display a leisurely rise to a comparatively late peak, in the late 40s or even 50s chronologically, with a minimal if not largely absent drop-off afterward. This more elongated curve holds for such domains as novel writing, history, philosophy, medicine, and general scholarship.\\n\\nIt must be stressed that these interdisciplinary contrasts do not appear to be arbitrary but instead have been shown to be invariant across different cultures and distinct historical periods.\\n\\nAs a case in point, the gap between the expected peaks for poets and prose authors has been found in every major literary tradition throughout the world and for both living and dead languages.\\n\\nIndeed, because an earlier productive optimum means that a writer can die younger without loss to his or her ultimate reputation, poets exhibit a life expectancy, across the globe and through history, about a half dozen years less than prose writers do.\\n\\nYou know what that means — if you’re going to argue that younger entrepreneurs have a leg up, then you also have to argue that they will have shorter lifespans. Fun with math!\\n\\nYou may not be surprised to find that in creative fields, the power law rule — also known as the 80/20 rule — definitely applies:\\n\\nA small percentage of the workers in any given domain is responsible for the bulk of the work. Generally, the top 10% of the most prolific elite can be credited with around 50% of all contributions, whereas the bottom 50% of the least productive workers can claim only 15% of the total work, and the most productive contributor is usually about 100 times more prolific than the least.\\n\\nHere’s where it gets really interesting again:\\n\\nPrecocity, longevity, and output rate are each strongly associated with final lifetime output — that is, those who generate the most contributions at the end of a career also tend to have begun their careers at earlier ages, ended their careers at later ages, and produced at extraordinary rates throughout their careers...\\n---\\nAge and the Entrepreneur: Some data 157\\n\\nThese three components are conspicuously linked with each other: Those who are precocious also tend to display longevity, and both precocity and longevity are positively associated with high output rates per age unit.\\n\\nOK, so on to the main question, which is, when’s the peak?\\n\\nThose creators who make the most contributions tend to start early, end late, and produce at above-average rates, but are the anticipated career peaks unchanged, earlier, or later in comparison to what is seen for their less prolific colleagues? Addressing this question properly requires that we first investigate the relation between quantity and quality, both within and across careers. …\\n\\nThis is a very complex topic and Dr. Simonton goes into great detail about it throughout his work. I’m going to gloss over it a bit, but if you are interested in this topic, by all means dig into it more via Google Scholar.\\n\\nFirst, if one calculates the age curves separately for major and minor works within careers, the resulting functions are basically identical…\\n\\nSecond… minor and major contributions… fluctuate together. Those periods in a creator’s life that see the most masterpieces also witness the greatest number of easily forgotten productions, on the average.\\n\\nAnother way of saying the same thing is to note that the “quality ratio,” or the proportion of major products to total output per age unit, tends to fluctuate randomly over the course of any career. The quality ratio neither increases nor decreases with age…\\n\\nThese outcomes are valid for both artistic and scientific modes of creative contribution. What these two results signify is that… age becomes irrelevant to determining the success of a particular contribution.\\n\\nOK, that’s interesting. Quality of output does not vary by age… which means, of course, that attempting to improve your batting average of hits versus misses is a waste of time as you progress through a creative career. Instead you should just focus on more at-bats — more output. Think about that one.\\n\\nIf this sounds insane to you, Dr. Simonton points out that the periods of Beethoven’s career that had the most hits also had the\\n---\\n# The Pmarca Blog Archives\\n\\nmost misses — works that you never hear. As I am always fond of asking in such circumstances, if Beethoven couldn’t increase his batting average over time, what makes you think you can?\\n\\n[C]reativity is a probabilistic consequence of productivity, a relationship that holds both within and across careers.\\n\\nWithin single careers, the count of major works per age period will be a positive function of total works generated each period, yielding a quality ratio that exhibits no systematic developmental trends.\\n\\nAnd across careers, those individual creators who are the most productive will also tend, on the average, to be the most creative: Individual variation in quantity is positively associated with variation in quality.\\n\\nWow.\\n\\nOK, next step:\\n\\n[This] constant-probability-of-success model has an important implication for helping us understand the relation between total lifetime output and the location of the peak age for creative achievement within a single career.\\n\\nBecause total lifetime output is positively related to total creative contributions and hence to ultimate eminence, and given that a creator’s most distinguished work will appear in those career periods when productivity is highest, the peak age for creative impact should not vary as a function of either the success of the particular contribution or the final fame of the creator. …\\n\\nThus, even though an impressive lifetime output of works, and subsequent distinction, is tied to precocity, longevity, and production rate, the expected age optimum for quantity and quality of contribution is dependent solely on the particular form of creative expression.\\n\\nWow, again.\\n\\nAnyone who demonstrates… an age decrement in achievement is likely to provoke controversy. After all, aging is a phenomenon easy enough to become defensive about, and such defensiveness is especially probable among those of us who are already past the putative age peak for our particular field of endeavor…\\n---\\nAge and the Entrepreneur: Some data 159\\n\\nI think Dr. Simonton is ready to start blogging.\\n\\nHis paper then goes on to discuss many possible extrinsic factors such as health that could impair later-life output, but in the end he concludes that the data is pretty conclusive that such extrinsic factors serve as “random shocks” to any individual’s career that do not affect the overall trends.\\n\\nHe then goes on to discuss possible intrinsic factors that could explain a relationship between age and creative accomplishment:\\n\\n- G. M. Beard was not merely the earliest contributor [in 1874] to the empirical literature on age and achievement but its first theorist as well. According to him, creativity is a function of two underlying factors, enthusiasm and experience. Enthusiasm provides the motivational force behind persistent effort, yet enthusiasm in the absence of the second factor yields just original work. Experience gives the achiever the ability to separate wheat from chaff and to express original ideas in a more intelligible and persistent fashion. Yet experience in the absence of enthusiasm produces merely routine contributions. Genuine creativity requires the balanced cooperation of both enthusiasm and experience.\\n- Beard postulates, however, that these two essential components display quite distinctive distributions across the life span. Whereas enthusiasm usually peaks early in life and steadily declines thereafter, experience gradually increases as a positive monotonic function of age. The correct equilibrium between the two factors is attained between the ages of 38 and 40, the most common age optima for creative endeavors. Prior to that expected peak, an individual’s output would be excessively original, and in the post-peak phase the output would be overly routine. The career Yoruit in the late 30s thus represents the uniquely balanced juxtaposition of the rhapsodies of youth and the wisdom of maturity.\\n\\nHmmmmmm…\\n\\n- Beard’s theory is not without attractive features… Beard’s account, for all its simplicity, can boast a respectable amount of explanatory power. Besides handling the broad form of the age curve, this theory leads to an interpretation of why different endeavors may peak at distinct ages.\\n- The contrast between poetic and prose literature, for instance, can be interpreted as the immediate consequence of the assumption\\n---\\n# The Pmarca Blog Archives\\n\\nthat the two domains demand a different mix of the two factors: poetry, more enthusiasm, and prose, more experience. Indeed, in fields in which expertise may be far more crucial than emotional vigor, most notably in scholarship, we would anticipate little if any decline with age, and such is the case.\\n\\nDr. Simonton, however, then goes on to explain that this theory does not really match the data — for example, the data shows that quality of output in practically all fields does not decline systematically with age, which is what you’d expect from Beard’s theory.\\n\\nThe paper then digs into possible correlations between intelligence as measured by such metrics as IQ, and creative output:\\n\\n- Even if a minimal level of intelligence is requisite for achievement, beyond a threshold of around IQ 120 (the actual amount varying across fields), intellectual prowess becomes largely irrelevant in predicting individual differences in… creativity.\\n\\nSo what have we learned in a nutshell?\\n\\nGenerally, productivity — output — rises rapidly from the start of a career to a peak and then declines gradually until retirement.\\n\\n- This peak in productivity varies by field, from the late 20s to the early 50s, for reasons that are field-specific.\\n- Precocity, longevity, and output rate are linked. “Those who are precocious also tend to display longevity, and both precocity and longevity are positively associated with high output rates per age unit.” High producers produce highly, systematically, over time.\\n- The odds of a hit versus a miss do not increase over time. The periods of one’s career with the most hits will also have the most misses. So maximizing quantity — taking more swings at the bat — is much higher payoff than trying to improve one’s batting average.\\n- Intelligence, at least as measured by metrics such as IQ, is largely irrelevant.\\n---\\nAge and the Entrepreneur: Some data 161\\n\\nSo here’s my first challenge: to anyone who has an opinion on the role of age and entrepreneurship — see if you can fit your opinion into this model!\\n\\nAnd here’s my second challenge: is entrepreneurship more like poetry, pure mathematics, and theoretical physics — which exhibit a peak age in one’s late 20s or early 30s — or novel writing, history, philosophy, medicine, and general scholarship — which exhibit a peak age in one’s late 40s or early 50s? And how, and why?\\n---\\nLuck and the entrepreneur: The four kinds of luck\\n\\nIn the last few weeks, I’ve been reading huge stacks of books on the psychology of creativity and motivation — which is the reason for the relative scarcity of substantive blog posts. Said post situation will be remedied shortly, by a series of posts on — surprise! — the psychology of creativity and motivation.\\n\\nBut Xrst, to complement my post on age and the entrepreneur from a few days ago, this post begins a series of occasional posts about luck and the entrepreneur.\\n\\nLuck is something that every successful entrepreneur will tell you plays a huge role in the difference between success and failure. Many of those successful entrepreneurs will only admit this under duress, though, because if luck does indeed play such a huge role, then that seriously dents the image of the successful entrepreneur as an omniscient business genius.\\n\\nMoreover, some of those people would shrug and say that luck is simply out of your hands. Sometimes you have it, sometimes you don’t. But perhaps there’s more to it than that.\\n\\nDr. James Austin, a neurologist and philosopher (!), wrote an outstanding book called Chase, Chance, and Creativity — originally in 1978, then updated in 2003. It’s the best book I’ve read on the role of luck, chance, and serendipity in medical research — or, for that matter, any creative endeavor. And because he’s a\\n---\\n# Luck and the entrepreneur: The four kinds of luck\\n\\nNeurologist, he has a grounding in how the brain actually exerts itself creatively — although there is more recent research on that topic that is even more illuminating (more on that later).\\n\\nIn the book, Dr. Austin outlines his theory of the four kinds of luck — or, as he calls it, chance; I will use the terms interchangeably.\\n\\nFirst, he defines chance as follows:\\n\\n- Chance… something fortuitous that happens unpredictably without discernable human intention.\\n\\nYup, that’s luck.\\n\\nChance is unintentional, it is capricious, but we needn’t conclude that chance is immune from human interventions. However, one must be careful not to read any unconsciously purposeful intent into “interventions”… which are to be viewed as accidental, unwilled, inadvertent, and unforeseeable.\\n\\nIndeed, chance plays several distinct roles when humans react creatively with one another and with their environment…\\n\\nWe can observe chance arriving in four major forms and for four different reasons. The principles involved affect everyone.\\n\\nHere’s where it helps to be a neurologist writing on this topic:\\n\\nThe four kinds of chance each have a different kind of motor exploratory activity and a different kind of sensory receptivity.\\n\\nThe [four] varieties of chance also involve distinctive personality traits and differ in the way one particular individual influences them.\\n\\nOK, so what are they?\\n\\n- In Chance I, the good luck that occurs is completely accidental. It is pure blind luck that comes with no effort on our part.\\n- In Chance II, something else has been added — motion.\\n\\nYears ago, when I was rushing around in the laboratory [conducting\\n---\\n# The Pmarca Blog Archives\\n\\nmedical research], someone admonished me by asking, “Why all the busyness? One must distinguish between motion and progress”.\\n\\nYes, at some point this distinction must be made. But it cannot always be made first. And it is not always made consciously. True, waste motion should be avoided. But, if the researcher did not move until he was certain of progress he would accomplish very little…\\n\\nA certain [basic] level of action “stirs up the pot”, brings in random ideas that will collide and stick together in fresh combinations, lets chance operate.\\n\\nMotion yields a network of new experiences which, like a sieve, filter best when in constant up-and-down, side-to-side movement…\\n\\nUnluck runs out if you keep stirring up things so that random elements can combine, by virtue of you and their inherent affinities.\\n\\nSounds like a startup!\\n\\nChance II springs from your energetic, generalized motor activities… the freer they are, the better.\\n\\n[Chance II] involves the kind of luck [Charles] Kettering… had in mind when he said, “Keep on going and chances are you will stumble on something, perhaps when you are least expecting it. I have never heard of anyone stumbling on something sitting down.”\\n\\nOK, now here’s where it gets interesting:\\n\\nNow, as we move on to Chance III, we see blind luck, but it tiptoes in solely, dressed in camouflage.\\n\\nChance presents only a faint clue, the potential opportunity exists, but it will be overlooked except by that one person uniquely equipped to observe it, visualize it conceptually, and fully grasp its significance.\\n\\nChance III involves involves a special receptivity, discernment, and intuitive grasp of significance unique to one particular recipient.\\n\\nLouis Pasteur characterized it for all time when he said, “Chance favors the prepared mind.”\\n\\nI thought that was Eric Bogosian in Under Siege 2: Dark Territory, but OK.\\n\\n…The classic example of [Chance III] occurred in 1928, when Sir\\n---\\n# Luck and the entrepreneur: The four kinds of luck\\n\\nAlexander Fleming’s mind instantly fused at least five elements into a conceptually unified nexus when he discovered penicillin — one of the most important medical breakthroughs ever.\\n\\nHe was at his work bench in the laboratory, made an observation, and his mental sequences then went something like this: (a) I see that a mold has fallen by accident into my culture dish; (2) the staphylococcal colonies residing near it failed to grow; (3) therefore, the mold must have secreted something that killed the bacteria; (4) this reminds me of a similar experience I had once before; (5) maybe this new “something” from the mold could be used to kill staphylococci that cause human infections.\\n\\nActually, Fleming’s mind was exceptionally well prepared. Some nine years earlier, while suffering from a cold, his own nasal drippings had found their way onto a culture dish. He noted that the bacteria around his mucous were killed, and astutely followed up the lead. His experiments then led him to discover… lysozyme… which proved inappropriate for medical use, but think of how receptive Fleming’s mind was to the penicillin mold when it later happened on the scene!\\n\\nOK, what about Chance IV?\\n\\nChance IV favors the individualized action.\\n\\nThis is the fourth element in good luck — an active, but unintentional, subtle individualized prompting of it.\\n\\nPlease explain!\\n\\nChance IV is the kind of luck that develops during a probing action which has a distinctive personal flavor.\\n\\nThe English Prime Minister, Benjamin Disraeli, summed up the principle underlying Chance IV when he noted: “We make our fortunes and we call them fate.”\\n\\nChance IV comes to you, unsought, because of who you are and how you behave.\\n\\nChance IV is so personal, it is not easily understood by someone else the first time around… here we probe into the subterranean recesses of personal hobbies and behavioral quirks that autobiographers know about, biographers rarely.\\n\\nIn neurological terms, Chance III is concerned with personal sensory receptivity; its counterpart, Chance IV, is involved with personal motor behavior.\\n---\\n# The Pmarca Blog Archives\\n\\nPlease continue!\\n\\nYou have to look carefully to Xnd Chance IV for three reasons.\\n\\n- The Xrst is that when it operates directly, it unfolds in an elliptical, unorthodox manner.\\n- The second is that it oaen works indirectly.\\n- The third is that some problems it may help solve are uncommonly diZcult to understand because they have gone through a process of selection.\\n\\nWe must bear in mind that, by the time Chance IV Xnally occurs, the easy, more accessible problems will already have been solved earlier by conventional actions, conventional logic, or by the operations of the other forms of chance. What remains late in the game, then, is a tough core of complex, resistant problems. Such problems yield to none but an unusual approach…\\n\\nChance IV involves a kind of discrete behavioral performance focused in a highly speciXc manner.\\n\\nHere’s the money quote:\\n\\nWhereas the lucky connections in Chance II might come to anyone with disposable energy as the happy by-product of any aimless, circular stirring of the pot, the links of Chance IV can be drawn together and fused only by one quixotic rider cantering in on his own homemade hobby horse to intercept the problem at an odd angle.\\n\\nA recap?\\n\\n- Chance I is completely impersonal; you can’t inYuence it.\\n- Chance II favors those who have a persistent curiosity about many things coupled with an energetic willingness to experiment and explore.\\n- Chance III favors those who have a suZcient background of sound knowledge plus special abilities in observing, remembering, recalling, and quickly forming significant new associations.\\n- Chance IV favors those with distinctive, if not eccentric hobbies, personal lifestyles, and motor behaviors.\\n\\nThis of course leads to a number of challenges for how we live our lives as entrepreneurs and creators in any Xeld:\\n---\\n# Luck and the entrepreneur: The four kinds of luck  167\\n\\n•   How energetic are we?How inclined towards motion are we?\\nThose of you who read my Xrst age and the entrepreneur\\npost will recognize that this is a variation on the “optimize\\nfor the maximum number of swings of the bat” principle. In\\na highly uncertain world, a bias to action is key to catalyzing\\nsuccess, and luck, and is oaen to be preferred to thinking\\nthings through more throughly.\\n\\n•   How curious are we?How determined are we to learn about\\nour chosen Xeld, other Xelds, and the world around us? In my\\npost on hiring great people, I talked about the value I place\\non curiosity — and speciXcally, curiosity over intelligence.\\nThis is why. Curious people are more likely to already have\\nin their heads the building blocks for craaing a solution for\\nany particular problem they come across, versus the more\\nquote-unquote intelligent, but less curious, person who is\\ntrying to get by on logic and pure intellectual eWort.\\n\\n•   How Iexible and aggressive are we at synthesizing– at\\nlinking together multiple, disparate, apparently unrelated\\nexperiences on the Yy? I think this is a hard skill to\\nconsciously improve, but I think it is good to start most\\ncreative exercises with the idea that the solution may come\\nfrom any of our past experiences or knowledge, as opposed\\nto out of a textbook or the mouth of an expert. (And, if you\\nare a manager and you have someone who is particularly\\ngood at synthesis, promote her as fast as you possibly can.)\\n\\n•   How uniquely are we developing a personal point of view\\n— a personal approach– a personal set of “eccentric hobbies,\\npersonal lifestyles, and motor behaviors” that will uniquely\\nprepare us to create? This, in a nutshell, is why I believe that\\nmost creative people are better oW with more life experience\\nand journeys aXeld into seemingly unrelated areas, as\\nopposed to more formal domain-speciXc education — at\\nleast if they want to create.\\n\\nIn short, I think there is a roadmap to getting luck on our side,\\nand I think this is it.\\n---\\n# Serial Entrepreneurs\\n\\nSeveral days ago, Gary Rivlin of the New York Times called me about a story he was writing about the brilliant Max Levchin of Paypal and Slide, and the general topic of serial entrepreneurs in Silicon Valley. The story came out yesterday; below are the notes I prepared for my conversation with Gary.\\n\\nIn a nutshell, Gary’s question to me was: what makes serial entrepreneurs tick? Why do people like Max keep going and start new companies when they could just park it on a beach and suck down mai tais?\\n\\nFirst, in my experience, Silicon Valley entrepreneurs are all over the map when it comes to personality and motivation. Some are purely mercenary — one hit and they’re out. Others just love the technology, and the business is a side effect. Still others are like Chauncey Gardiner in Being There. And some just love starting and building companies.\\n\\nSecond, there were serial entrepreneurs in the past, but there are certainly more now than ever before. There are many factors that lead to this — here are the big ones:\\n\\n- There are simply more entrepreneurs now — due to the amazing surge in venture capital and the culture of startups over the last 10-15 years — so you’d expect more serial entrepreneurs just based on that.\\n- A lot of new companies simply develop faster these days than\\n---\\n# Serial Entrepreneurs\\n\\nthey did in the past. Microsoft and Oracle, for example, both put in 10 years of incredibly hard work before going public (both founded in ’76, IPO in ’86), and they only had a few hundred employees each when they went public — and those were the two biggest software successes of their era. Versus these days, when many companies are founded, built, scaled up, and sold (or, yes, taken public!) in a few years. The process can happen so fast that people are freed up much faster; therefore, upon being freed up they are younger and tend to have more raw energy than people who in the past would have spent 10 or 20 or 30 years building a single company — and by the time they freed up, they maybe didn’t want to put that level of effort into something again.\\n\\n- Also because of the faster cycle time, when you start company #2 you can assume that it won’t necessarily consume the next 10-20-30 years of your life… This makes it easier for people to say, OK, hey, it worked once, I’ll try it again.\\n- The culture of startups in the Valley is clicking on all cylinders — everything from fundraising to hiring to building out a management team to signing up lawyers and accountants and bankers is simply easier than ever before. I’m talking in a macro sense — over the last 10 years, versus prior decades, even considering the early 2000′s bust. So it’s just easier to start the next company that it was the past — the “pain in the ass” factor is lower.\\n- In terms of exit, there are some IPO’s, but the big thing is that M&A is a widely accepted and viable exit. Big companies in and related to the Valley have actually become quite good, in general, at acquiring small companies — not perfect, but quite good. They do it frequently, in order to build out their product families or grow market share. This of course inspires more companies to be started and tends to compress the time cycles further.\\n\\nThird, all that said, it is striking how many of the truly revolutionary companies are started, at least in part, by people who\\n---\\n# The Pmarca Blog Archives\\n\\nWhen you see one of those really revolutionary companies and there’s some young kid with the idea, of course, they often are linked up with one or more seasoned, experienced people — Google (Schmidt, Doerr, Moritz), Yahoo (Moritz, Koogle), Facebook (Thiel, Breyer), Apple (Markkula). So even there you see a kind of a serial entrepreneur (or VC or executive) effect which is another form of what you’re talking about.\\n\\nFourth, drilling deeper into the motivations of the great serial entrepreneurs I know, the dominant themes are:\\n\\n- Desire to prove oneself — either “I can do it again — it wasn’t a fluke the first time”, or “I was the junior partner last time, now I’ll be the senior partner”, or “I got fired from my last company, I’ll show those VCs”, or something like that.\\n- Desire to continue working and being productive — “I’m 26 or 30 or 34, I have a lot of energy, I have to keep moving, and I’m certainly not going to go to work for some boring big company or be another hack VC… obviously I need to start another company”.\\n- In love with the technology or a new idea — there’s more of this than cynical people think.\\n- A feeling that we’re in a unique time and place where it’s possible for us to start, build, and be successful with multiple companies — it’d be a shame to walk away from the opportunity to continue to be a part of such a magical time and place. This is a big motivator for me, by the way. Growing up, I would have never dreamed that an industry like this would exist or that I would get to be a part of it. I pinch myself every day.\\n- Money, but not just “I can buy a fancier cashmere car cover” kind of thing (although there is some of that) — just as often I think it’s money as a way to keep score (often in the form of something like, “I can’t believe Mark Cuban is a billionaire and I’m not; I can do that too”), or money as a way to have an impact on the world philanthropically — the more you make.\\n---\\nSerial Entrepreneurs 171\\n\\nthe more you can give away. That last one is certainly becoming a bigger and bigger motivator for me.\\n\\nWith any given serial entrepreneur, it’s probably a mix of these.\\n\\nFiLh, a sharply related topic to all of this is that the opportunities are bigger than ever before. It’s not an accident that companies like Google or Facebook or Paypal just get huge, and apparently overnight.\\n\\nFor the Xrst time in history, you have a global market of 1+ billion people, all connected over an interactive network where they’re all a click away from you. That’s amazing.\\n\\nAnd 100 million new people are being added to that count every year, and that will continue for the next 30 years.\\n\\nA huge and growing market makes all kinds of magical things possible, and I think that’s what we’re seeing now.\\n---\\nThe Back Pages\\n---\\n# Top 10 Science Fiction Novelists of the \\'00s ... So Far (June 2007)\\n\\nWe are blessed so far this decade with an amazing crop of new science fiction novelists.\\n\\nWriting in a variety of styles, this crew is arguably more insightful, more interesting, higher intensity, and bolder than many (but not all!) of their predecessors — and in my view revitalizing the genre at a time when more new technologies that will radically reshape all our lives are incubating and percolating than ever before.\\n\\nSo, taking nothing away from authors like David Brin who have long been established and continue to produce top-notch work, here are my nominations for the top 10 new science fiction novelists of — more or less — the decade, plus one bonus.\\n\\nAnd, they’re not all British.\\n\\nCharles Stross\\n\\nStross, in my opinion, is first among equals — the single best emerging talent with several outstanding novels in various styles under his belt and hopefully many more to come.\\n\\n“One of us” in the sense that his career includes a stint as — not kidding — Linux columnist for Computer Shopper magazine, Stross is equally adept at both near-future and radically-extrap-\\n---\\n# The Pmarca Blog Archives\\n\\nIsolated timeframes, and both hyper-serious and humorous moods.\\n\\nGlasshouse is Stross’s latest book and perhaps the best introduction to his work. A paranoid journey into a world of intergalactic teleportation and arbitrary physical body reshaping will have you thinking twice about who you are, and how you know who you are.\\n\\nSingularity Sky and Iron Sunrise are top-notch post-Singularity space opera featuring perhaps the most inventive alien opponent ever created for science fiction — “the Festival”. You’ll never look at telephones that drop out of the sky the same way again.\\n\\nAccelerando is the best envisioning of the Singularity committed to paper so far. This book is really cool, both in the sense of how the kids mean it, and also in tone — the plot, which spans about 100 years, is emotionally cold but amazingly inventive and highly likely to keep you up nights thinking hard about where we’re all headed in the long run.\\n\\nThe Atrocity Archives and The Jennifer Morgue, in contrast, are highly entertaining shaggy dog stories about an IT guy named Bob who gets drawn into mankind’s fight against forces of evil from another dimension — James Bond meets Call of Cthulhu meets The Office.\\n\\nFinally, Stross is also an active blogger with, let’s say, strong points of view.\\n\\nRichard Morgan\\n\\nMorgan writes outstanding, page-turning, highly inventive military- and detective-flavored hard science fiction set in turbulent worlds where hard men are faced with hard challenges.\\n\\nAltered Carbon is definitely the place to start, Morgan’s first and perhaps most inventive novel, Robert Heinlein meets Raymond Chandler — and first of a trio.\\n---\\n# Top 10 Science Fiction Novelists of the \\'00s ... so far (June 2007)\\n\\nBroken Angels is a strong follow-up that tilts more towards military fiction while still occupying the same universe.\\n\\nWoken Furies completes the trilogy with more hard-boiled action featuring a protagonist who has to fight a younger, and really mean, version of himself, which he does not enjoy.\\n\\nThirteen is undoubtedly Morgan’s best-written novel so far — this is an author whose skills are growing rapidly, and this book shows it. Not officially released in the US yet (I just read the British version, Black Man, renamed for US consumption), Thirteen is a near-future story of genetic engineering gone badly wrong — a future version of all those classic paranoid political thrillers of the 70’s but with a much harder edge. Highly recommended. Also very helpful regarding advising on things to think about before booking your next trip back from Mars.\\n\\nAlastair Reynolds\\n\\nReynolds is the real deal — doctorate in astrophysics and former staff scientist at the European Space Agency — and writes as if Robert Heinlein knew a thousand times more about science and completely lost his ability to write for warm characters. While Reynolds’ work is cold and dark — almost sterile — in human terms, he operates on a scale and scope seldom seen, and everything he writes is grounded in real advanced theoretical physics. Highly recommended for anyone who likes large-scale space opera and big ideas.\\n\\nRevelation Space, Redemption Ark, and Absolution Gap — together, Reynolds’ flagship trilogy — are three of the darkest, largest-scale, and most scientifically complex hard science fiction novels ever written. Highly recommended to anyone who thinks that sounds like a good idea (I did!).\\n\\nCentury Rain is Reynolds’ most approachable novel so far — a trippy far-future expedition to an apparently inexplicable complete clone of Earth and all its inhabitants from our year 1959. Like Morgan’s work, strong overtones here of Raymond Chandler — in a good way (in a great way).\\n---\\n# The Pmarca Blog Archives\\n\\nChasm City has more overshades of Richard Morgan — lots of combat, science, and intrigue. Are you sure you know who you are?\\n\\nThe Prefect is just out and I haven’t read it yet, but it’s next on the stack.\\n\\nKen MacLeod\\n\\nMacLeod is incredibly creative — his imagination is second to none — and he’s a superb writer. Many of his books have political overtones that may or may not interfere with your ability to enjoy them. Sometimes MacLeod seems to think that socialism is going to work a lot better in the future than it did in the past. But if you can get through that, his novels certainly qualify as dizzyingly inventive and frequently rewarding.\\n\\nThe Star Fraction, The Stone Canal, The Cassini Division, and The Sky Road form the Fall Revolution sequence, MacLeod’s first major body of work. Cyberpunk, political revolution, high-tech combat, love-slave androids, cloning, wormholes, artificial intelligence, and nuclear deterrence for hire — oh my! Join the Felix Dzerzhinsky Workers’ Defense Collective today.\\n\\nThe Execution Channel, MacLeod’s latest, takes a leap turn into a paranoid post-9/11 near future featuring war with Iran, Yu pandemics, nuclear terrorist attacks, government conspiracies, and the Execution Channel, broadcasting actual footage of murders and executions around the clock. Haven’t read it yet, but sounds like fun.\\n\\nPeter Hamilton\\n\\nHamilton is the clear heir to Heinlein in my view. Large-scale space opera told through a shining and interlinked cast of people from various walks of life, and amazing storytelling — or, as (accurately) blurbed by Richard Morgan, “Yat-out huge widescreen all-engines-at-full I-dare-you-not-to-believe-it space opera”.\\n\\nIt’s taken Hamilton a little while to find his talent, but he’s\\n---\\n# Top 10 Science Fiction Novelists of the \\'00s ... so far (June 2007)\\n\\nDefinitely found it. His two latest novels are superb: Pandora’s Star and its sequel Judas Unchained. Plan on staying up late, you’ll roll straight from the first into the second — and they are not short (in the best way!).\\n\\nJohn Scalzi\\n\\nAnother post-cyberpunk Heinlein heir, Scalzi writes strong, highly characterized, inventive novels that have been racking up tremendous review after tremendous review for the past few years.\\n\\nStart with Old Man’s War (don’t worry, they put the old dude in a young body, so you don’t need to find out what it’s like to fight aliens after hip replacement surgery). Progress directly to sequel The Ghost Brigades (Sci Fi Essential Books) and triquel The Last Colony.\\n\\nScalzi is also an active blogger, turns out!\\n\\nNeal Asher\\n\\nThis way lie dragons… literally, and not like you’ve ever met before. Asher is an incredibly strong author of science fiction with a distinctive horror overlay. Not for the squeamish, but highly inventive.\\n\\nAsher’s primary work is the Polity series — Gridlinked, The Line of Polity, Brass Man, and Polity Agent. The extended story of an enigmatic agent for the all-powerful artificial intelligences who rule the whole of human space, the Polity, these novels blend Ian Fleming with large-scale military combat, advanced theoretical xenobiology, nanotechnology gone badly wrong, and war drones with bad attitudes. Most definitely entertaining.\\n\\nFollow those up with The Skinner and The Voyage of the Sable Keech, and then the delectable standalone novella Prador Moon. One of the most distinctively imagined “bad bug” alien races, one of the most creative and lethal new worlds, and a historical scandal of horrific proportions combine in a whirlwind of violence and battle.\\n---\\n# The Pmarca Blog Archives\\n\\nAsher is blogging as well!\\n\\n# Chris Moriarty\\n\\nGibson meets Heinlein (can you tell I was a Heinlein fan growing up?) in a melange of science fiction themes, most particularly artificial intelligence, filtered through a distinctly female point of view. A rapidly developing talent worth reading, and watching for future advances.\\n\\nRead Spin State and then read Spin Control.\\n\\n# Peter Watts\\n\\nWatts\\' flash novel, Blindsight, has put him on the map — a new tale of alien contact, as conducted by a team of entities from a future Earth that will send a chill down your spine without even getting to the alien part.\\n\\n# David Marusek\\n\\nMy last and final entry of the top 10 is the one I am least certain about. Marusek is off the charts in terms of creativity and inventiveness — in his debut novel, Counting Heads, he extrapolates with incredible verve and detail an Earth circa 2134 that is a near-utopia. I frankly need to read it again. I think it may be a failure as a novel, but if so, it\\'s an amazing failure. Well worth keeping an eye on at the very least — has to win the award for highest potential.\\n\\n# Bonus: Vernor Vinge\\n\\nVinge, a retired San Diego State University professor of mathematics and computer science, is one of the most important science fiction authors ever — and with Arthur C. Clarke one of the best forecasters in the world.\\n\\nFirst, if you haven\\'t had the pleasure, be sure to read True Names, Vinge\\'s 1981 novella that forecast the modern Internet with shocking clarity. (Ignore the essays, just read the story.) Fans of Gibson and Stephenson will be amazed to see how much more accurately Vinge called it, and before Neuromancer\\'s first.\\n---\\n# Top 10 science fiction novelists of the \\'00s ... so far (June 2007)\\n\\npage cleared Gibson’s manual typewriter. Quoting a reviewer on Amazon:\\n\\nWhen I was starting out as a PhD student in Artificial Intelligence at Carnegie Mellon, it was made known to us first-year students that an unofficial but necessary part of our education was to locate and read a copy of an obscure science-fiction novella called True Names. Since you couldn’t find it in bookstores, older grad students and professors would directly mail order sets of ten and set up informal lending libraries — you would go, for example, to Hans Moravec’s office, and sign one out from a little cardboard box over in the corner of his office. This was 1983 — the Internet was a toy reserved for American academics, “virtual reality” was not a popular topic, and the term “cyberpunk” had not been coined. One by one, we all tracked down copies, and all had the tops of our heads blown off by Vinge’s incredible book.\\n\\nTrue Names remains to this day one of the four or five most seminal science-fiction novels ever written, just in terms of the ideas it presents, and the world it paints. It laid out the ideas that have been subsequently worked over so successfully by William Gibson and Neal Stephenson. And it’s well written. And it’s fun.\\n\\nSo what? Well, he’s done it again. Vinge’s new novel, Rainbows End (yes, the apostrophe is deliberately absent), is the clearest and most plausible extrapolation of modern technology trends forward to the year 2025 that you can imagine.\\n\\nStop reading this blog right now. Go get it. Read it, and then come back.\\n\\nI’ll wait.\\n\\nIt’s that good.\\n\\nWe’ll see how things turn out, but I would not be the least bit surprised if we look back from 2025 and say, “I’ll be damned, Vinge called it”, just like we look back today on 1981’s True Names and say the same thing.\\n\\nHe better write a sequel.\\n---\\n# Bubbles on the brain (October 2009)\\n\\nIt has become commonplace in Silicon Valley and in the blogosphere to take the position that we are in another bubble — a Web 2.0 bubble, or a dot com bubble redux.\\n\\nI don’t think this is true.\\n\\nLet’s examine the theory of a new bubble from a few different angles.\\n\\nFirst, recall that economist Paul Samuelson once quipped, “Economists have successfully predicted nine of the last five recessions.”\\n\\nOne might paraphrase this for our purposes as “Technology industry experts have successfully predicted nine of the last five bubbles”… or perhaps more like five of the last one bubbles.\\n\\nThe human psyche seems to have a powerful underlying need to predict doom and gloom.\\n\\nI suspect this need was evolved into us way back when.\\n\\nIf there is a nonzero chance that a giant man-eating saber-tooth tiger is going to come over the nearest hill and chomp you, then it’s in your evolutionary best interest to predict doom and gloom more frequently than it actually happens.\\n---\\n# Bubbles on the brain (October 2009)\\n\\n181\\n\\nThe cost of hiding from a nonexistent giant man-eating saber-tooth tiger is low, but the cost of not hiding from a real giant man-eating saber-tooth tiger is quite high.\\n\\nSo hiding more often than there are tigers makes a lot of sense, if you’re a caveman.\\n\\nBut as with other habits ingrained into us by evolution, the habit of predicting doom and gloom when it isn’t in fact right around the corner might no longer make sense.\\n\\nOn Wall Street, investors who have this habit are known as “perma-bears” and generally are predicting the imminent collapse of the stock market. This habit keeps them from being fully invested. Sure, they’re well protected during the occasional crash of 1929 or 2000, but by and large they massively underperform their peers who take advantage of the fact that most years, the economy grows, and the market goes up. They have disappointing careers and die unhappy and bitter.\\n\\nIn reality it seems very difficult to predict either a bubble or a crash.\\n\\nLots of people predicted a stock market crash… in 1995, 1996, 1997, 1998, and 1999. They were correct in 2000. But as soon as the stock market recovered in 2003 and 2004, they were back at it, and there have been similar predictions from noted pundits ever since — incorrectly.\\n\\nSimilarly, in the technology industry, there were people calling a bubble starting in 1995 and continuing through to 2000, with a short break for about two years, and then more bubble-calling ever since.\\n\\nIf you’re going to listen to people who predict bubbles or crashes, you have to be ready to stay completely out of the market — the stock market, and the technology industry — almost every year of your life.\\n\\nSecond, historically, bubbles are very, very rare.\\n\\nIt’s significant that in books and papers that talk about bubbles,\\n---\\n# The Pmarca Blog Archives\\n\\nThere are simply not that many examples over the past 500 years of capitalism.\\n\\nYou’ve got the South Sea bubble, the Dutch tulip bulb bubble, the bubble in Japanese stocks in the 1980’s, the dot com bubble, and a few others.\\n\\nThey just don’t happen that often, at least in relatively developed economies.\\n\\nAnd they don’t tend to happen more than once in a generation.\\n\\n(Perhaps because many of the people who go through one are so traumatized that all they can do is sit around and worry about another one.)\\n\\nInterestingly, modern economic research is in the process of debunking a number of historical bubbles.\\n\\nIt looks increasingly plausible that had US monetary policy been better run in the early 1930’s, our view of what happened in the 1920’s would be far more benign.\\n\\nIt also turns out that the Dutch tulip bubble is largely a myth.\\n\\nSo generally speaking, if one is going to seriously call a bubble, one has to be aware that one is calling something that is extremely rare.\\n\\nThird, in the technology industry, lots of startups being funded with some succeeding and many failing does not equal a bubble.\\n\\nIt equals status quo.\\n\\nThe whole structure of how the technology industry gets funded — by venture capitalists, angel investors, and Wall Street — is predicated on the baseball model.\\n\\nOut of ten swings at the bat, you get maybe seven strikeouts, two base hits, and if you are lucky, one home run.\\n\\nThe base hits and the home runs pay for all the strikeouts.\\n\\nIf you’re going to call a bubble on the basis of lots of bad startups\\n---\\n# Bubbles on the brain (October 2009)\\n\\nGetting funded and failing, then you have to conclude that the industry is in a perpetual bubble, and has been for 40 years.\\n\\nWhich may be fun, but isn’t very useful.\\n\\nLots of people running around starting questionable companies, launching marginal products, pitching third-tier VC’s, throwing launch parties, shmoozing at conferences, blogging enthusiastically, and otherwise acting bubbly does not a bubble make.\\n\\nThat’s just life in this business.\\n\\nNote also what you don’t see in the theoretical Web 2.0 bubble of 2007.\\n\\nIPO’s.\\n\\nLots and lots and lots of IPO’s.\\n\\nFor a theoretical bubble, that is just plain odd.\\n\\nFourth, getting more specific about Internet businesses — things have changed a lot since the late 90’s.\\n\\nIt is far cheaper to start an Internet business today than it was in the late 90’s.\\n\\nThe market for Internet businesses today is much larger than it was in the late 90’s.\\n\\nAnd business models for Internet businesses today are much more solid than they were in the late 90’s.\\n\\nThis is a logical consequence of time passing, technology getting more broadly adopted, and the Internet going mainstream as a consumer phenomenon.\\n\\nPeople smarter than me have written about these factors at length elsewhere, so I won’t dwell on them, unless there is specific interest.\\n\\nBut my back of the envelope calculation is that it is about 10x cheaper to start an Internet business today than it was in the late 90’s.\\n---\\n# The Pmarca Blog Archives\\n\\nlate 90’s — due to commodity hardware, open source software, modern programming technologies, cheap bandwidth, the rise of third-party ad networks, and other infrastructure factors.\\n\\nAnd the market size for a new Internet business today is about 10x bigger than it was in the late 90’s — there are about 10x more people online (really!), and they are far more used to doing things on the Internet today than they were in 1999.\\n\\n(Want evidence of that last point? Clothing purchases are now bigger than computer hardware and software sales online. I can guarantee you that nobody who was involved in ecommerce in the mid-90’s ever would have predicted that.)\\n\\nThe Internet is a fully mainstream medium now, people love it, people are willing to do all kinds of things on it, and it’s getting really cheap to offer new services to those people.\\n\\nFinally, and finally, there’s the simple fact that the Internet businesses that are succeeding in 2007 are for the most part incredibly valuable, compelling services that lots of people like and that are in general either making a lot of money or will be making a lot of money quite quickly.\\n\\nPeople laughed when Fox bought MySpace for $580 million, but that’s a business that will generate nearly $300 million in revenue in 2007, and more in 2008.\\n\\nAs an independent asset today, MySpace would probably be valued at between $3 billion and $5 billion today — perhaps higher.\\n\\nCall that the deal of the decade.\\n\\nSimilarly, Facebook is bringing in a lot more revenue than people think.\\n\\nAnd then there’s Google.\\n\\nThese companies aren’t pulling in all that revenue via some kind of Ponzi scheme.\\n\\nThis is money coming from real advertisers and real users for real services with real value.\\n---\\nWhich makes total sense, amid the enormous mass migration of consumer time and attention away from traditional media towards online media.\\n\\nThese same factors apply all the way down the food chain.\\n\\nA high-growth online startup that gets bought for $100 million or $200 million by a large Internet or media company isn’t getting that kind of acquisition price just for the hell of it, but rather because the acquirer can plug that startup’s service into its broader portfolio of services and make real money with it.\\n\\nThese are big numbers, but remember, there are more than a billion people online now. That is a very large market — a lot of people, spending a lot of time, buying a lot of things, in totally new ways at the same time as they are abandoning older services like newspapers, magazines, television, movie theaters, and print catalogs.\\n\\nSo, my view is that to call a bubble, you have to find evidence of it outside of the mainstream of the kinds of Internet businesses that are being built, sold, and run in 2007.\\n\\nIn closing, I’d be the last person to say that I never roll my eyes at the next startup that’s doing online wiki-based popularity-ranked video-podcast mobile social dating widgets for the dog and cat owner market.\\n\\nBut a bubble?\\n\\nI doubt it.\\n---\\nOK, you\\'re right, it IS a bubble (October 2009)\\n\\n[IMPORTANT WARNING: What follows is satire. I’m NOT being serious. Except for one paragraph at the very end. See if you can spot that one.]\\n\\nWhen I first started this blog four months ago, one of the first substantive posts I wrote was called “Bubbles on the brain”.\\n\\nIn it, I attempted to use “logic” to explain the reasons we are most likely not in another dot com bubble.\\n\\nSince that time, talk of a new dot com bubble or Web 2.0 bubble or Internet bubble has only escalated in volume and intensity.\\n\\nOK.\\n\\nYou’re right.\\n\\nIt’s a bubble.\\n\\nA huge, massive, inflating bubble.\\n\\nWe’re all doomed.\\n\\nDoomed, I say!\\n\\nDOOMED!\\n\\nIt can’t last.\\n---\\n# OK, you\\'re right, it IS a bubble (October 2009)\\n\\nIt won’t last.\\n\\nIt can’t won’t not last.\\n\\nHere we sit, with over $7 billion in venture funding this year chasing exactly zero good ideas.\\n\\nPaid keyword ads? All BS. Once users figure out those things on the side of the page aren’t natural search results, that’s it, no more click-throughs. Pop goes the sou[e.\\n\\nAd targeting? Snort. The creme de la creme for Internet advertising, so to speak, is those acne cream banner ads you see all over Facebook. That’s it. That’s the best Internet advertising will ever be. Get used to the bottom of the barrel, suckers.\\n\\nSubscription fees? Premium services? Ecommerce? Sponsorships? Mobile advertising? Mobile fee-based services? New hosting models? Video advertising? Music subscription services? In-game advertising? Massively multiplayer games? Digital gifts? Affiliate bounties? HA! Don’t make me laugh. Oh, wait — YOU JUST DID.\\n\\nSo people everywhere are flocking to these newfangled trendoid web sites by the tens of millions and spend hundreds of millions or billions of hours on them every month. So what. It’s all a big fad. Think hula hoops. Pet rocks. The macarena. The clock is ticking, and the 15 minutes is almost up.\\n\\nMove along, move along, nothing to see here.\\n\\nThese are not the droids you’re looking for.\\n\\nVenture capitalists? All stupid, and unnecessary to boot. Everyone knows that you shouldn’t need to raise more than $5.37 in loose change to start a new web business. I mean, c’mon.\\n\\nEntrepreneurs? Smoking dope. What are they thinking? Why aren’t they all working for Apple, helping to build a fatter Nano? What’s wrong with them? Pot-smoking, mussed-hair, rooftop party-going, trendy glasses-wearing, sandal-clad, Red Bull-snorting, laid-getting wankers, the lot of ‘em. The sooner they\\n---\\n# The Pmarca Blog Archives\\n\\nrealize the world never changes and there are no new opportunities to pursue, the better.\\n\\nFacebook apps? Good God. So they spread virally to millions of users in a matter of weeks. Not worth anything. Everyone knows that. Can’t possibly build a business. I mean, don’t you realize what else can spread to millions of people in a matter of weeks? Do you want to catch any of those? I don’t think so!\\n\\nCall off the dogs.\\n\\nIt’s all over.\\n\\nStick a fork in it.\\n\\nIt has ceased to be.\\n\\nThe metabolically-differenced lady has sung.\\n\\nRight now this industry is just like Wile E. Coyote in the old Road Runner cartoons, ran out over the edge of the cliff, hanging in midair, gravity just about to kick in.\\n\\nThink Acme servers.\\n\\nWhere’s it all going from here?\\n\\nNow that I’ve raised a monster Series C round for my own company, all other funding of all other startups will immediately cease. No new competitors to my company need be started. There’s certainly no major opportunity in what we’re doing; why go after your fair share of a $0 dollar market?\\n\\nFurther, now that my company is in a rapid viral growth loop, will all the users please stop using anything new that comes along. And while you’re at it, stop using most everything else also, please. Cut it out with the fads already. Posthaste. Chop chop.\\n\\nVenture capitalists, I don’t think I need to tell you what to do. OK, I do. Hand back the money you’ve raised from LPs. Quickly. Quietly. OK, now step away. Don’t make any sudden moves. Back out of the office park, slowly, slowly. Hey, look at\\n---\\nOK, you\\'re right, it IS a bubble (October 2009) 189\\n\\nthe bright side — carried interest Xnally getting taxed properly won’t aWect you anymore! And now you will have time to play 250 rounds of golf a year instead of just 225, and you can focus on getting your Porsche 911’s retroXtted to run on ethanol.\\n\\nAll you other startups funded in the last three years? Punt. Now. Liquidate the company — get whatever cash you can for the Aeron chairs and the foosball tables and the lava lamps and the RAID arrays and shut down now, hand the cash back to the investors, preferably on Xre, and leave town, head down, in shame. All those young programmers and product managers can go get jobs in retail footwear where they belong.\\n\\nYou big companies — you eBays, you Yahoos, you Googles, you Amazons? Yes, and you, Microsoa? Think the new new B2B — back to boring. What’s with all these new products? The world is confusing enough. Shut ‘em down and let’s go back to the good old days: Windows ME, Mac OS 9, dialup modems, and 640 megabytes ought to be enough for everyone. You’re just screw- ing us all over with all this new fancy broadband video-enabled phone-call-making wiX web-based lightweight touch-interface gorgeous long-battery-life YimYam — just look at how you keep dropping the damn prices. I knew I’d be better oW not buying any of it, ever. The class action lawsuits are in the mail. And for God’s sake, raise your dividends — what, you think there’s any growth lea in this industry? Fools. When the great shareholder revolt comes, you’ll be Xrst up against the wall.\\n\\nYou wanton scribblers of what will now once again be referred to as the “press”, as everyone suddenly goes back to reading the news on smudgy-inked paper — start cranking up the I told you so stories. You know you’ve been wanting to tell ‘em — here’s your big chance! Pulitzer is waiting.\\n\\nThe sooner we all get back to 2003, when the few surviving companies had huge giant markets all to themselves, with no competition anywhere in sight, because everyone knew the world had come to an end, the better.\\n\\nI will accept your applause and gratitude in the form of imme- diate compliance.\\n---\\n190  The Pmarca Blog Archives\\n\\n\\n     Thank you.', start_char_idx=None, end_char_idx=None, text_template='{metadata_str}\\n\\n{content}', metadata_template='{key}: {value}', metadata_seperator='\\n')]\n"
          ]
        }
      ],
      "source": [
        "## Activity 1a - Upload PDFs \n",
        "\n",
        "## activity 1a\n",
        "from dotenv import load_dotenv\n",
        "load_dotenv()\n",
        "\n",
        "# bring in deps\n",
        "from llama_parse import LlamaParse\n",
        "from llama_index.core import VectorStoreIndex, SimpleDirectoryReader\n",
        "\n",
        "\n",
        "# set up parser\n",
        "parser = LlamaParse(\n",
        "    result_type=\"markdown\"  # \"markdown\" and \"text\" are available\n",
        ")\n",
        "\n",
        "# use SimpleDirectoryReader to parse our file\n",
        "file_extractor = {\".pdf\": parser}\n",
        "pdf_documents = SimpleDirectoryReader(input_files=['data/PMarcaBlogs.pdf'], file_extractor=file_extractor).load_data()\n",
        "print(pdf_documents)\n",
        "\n",
        "\n"
      ]
    },
    {
      "cell_type": "code",
      "execution_count": 79,
      "metadata": {},
      "outputs": [],
      "source": [
        "import numpy as np\n",
        "from collections import defaultdict\n",
        "from typing import List, Tuple, Callable, Optional\n",
        "from aimakerspace.openai_utils.embedding import EmbeddingModel\n",
        "import asyncio\n",
        "import enum\n",
        "\n",
        "def cosine_similarity(vector_a: np.array, vector_b: np.array) -> float:\n",
        "    \"\"\"Computes the cosine similarity between two vectors.\"\"\"\n",
        "    dot_product = np.dot(vector_a, vector_b)\n",
        "    norm_a = np.linalg.norm(vector_a)\n",
        "    norm_b = np.linalg.norm(vector_b)\n",
        "    return dot_product / (norm_a * norm_b)\n",
        "\n",
        "def euclidean_distance(x, y):\n",
        "    return np.sqrt(np.sum((x - y) ** 2))\n",
        "\n",
        "\n",
        "def manhattan_distance(x, y):\n",
        "    return np.sum(np.abs(x - y))\n",
        "\n",
        "\n",
        "class DistanceMeasureType(enum.Enum):\n",
        "    CosineSimilarity = 'cosine_similarity'\n",
        "    EuclideanDistance = 'euclidean_distance'\n",
        "    ManhattanDistance = 'manhattan_distance'\n",
        "\n",
        "\n",
        "class VectorDatabase:\n",
        "    def __init__(self, embedding_model: EmbeddingModel = None):\n",
        "        self.vectors = defaultdict(np.array)\n",
        "        self.context = defaultdict(dict)\n",
        "        self.embedding_model = embedding_model or EmbeddingModel()\n",
        "\n",
        "    def insert(self, key: str, vector: np.array, context: Optional[dict]=None) -> None:\n",
        "        self.vectors[key] = vector\n",
        "        if context:\n",
        "            self.context[key] = context\n",
        "\n",
        "    def search(\n",
        "        self,\n",
        "        query_vector: np.array,\n",
        "        k: int,\n",
        "        distance_measure_callable: Callable = cosine_similarity,\n",
        "    ) -> List[Tuple[str, float, Optional[dict]]]:\n",
        "        scores = [\n",
        "            (key, distance_measure_callable(query_vector, vector), self.context.get(key))\n",
        "            for key, vector in self.vectors.items()\n",
        "        ]\n",
        "        return sorted(scores, key=lambda x: x[1], reverse=True)[:k]\n",
        "\n",
        "    def search_by_text(\n",
        "        self,\n",
        "        query_text: str,\n",
        "        k: int,\n",
        "        distance_measure: Optional[DistanceMeasureType] = DistanceMeasureType.CosineSimilarity,\n",
        "        return_as_text: bool = False,\n",
        "    ) -> List[Tuple[str, float, Optional[dict]]]:\n",
        "        query_vector = self.embedding_model.get_embedding(query_text)\n",
        "\n",
        "        distance_measure_callable = { \n",
        "            DistanceMeasureType.CosineSimilarity: cosine_similarity,\n",
        "            DistanceMeasureType.EuclideanDistance: euclidean_distance,\n",
        "            DistanceMeasureType.ManhattanDistance: manhattan_distance,\n",
        "        }[distance_measure]\n",
        "        results = self.search(query_vector, k, distance_measure_callable)\n",
        "        return [result[0] for result in results] if return_as_text else results\n",
        "\n",
        "    def retrieve_from_key(self, key: str) -> np.array:\n",
        "        return self.vectors.get(key, None)\n",
        "\n",
        "    async def abuild_from_list(self, list_of_text: List[str], list_of_context: Optional[List[dict]] = None) -> \"VectorDatabase\":\n",
        "        embeddings = await self.embedding_model.async_get_embeddings(list_of_text)\n",
        "        if list_of_context and len(list_of_context) == len(list_of_text):\n",
        "            for text, embedding, context in zip(list_of_text, embeddings, list_of_context):\n",
        "                self.insert(text, np.array(embedding), context=context)    \n",
        "        else: \n",
        "            for text, embedding in zip(list_of_text, embeddings):\n",
        "                self.insert(text, np.array(embedding))\n",
        "        return self"
      ]
    },
    {
      "cell_type": "code",
      "execution_count": 81,
      "metadata": {},
      "outputs": [
        {
          "name": "stdout",
          "output_type": "stream",
          "text": [
            "[{'source': 'data/PMarcaBlogs.pdf', 'datatype': 'pdf'}, {'source': 'data/PMarcaBlogs.pdf', 'datatype': 'pdf'}, {'source': 'data/PMarcaBlogs.pdf', 'datatype': 'pdf'}, {'source': 'data/PMarcaBlogs.pdf', 'datatype': 'pdf'}, {'source': 'data/PMarcaBlogs.pdf', 'datatype': 'pdf'}, {'source': 'data/PMarcaBlogs.pdf', 'datatype': 'pdf'}, {'source': 'data/PMarcaBlogs.pdf', 'datatype': 'pdf'}, {'source': 'data/PMarcaBlogs.pdf', 'datatype': 'pdf'}, {'source': 'data/PMarcaBlogs.pdf', 'datatype': 'pdf'}, {'source': 'data/PMarcaBlogs.pdf', 'datatype': 'pdf'}, {'source': 'data/PMarcaBlogs.pdf', 'datatype': 'pdf'}, {'source': 'data/PMarcaBlogs.pdf', 'datatype': 'pdf'}, {'source': 'data/PMarcaBlogs.pdf', 'datatype': 'pdf'}, {'source': 'data/PMarcaBlogs.pdf', 'datatype': 'pdf'}, {'source': 'data/PMarcaBlogs.pdf', 'datatype': 'pdf'}, {'source': 'data/PMarcaBlogs.pdf', 'datatype': 'pdf'}, {'source': 'data/PMarcaBlogs.pdf', 'datatype': 'pdf'}, {'source': 'data/PMarcaBlogs.pdf', 'datatype': 'pdf'}, {'source': 'data/PMarcaBlogs.pdf', 'datatype': 'pdf'}, {'source': 'data/PMarcaBlogs.pdf', 'datatype': 'pdf'}, {'source': 'data/PMarcaBlogs.pdf', 'datatype': 'pdf'}, {'source': 'data/PMarcaBlogs.pdf', 'datatype': 'pdf'}, {'source': 'data/PMarcaBlogs.pdf', 'datatype': 'pdf'}, {'source': 'data/PMarcaBlogs.pdf', 'datatype': 'pdf'}, {'source': 'data/PMarcaBlogs.pdf', 'datatype': 'pdf'}, {'source': 'data/PMarcaBlogs.pdf', 'datatype': 'pdf'}, {'source': 'data/PMarcaBlogs.pdf', 'datatype': 'pdf'}, {'source': 'data/PMarcaBlogs.pdf', 'datatype': 'pdf'}, {'source': 'data/PMarcaBlogs.pdf', 'datatype': 'pdf'}, {'source': 'data/PMarcaBlogs.pdf', 'datatype': 'pdf'}, {'source': 'data/PMarcaBlogs.pdf', 'datatype': 'pdf'}, {'source': 'data/PMarcaBlogs.pdf', 'datatype': 'pdf'}, {'source': 'data/PMarcaBlogs.pdf', 'datatype': 'pdf'}, {'source': 'data/PMarcaBlogs.pdf', 'datatype': 'pdf'}, {'source': 'data/PMarcaBlogs.pdf', 'datatype': 'pdf'}, {'source': 'data/PMarcaBlogs.pdf', 'datatype': 'pdf'}, {'source': 'data/PMarcaBlogs.pdf', 'datatype': 'pdf'}, {'source': 'data/PMarcaBlogs.pdf', 'datatype': 'pdf'}, {'source': 'data/PMarcaBlogs.pdf', 'datatype': 'pdf'}, {'source': 'data/PMarcaBlogs.pdf', 'datatype': 'pdf'}, {'source': 'data/PMarcaBlogs.pdf', 'datatype': 'pdf'}, {'source': 'data/PMarcaBlogs.pdf', 'datatype': 'pdf'}, {'source': 'data/PMarcaBlogs.pdf', 'datatype': 'pdf'}, {'source': 'data/PMarcaBlogs.pdf', 'datatype': 'pdf'}, {'source': 'data/PMarcaBlogs.pdf', 'datatype': 'pdf'}, {'source': 'data/PMarcaBlogs.pdf', 'datatype': 'pdf'}, {'source': 'data/PMarcaBlogs.pdf', 'datatype': 'pdf'}, {'source': 'data/PMarcaBlogs.pdf', 'datatype': 'pdf'}, {'source': 'data/PMarcaBlogs.pdf', 'datatype': 'pdf'}, {'source': 'data/PMarcaBlogs.pdf', 'datatype': 'pdf'}, {'source': 'data/PMarcaBlogs.pdf', 'datatype': 'pdf'}, {'source': 'data/PMarcaBlogs.pdf', 'datatype': 'pdf'}, {'source': 'data/PMarcaBlogs.pdf', 'datatype': 'pdf'}, {'source': 'data/PMarcaBlogs.pdf', 'datatype': 'pdf'}, {'source': 'data/PMarcaBlogs.pdf', 'datatype': 'pdf'}, {'source': 'data/PMarcaBlogs.pdf', 'datatype': 'pdf'}, {'source': 'data/PMarcaBlogs.pdf', 'datatype': 'pdf'}, {'source': 'data/PMarcaBlogs.pdf', 'datatype': 'pdf'}, {'source': 'data/PMarcaBlogs.pdf', 'datatype': 'pdf'}, {'source': 'data/PMarcaBlogs.pdf', 'datatype': 'pdf'}, {'source': 'data/PMarcaBlogs.pdf', 'datatype': 'pdf'}, {'source': 'data/PMarcaBlogs.pdf', 'datatype': 'pdf'}, {'source': 'data/PMarcaBlogs.pdf', 'datatype': 'pdf'}, {'source': 'data/PMarcaBlogs.pdf', 'datatype': 'pdf'}, {'source': 'data/PMarcaBlogs.pdf', 'datatype': 'pdf'}, {'source': 'data/PMarcaBlogs.pdf', 'datatype': 'pdf'}, {'source': 'data/PMarcaBlogs.pdf', 'datatype': 'pdf'}, {'source': 'data/PMarcaBlogs.pdf', 'datatype': 'pdf'}, {'source': 'data/PMarcaBlogs.pdf', 'datatype': 'pdf'}, {'source': 'data/PMarcaBlogs.pdf', 'datatype': 'pdf'}, {'source': 'data/PMarcaBlogs.pdf', 'datatype': 'pdf'}, {'source': 'data/PMarcaBlogs.pdf', 'datatype': 'pdf'}, {'source': 'data/PMarcaBlogs.pdf', 'datatype': 'pdf'}, {'source': 'data/PMarcaBlogs.pdf', 'datatype': 'pdf'}, {'source': 'data/PMarcaBlogs.pdf', 'datatype': 'pdf'}, {'source': 'data/PMarcaBlogs.pdf', 'datatype': 'pdf'}, {'source': 'data/PMarcaBlogs.pdf', 'datatype': 'pdf'}, {'source': 'data/PMarcaBlogs.pdf', 'datatype': 'pdf'}, {'source': 'data/PMarcaBlogs.pdf', 'datatype': 'pdf'}, {'source': 'data/PMarcaBlogs.pdf', 'datatype': 'pdf'}, {'source': 'data/PMarcaBlogs.pdf', 'datatype': 'pdf'}, {'source': 'data/PMarcaBlogs.pdf', 'datatype': 'pdf'}, {'source': 'data/PMarcaBlogs.pdf', 'datatype': 'pdf'}, {'source': 'data/PMarcaBlogs.pdf', 'datatype': 'pdf'}, {'source': 'data/PMarcaBlogs.pdf', 'datatype': 'pdf'}, {'source': 'data/PMarcaBlogs.pdf', 'datatype': 'pdf'}, {'source': 'data/PMarcaBlogs.pdf', 'datatype': 'pdf'}, {'source': 'data/PMarcaBlogs.pdf', 'datatype': 'pdf'}, {'source': 'data/PMarcaBlogs.pdf', 'datatype': 'pdf'}, {'source': 'data/PMarcaBlogs.pdf', 'datatype': 'pdf'}, {'source': 'data/PMarcaBlogs.pdf', 'datatype': 'pdf'}, {'source': 'data/PMarcaBlogs.pdf', 'datatype': 'pdf'}, {'source': 'data/PMarcaBlogs.pdf', 'datatype': 'pdf'}, {'source': 'data/PMarcaBlogs.pdf', 'datatype': 'pdf'}, {'source': 'data/PMarcaBlogs.pdf', 'datatype': 'pdf'}, {'source': 'data/PMarcaBlogs.pdf', 'datatype': 'pdf'}, {'source': 'data/PMarcaBlogs.pdf', 'datatype': 'pdf'}, {'source': 'data/PMarcaBlogs.pdf', 'datatype': 'pdf'}, {'source': 'data/PMarcaBlogs.pdf', 'datatype': 'pdf'}, {'source': 'data/PMarcaBlogs.pdf', 'datatype': 'pdf'}, {'source': 'data/PMarcaBlogs.pdf', 'datatype': 'pdf'}, {'source': 'data/PMarcaBlogs.pdf', 'datatype': 'pdf'}, {'source': 'data/PMarcaBlogs.pdf', 'datatype': 'pdf'}, {'source': 'data/PMarcaBlogs.pdf', 'datatype': 'pdf'}, {'source': 'data/PMarcaBlogs.pdf', 'datatype': 'pdf'}, {'source': 'data/PMarcaBlogs.pdf', 'datatype': 'pdf'}, {'source': 'data/PMarcaBlogs.pdf', 'datatype': 'pdf'}, {'source': 'data/PMarcaBlogs.pdf', 'datatype': 'pdf'}, {'source': 'data/PMarcaBlogs.pdf', 'datatype': 'pdf'}, {'source': 'data/PMarcaBlogs.pdf', 'datatype': 'pdf'}, {'source': 'data/PMarcaBlogs.pdf', 'datatype': 'pdf'}, {'source': 'data/PMarcaBlogs.pdf', 'datatype': 'pdf'}, {'source': 'data/PMarcaBlogs.pdf', 'datatype': 'pdf'}, {'source': 'data/PMarcaBlogs.pdf', 'datatype': 'pdf'}, {'source': 'data/PMarcaBlogs.pdf', 'datatype': 'pdf'}, {'source': 'data/PMarcaBlogs.pdf', 'datatype': 'pdf'}, {'source': 'data/PMarcaBlogs.pdf', 'datatype': 'pdf'}, {'source': 'data/PMarcaBlogs.pdf', 'datatype': 'pdf'}, {'source': 'data/PMarcaBlogs.pdf', 'datatype': 'pdf'}, {'source': 'data/PMarcaBlogs.pdf', 'datatype': 'pdf'}, {'source': 'data/PMarcaBlogs.pdf', 'datatype': 'pdf'}, {'source': 'data/PMarcaBlogs.pdf', 'datatype': 'pdf'}, {'source': 'data/PMarcaBlogs.pdf', 'datatype': 'pdf'}, {'source': 'data/PMarcaBlogs.pdf', 'datatype': 'pdf'}, {'source': 'data/PMarcaBlogs.pdf', 'datatype': 'pdf'}, {'source': 'data/PMarcaBlogs.pdf', 'datatype': 'pdf'}, {'source': 'data/PMarcaBlogs.pdf', 'datatype': 'pdf'}, {'source': 'data/PMarcaBlogs.pdf', 'datatype': 'pdf'}, {'source': 'data/PMarcaBlogs.pdf', 'datatype': 'pdf'}, {'source': 'data/PMarcaBlogs.pdf', 'datatype': 'pdf'}, {'source': 'data/PMarcaBlogs.pdf', 'datatype': 'pdf'}, {'source': 'data/PMarcaBlogs.pdf', 'datatype': 'pdf'}, {'source': 'data/PMarcaBlogs.pdf', 'datatype': 'pdf'}, {'source': 'data/PMarcaBlogs.pdf', 'datatype': 'pdf'}, {'source': 'data/PMarcaBlogs.pdf', 'datatype': 'pdf'}, {'source': 'data/PMarcaBlogs.pdf', 'datatype': 'pdf'}, {'source': 'data/PMarcaBlogs.pdf', 'datatype': 'pdf'}, {'source': 'data/PMarcaBlogs.pdf', 'datatype': 'pdf'}, {'source': 'data/PMarcaBlogs.pdf', 'datatype': 'pdf'}, {'source': 'data/PMarcaBlogs.pdf', 'datatype': 'pdf'}, {'source': 'data/PMarcaBlogs.pdf', 'datatype': 'pdf'}, {'source': 'data/PMarcaBlogs.pdf', 'datatype': 'pdf'}, {'source': 'data/PMarcaBlogs.pdf', 'datatype': 'pdf'}, {'source': 'data/PMarcaBlogs.pdf', 'datatype': 'pdf'}, {'source': 'data/PMarcaBlogs.pdf', 'datatype': 'pdf'}, {'source': 'data/PMarcaBlogs.pdf', 'datatype': 'pdf'}, {'source': 'data/PMarcaBlogs.pdf', 'datatype': 'pdf'}, {'source': 'data/PMarcaBlogs.pdf', 'datatype': 'pdf'}, {'source': 'data/PMarcaBlogs.pdf', 'datatype': 'pdf'}, {'source': 'data/PMarcaBlogs.pdf', 'datatype': 'pdf'}, {'source': 'data/PMarcaBlogs.pdf', 'datatype': 'pdf'}, {'source': 'data/PMarcaBlogs.pdf', 'datatype': 'pdf'}, {'source': 'data/PMarcaBlogs.pdf', 'datatype': 'pdf'}, {'source': 'data/PMarcaBlogs.pdf', 'datatype': 'pdf'}, {'source': 'data/PMarcaBlogs.pdf', 'datatype': 'pdf'}, {'source': 'data/PMarcaBlogs.pdf', 'datatype': 'pdf'}, {'source': 'data/PMarcaBlogs.pdf', 'datatype': 'pdf'}, {'source': 'data/PMarcaBlogs.pdf', 'datatype': 'pdf'}, {'source': 'data/PMarcaBlogs.pdf', 'datatype': 'pdf'}, {'source': 'data/PMarcaBlogs.pdf', 'datatype': 'pdf'}, {'source': 'data/PMarcaBlogs.pdf', 'datatype': 'pdf'}, {'source': 'data/PMarcaBlogs.pdf', 'datatype': 'pdf'}, {'source': 'data/PMarcaBlogs.pdf', 'datatype': 'pdf'}, {'source': 'data/PMarcaBlogs.pdf', 'datatype': 'pdf'}, {'source': 'data/PMarcaBlogs.pdf', 'datatype': 'pdf'}, {'source': 'data/PMarcaBlogs.pdf', 'datatype': 'pdf'}, {'source': 'data/PMarcaBlogs.pdf', 'datatype': 'pdf'}, {'source': 'data/PMarcaBlogs.pdf', 'datatype': 'pdf'}, {'source': 'data/PMarcaBlogs.pdf', 'datatype': 'pdf'}, {'source': 'data/PMarcaBlogs.pdf', 'datatype': 'pdf'}, {'source': 'data/PMarcaBlogs.pdf', 'datatype': 'pdf'}, {'source': 'data/PMarcaBlogs.pdf', 'datatype': 'pdf'}, {'source': 'data/PMarcaBlogs.pdf', 'datatype': 'pdf'}, {'source': 'data/PMarcaBlogs.pdf', 'datatype': 'pdf'}, {'source': 'data/PMarcaBlogs.pdf', 'datatype': 'pdf'}, {'source': 'data/PMarcaBlogs.pdf', 'datatype': 'pdf'}, {'source': 'data/PMarcaBlogs.pdf', 'datatype': 'pdf'}, {'source': 'data/PMarcaBlogs.pdf', 'datatype': 'pdf'}, {'source': 'data/PMarcaBlogs.pdf', 'datatype': 'pdf'}, {'source': 'data/PMarcaBlogs.pdf', 'datatype': 'pdf'}, {'source': 'data/PMarcaBlogs.pdf', 'datatype': 'pdf'}, {'source': 'data/PMarcaBlogs.pdf', 'datatype': 'pdf'}, {'source': 'data/PMarcaBlogs.pdf', 'datatype': 'pdf'}, {'source': 'data/PMarcaBlogs.pdf', 'datatype': 'pdf'}, {'source': 'data/PMarcaBlogs.pdf', 'datatype': 'pdf'}, {'source': 'data/PMarcaBlogs.pdf', 'datatype': 'pdf'}, {'source': 'data/PMarcaBlogs.pdf', 'datatype': 'pdf'}, {'source': 'data/PMarcaBlogs.pdf', 'datatype': 'pdf'}, {'source': 'data/PMarcaBlogs.pdf', 'datatype': 'pdf'}, {'source': 'data/PMarcaBlogs.pdf', 'datatype': 'pdf'}, {'source': 'data/PMarcaBlogs.pdf', 'datatype': 'pdf'}, {'source': 'data/PMarcaBlogs.pdf', 'datatype': 'pdf'}, {'source': 'data/PMarcaBlogs.pdf', 'datatype': 'pdf'}, {'source': 'data/PMarcaBlogs.pdf', 'datatype': 'pdf'}, {'source': 'data/PMarcaBlogs.pdf', 'datatype': 'pdf'}, {'source': 'data/PMarcaBlogs.pdf', 'datatype': 'pdf'}, {'source': 'data/PMarcaBlogs.pdf', 'datatype': 'pdf'}, {'source': 'data/PMarcaBlogs.pdf', 'datatype': 'pdf'}, {'source': 'data/PMarcaBlogs.pdf', 'datatype': 'pdf'}, {'source': 'data/PMarcaBlogs.pdf', 'datatype': 'pdf'}, {'source': 'data/PMarcaBlogs.pdf', 'datatype': 'pdf'}, {'source': 'data/PMarcaBlogs.pdf', 'datatype': 'pdf'}, {'source': 'data/PMarcaBlogs.pdf', 'datatype': 'pdf'}, {'source': 'data/PMarcaBlogs.pdf', 'datatype': 'pdf'}, {'source': 'data/PMarcaBlogs.pdf', 'datatype': 'pdf'}, {'source': 'data/PMarcaBlogs.pdf', 'datatype': 'pdf'}, {'source': 'data/PMarcaBlogs.pdf', 'datatype': 'pdf'}, {'source': 'data/PMarcaBlogs.pdf', 'datatype': 'pdf'}, {'source': 'data/PMarcaBlogs.pdf', 'datatype': 'pdf'}, {'source': 'data/PMarcaBlogs.pdf', 'datatype': 'pdf'}, {'source': 'data/PMarcaBlogs.pdf', 'datatype': 'pdf'}, {'source': 'data/PMarcaBlogs.pdf', 'datatype': 'pdf'}, {'source': 'data/PMarcaBlogs.pdf', 'datatype': 'pdf'}, {'source': 'data/PMarcaBlogs.pdf', 'datatype': 'pdf'}, {'source': 'data/PMarcaBlogs.pdf', 'datatype': 'pdf'}, {'source': 'data/PMarcaBlogs.pdf', 'datatype': 'pdf'}, {'source': 'data/PMarcaBlogs.pdf', 'datatype': 'pdf'}, {'source': 'data/PMarcaBlogs.pdf', 'datatype': 'pdf'}, {'source': 'data/PMarcaBlogs.pdf', 'datatype': 'pdf'}, {'source': 'data/PMarcaBlogs.pdf', 'datatype': 'pdf'}, {'source': 'data/PMarcaBlogs.pdf', 'datatype': 'pdf'}, {'source': 'data/PMarcaBlogs.pdf', 'datatype': 'pdf'}, {'source': 'data/PMarcaBlogs.pdf', 'datatype': 'pdf'}, {'source': 'data/PMarcaBlogs.pdf', 'datatype': 'pdf'}, {'source': 'data/PMarcaBlogs.pdf', 'datatype': 'pdf'}, {'source': 'data/PMarcaBlogs.pdf', 'datatype': 'pdf'}, {'source': 'data/PMarcaBlogs.pdf', 'datatype': 'pdf'}, {'source': 'data/PMarcaBlogs.pdf', 'datatype': 'pdf'}, {'source': 'data/PMarcaBlogs.pdf', 'datatype': 'pdf'}, {'source': 'data/PMarcaBlogs.pdf', 'datatype': 'pdf'}, {'source': 'data/PMarcaBlogs.pdf', 'datatype': 'pdf'}, {'source': 'data/PMarcaBlogs.pdf', 'datatype': 'pdf'}, {'source': 'data/PMarcaBlogs.pdf', 'datatype': 'pdf'}, {'source': 'data/PMarcaBlogs.pdf', 'datatype': 'pdf'}, {'source': 'data/PMarcaBlogs.pdf', 'datatype': 'pdf'}, {'source': 'data/PMarcaBlogs.pdf', 'datatype': 'pdf'}, {'source': 'data/PMarcaBlogs.pdf', 'datatype': 'pdf'}, {'source': 'data/PMarcaBlogs.pdf', 'datatype': 'pdf'}, {'source': 'data/PMarcaBlogs.pdf', 'datatype': 'pdf'}, {'source': 'data/PMarcaBlogs.pdf', 'datatype': 'pdf'}, {'source': 'data/PMarcaBlogs.pdf', 'datatype': 'pdf'}, {'source': 'data/PMarcaBlogs.pdf', 'datatype': 'pdf'}, {'source': 'data/PMarcaBlogs.pdf', 'datatype': 'pdf'}, {'source': 'data/PMarcaBlogs.pdf', 'datatype': 'pdf'}, {'source': 'data/PMarcaBlogs.pdf', 'datatype': 'pdf'}, {'source': 'data/PMarcaBlogs.pdf', 'datatype': 'pdf'}, {'source': 'data/PMarcaBlogs.pdf', 'datatype': 'pdf'}, {'source': 'data/PMarcaBlogs.pdf', 'datatype': 'pdf'}, {'source': 'data/PMarcaBlogs.pdf', 'datatype': 'pdf'}, {'source': 'data/PMarcaBlogs.pdf', 'datatype': 'pdf'}, {'source': 'data/PMarcaBlogs.pdf', 'datatype': 'pdf'}, {'source': 'data/PMarcaBlogs.pdf', 'datatype': 'pdf'}, {'source': 'data/PMarcaBlogs.pdf', 'datatype': 'pdf'}, {'source': 'data/PMarcaBlogs.pdf', 'datatype': 'pdf'}, {'source': 'data/PMarcaBlogs.pdf', 'datatype': 'pdf'}, {'source': 'data/PMarcaBlogs.pdf', 'datatype': 'pdf'}, {'source': 'data/PMarcaBlogs.pdf', 'datatype': 'pdf'}, {'source': 'data/PMarcaBlogs.pdf', 'datatype': 'pdf'}, {'source': 'data/PMarcaBlogs.pdf', 'datatype': 'pdf'}, {'source': 'data/PMarcaBlogs.pdf', 'datatype': 'pdf'}, {'source': 'data/PMarcaBlogs.pdf', 'datatype': 'pdf'}, {'source': 'data/PMarcaBlogs.pdf', 'datatype': 'pdf'}, {'source': 'data/PMarcaBlogs.pdf', 'datatype': 'pdf'}, {'source': 'data/PMarcaBlogs.pdf', 'datatype': 'pdf'}, {'source': 'data/PMarcaBlogs.pdf', 'datatype': 'pdf'}, {'source': 'data/PMarcaBlogs.pdf', 'datatype': 'pdf'}, {'source': 'data/PMarcaBlogs.pdf', 'datatype': 'pdf'}, {'source': 'data/PMarcaBlogs.pdf', 'datatype': 'pdf'}, {'source': 'data/PMarcaBlogs.pdf', 'datatype': 'pdf'}, {'source': 'data/PMarcaBlogs.pdf', 'datatype': 'pdf'}, {'source': 'data/PMarcaBlogs.pdf', 'datatype': 'pdf'}, {'source': 'data/PMarcaBlogs.pdf', 'datatype': 'pdf'}, {'source': 'data/PMarcaBlogs.pdf', 'datatype': 'pdf'}, {'source': 'data/PMarcaBlogs.pdf', 'datatype': 'pdf'}, {'source': 'data/PMarcaBlogs.pdf', 'datatype': 'pdf'}, {'source': 'data/PMarcaBlogs.pdf', 'datatype': 'pdf'}, {'source': 'data/PMarcaBlogs.pdf', 'datatype': 'pdf'}, {'source': 'data/PMarcaBlogs.pdf', 'datatype': 'pdf'}, {'source': 'data/PMarcaBlogs.pdf', 'datatype': 'pdf'}, {'source': 'data/PMarcaBlogs.pdf', 'datatype': 'pdf'}, {'source': 'data/PMarcaBlogs.pdf', 'datatype': 'pdf'}, {'source': 'data/PMarcaBlogs.pdf', 'datatype': 'pdf'}, {'source': 'data/PMarcaBlogs.pdf', 'datatype': 'pdf'}, {'source': 'data/PMarcaBlogs.pdf', 'datatype': 'pdf'}, {'source': 'data/PMarcaBlogs.pdf', 'datatype': 'pdf'}, {'source': 'data/PMarcaBlogs.pdf', 'datatype': 'pdf'}, {'source': 'data/PMarcaBlogs.pdf', 'datatype': 'pdf'}, {'source': 'data/PMarcaBlogs.pdf', 'datatype': 'pdf'}, {'source': 'data/PMarcaBlogs.pdf', 'datatype': 'pdf'}, {'source': 'data/PMarcaBlogs.pdf', 'datatype': 'pdf'}, {'source': 'data/PMarcaBlogs.pdf', 'datatype': 'pdf'}, {'source': 'data/PMarcaBlogs.pdf', 'datatype': 'pdf'}, {'source': 'data/PMarcaBlogs.pdf', 'datatype': 'pdf'}, {'source': 'data/PMarcaBlogs.pdf', 'datatype': 'pdf'}, {'source': 'data/PMarcaBlogs.pdf', 'datatype': 'pdf'}, {'source': 'data/PMarcaBlogs.pdf', 'datatype': 'pdf'}, {'source': 'data/PMarcaBlogs.pdf', 'datatype': 'pdf'}, {'source': 'data/PMarcaBlogs.pdf', 'datatype': 'pdf'}, {'source': 'data/PMarcaBlogs.pdf', 'datatype': 'pdf'}, {'source': 'data/PMarcaBlogs.pdf', 'datatype': 'pdf'}, {'source': 'data/PMarcaBlogs.pdf', 'datatype': 'pdf'}, {'source': 'data/PMarcaBlogs.pdf', 'datatype': 'pdf'}, {'source': 'data/PMarcaBlogs.pdf', 'datatype': 'pdf'}, {'source': 'data/PMarcaBlogs.pdf', 'datatype': 'pdf'}, {'source': 'data/PMarcaBlogs.pdf', 'datatype': 'pdf'}, {'source': 'data/PMarcaBlogs.pdf', 'datatype': 'pdf'}, {'source': 'data/PMarcaBlogs.pdf', 'datatype': 'pdf'}, {'source': 'data/PMarcaBlogs.pdf', 'datatype': 'pdf'}, {'source': 'data/PMarcaBlogs.pdf', 'datatype': 'pdf'}, {'source': 'data/PMarcaBlogs.pdf', 'datatype': 'pdf'}, {'source': 'data/PMarcaBlogs.pdf', 'datatype': 'pdf'}, {'source': 'data/PMarcaBlogs.pdf', 'datatype': 'pdf'}, {'source': 'data/PMarcaBlogs.pdf', 'datatype': 'pdf'}, {'source': 'data/PMarcaBlogs.pdf', 'datatype': 'pdf'}, {'source': 'data/PMarcaBlogs.pdf', 'datatype': 'pdf'}, {'source': 'data/PMarcaBlogs.pdf', 'datatype': 'pdf'}, {'source': 'data/PMarcaBlogs.pdf', 'datatype': 'pdf'}, {'source': 'data/PMarcaBlogs.pdf', 'datatype': 'pdf'}, {'source': 'data/PMarcaBlogs.pdf', 'datatype': 'pdf'}, {'source': 'data/PMarcaBlogs.pdf', 'datatype': 'pdf'}, {'source': 'data/PMarcaBlogs.pdf', 'datatype': 'pdf'}, {'source': 'data/PMarcaBlogs.pdf', 'datatype': 'pdf'}, {'source': 'data/PMarcaBlogs.pdf', 'datatype': 'pdf'}, {'source': 'data/PMarcaBlogs.pdf', 'datatype': 'pdf'}, {'source': 'data/PMarcaBlogs.pdf', 'datatype': 'pdf'}, {'source': 'data/PMarcaBlogs.pdf', 'datatype': 'pdf'}, {'source': 'data/PMarcaBlogs.pdf', 'datatype': 'pdf'}, {'source': 'data/PMarcaBlogs.pdf', 'datatype': 'pdf'}, {'source': 'data/PMarcaBlogs.pdf', 'datatype': 'pdf'}, {'source': 'data/PMarcaBlogs.pdf', 'datatype': 'pdf'}, {'source': 'data/PMarcaBlogs.pdf', 'datatype': 'pdf'}, {'source': 'data/PMarcaBlogs.pdf', 'datatype': 'pdf'}, {'source': 'data/PMarcaBlogs.pdf', 'datatype': 'pdf'}, {'source': 'data/PMarcaBlogs.pdf', 'datatype': 'pdf'}, {'source': 'data/PMarcaBlogs.pdf', 'datatype': 'pdf'}, {'source': 'data/PMarcaBlogs.pdf', 'datatype': 'pdf'}, {'source': 'data/PMarcaBlogs.pdf', 'datatype': 'pdf'}, {'source': 'data/PMarcaBlogs.pdf', 'datatype': 'pdf'}, {'source': 'data/PMarcaBlogs.pdf', 'datatype': 'pdf'}, {'source': 'data/PMarcaBlogs.pdf', 'datatype': 'pdf'}, {'source': 'data/PMarcaBlogs.pdf', 'datatype': 'pdf'}, {'source': 'data/PMarcaBlogs.pdf', 'datatype': 'pdf'}, {'source': 'data/PMarcaBlogs.pdf', 'datatype': 'pdf'}, {'source': 'data/PMarcaBlogs.pdf', 'datatype': 'pdf'}, {'source': 'data/PMarcaBlogs.pdf', 'datatype': 'pdf'}, {'source': 'data/PMarcaBlogs.pdf', 'datatype': 'pdf'}, {'source': 'data/PMarcaBlogs.pdf', 'datatype': 'pdf'}, {'source': 'data/PMarcaBlogs.pdf', 'datatype': 'pdf'}, {'source': 'data/PMarcaBlogs.pdf', 'datatype': 'pdf'}, {'source': 'data/PMarcaBlogs.pdf', 'datatype': 'pdf'}, {'source': 'data/PMarcaBlogs.pdf', 'datatype': 'pdf'}, {'source': 'data/PMarcaBlogs.pdf', 'datatype': 'pdf'}, {'source': 'data/PMarcaBlogs.pdf', 'datatype': 'pdf'}, {'source': 'data/PMarcaBlogs.pdf', 'datatype': 'pdf'}, {'source': 'data/PMarcaBlogs.pdf', 'datatype': 'pdf'}, {'source': 'data/PMarcaBlogs.pdf', 'datatype': 'pdf'}, {'source': 'data/PMarcaBlogs.pdf', 'datatype': 'pdf'}, {'source': 'data/PMarcaBlogs.pdf', 'datatype': 'pdf'}, {'source': 'data/PMarcaBlogs.pdf', 'datatype': 'pdf'}, {'source': 'data/PMarcaBlogs.pdf', 'datatype': 'pdf'}, {'source': 'data/PMarcaBlogs.pdf', 'datatype': 'pdf'}, {'source': 'data/PMarcaBlogs.pdf', 'datatype': 'pdf'}, {'source': 'data/PMarcaBlogs.pdf', 'datatype': 'pdf'}, {'source': 'data/PMarcaBlogs.pdf', 'datatype': 'pdf'}, {'source': 'data/PMarcaBlogs.pdf', 'datatype': 'pdf'}, {'source': 'data/PMarcaBlogs.pdf', 'datatype': 'pdf'}, {'source': 'data/PMarcaBlogs.pdf', 'datatype': 'pdf'}, {'source': 'data/PMarcaBlogs.pdf', 'datatype': 'pdf'}, {'source': 'data/PMarcaBlogs.pdf', 'datatype': 'pdf'}, {'source': 'data/PMarcaBlogs.pdf', 'datatype': 'pdf'}, {'source': 'data/PMarcaBlogs.pdf', 'datatype': 'pdf'}, {'source': 'data/PMarcaBlogs.pdf', 'datatype': 'pdf'}, {'source': 'data/PMarcaBlogs.pdf', 'datatype': 'pdf'}, {'source': 'data/PMarcaBlogs.pdf', 'datatype': 'pdf'}, {'source': 'data/PMarcaBlogs.pdf', 'datatype': 'pdf'}]\n"
          ]
        }
      ],
      "source": [
        "\n",
        "documents_text = [d.get_content() for d in pdf_documents]\n",
        "\n",
        "text_splitter = CharacterTextSplitter()\n",
        "split_documents = text_splitter.split_texts(documents_text)\n",
        "\n",
        "nest_asyncio.apply()\n",
        "vector_db = VectorDatabase()\n",
        "\n",
        "context_list = [{'source': 'data/PMarcaBlogs.pdf', 'datatype': 'pdf'}] * len(split_documents)\n",
        "print(context_list)\n",
        "\n",
        "vector_db = asyncio.run(vector_db.abuild_from_list(split_documents, list_of_context=context_list))"
      ]
    },
    {
      "cell_type": "code",
      "execution_count": 82,
      "metadata": {},
      "outputs": [
        {
          "data": {
            "text/plain": [
              "[('he “Michael Eisner Memorial Weak Executive Problem” — after the CEO of Disney who had previously been a brilliant TV network executive. When he bought ABC at Disney, it promptly fell to fourth place. His response? “If I had an extra two days a week, I could turn around ABC myself.” Well, guess what, he didn’t have an extra two days a week.\\n\\nA CEO — or a startup founder — often has a hard time letting go of the function that brought him to the party. The result: you hire someone weak into the executive role for that function so that you can continue to be “the man” — consciously or subconsciously. Don’t let it happen to you — make sure the person you hire into that role is way better than you used to be.\\n\\nEighth, recognize that hiring an executive is a high-risk proposition.\\n\\nYou often see a startup with a screwed up development process, but “when we get our VP of Engineering onboard, everything will get fixed”. Or a startup that is missing its revenue targets, but “when we get our VP o',\n",
              "  0.6956705219021752,\n",
              "  {'source': 'data/PMarcaBlogs.pdf', 'datatype': 'pdf'}),\n",
              " ('d most likely not have a job for the startup executive in any of those functions. But this is not reasonable, in my view, for core functions such as engineering, product management, marketing, or sales. You don’t want your key executives focused on selling the company — unless of course you want them focused on selling the company. Make your acceleration decisions accordingly.\\n\\nSeventh, when hiring the executive to run your former specialty, be careful you don’t hire someone weak on purpose.\\n\\nThis sounds silly, but you wouldn’t believe how often it happens. The CEO who used to be a product manager who has a weak product management executive. The CEO who used to be in sales who has a weak sales executive. The CEO who used to be in marketing who has a weak marketing executive.\\n\\nI call this the “Michael Eisner Memorial Weak Executive Problem” — after the CEO of Disney who had previously been a brilliant TV network executive. When he bought ABC at Disney, it promptly fell to fourth place. ',\n",
              "  0.5839804911502648,\n",
              "  {'source': 'data/PMarcaBlogs.pdf', 'datatype': 'pdf'}),\n",
              " ('ody has severe weaknesses even if you can’t see them yet. When managing, it’s often useful to micromanage and to provide remedial training around these weaknesses. Doing so may make the difference between an executive succeeding or failing.\\n\\nFor example, you might have a brilliant engineering executive who generates excellent team loyalty, has terrific product judgment and makes the trains run on time. This same executive may be very poor at relating to the other functions in the company. She may generate far more than her share of cross-functional conflicts, cut herself off from critical information, and significantly impede your ability to sell and market effectively.\\n\\nYour alternatives are:\\n\\n- (a) Macro-manage and give her an annual or quarterly objective to fix it, or…\\n- (b) Intensively micromanage her interactions until she learns the fundamental interpersonal skills required to be an effective executive.\\n\\nI am arguing that doing (a) will likely result in weak performance. The rea',\n",
              "  0.507192453737241,\n",
              "  {'source': 'data/PMarcaBlogs.pdf', 'datatype': 'pdf'})]"
            ]
          },
          "execution_count": 82,
          "metadata": {},
          "output_type": "execute_result"
        }
      ],
      "source": [
        "vector_db.search_by_text(\"What is the Michael Eisner Memorial Weak Executive Problem?\", k=3)"
      ]
    },
    {
      "cell_type": "code",
      "execution_count": 65,
      "metadata": {},
      "outputs": [
        {
          "data": {
            "text/html": [
              "Tracking run with wandb version 0.17.0"
            ],
            "text/plain": [
              "<IPython.core.display.HTML object>"
            ]
          },
          "metadata": {},
          "output_type": "display_data"
        },
        {
          "data": {
            "text/html": [
              "Run data is saved locally in <code>/Users/jiezhou/code/ai-maker/AIE3/Week 2/Day 1/wandb/run-20240605_162023-9a9qe6xc</code>"
            ],
            "text/plain": [
              "<IPython.core.display.HTML object>"
            ]
          },
          "metadata": {},
          "output_type": "display_data"
        },
        {
          "data": {
            "text/html": [
              "Syncing run <strong><a href='https://wandb.ai/jzunit/Visibility%20Example%20-%20AIE3/runs/9a9qe6xc' target=\"_blank\">misty-vortex-2</a></strong> to <a href='https://wandb.ai/jzunit/Visibility%20Example%20-%20AIE3' target=\"_blank\">Weights & Biases</a> (<a href='https://wandb.me/run' target=\"_blank\">docs</a>)<br/>"
            ],
            "text/plain": [
              "<IPython.core.display.HTML object>"
            ]
          },
          "metadata": {},
          "output_type": "display_data"
        },
        {
          "data": {
            "text/html": [
              " View project at <a href='https://wandb.ai/jzunit/Visibility%20Example%20-%20AIE3' target=\"_blank\">https://wandb.ai/jzunit/Visibility%20Example%20-%20AIE3</a>"
            ],
            "text/plain": [
              "<IPython.core.display.HTML object>"
            ]
          },
          "metadata": {},
          "output_type": "display_data"
        },
        {
          "data": {
            "text/html": [
              " View run at <a href='https://wandb.ai/jzunit/Visibility%20Example%20-%20AIE3/runs/9a9qe6xc' target=\"_blank\">https://wandb.ai/jzunit/Visibility%20Example%20-%20AIE3/runs/9a9qe6xc</a>"
            ],
            "text/plain": [
              "<IPython.core.display.HTML object>"
            ]
          },
          "metadata": {},
          "output_type": "display_data"
        },
        {
          "data": {
            "text/plain": [
              "{'response': \"I don't know.\",\n",
              " 'context': [(' open-mouthed, raising the waves on all sides, and beating the sea before him into a foam.”\\n\\n— Tooke’s Lucian, “The True History”\\n\\nWhen Captain Ahab went in search of the great white whale Moby Dick, he had absolutely no idea whether he would find Moby Dick, whether Moby Dick would allow himself to be found, whether Moby Dick would try to immediately capsize the ship or instead play cat and mouse, or whether Moby Dick was off mating with his giant whale girlfriend.\\n\\nWhat happened was entirely up to Moby Dick.\\n\\nAnd Captain Ahab would never be able explain to himself or anyone else why Moby Dick would do whatever it was he’d do.\\n\\nYou’re Captain Ahab, and the big company is Moby Dick.\\n\\n“Clap eye on Captain Ahab, young man, and thou wilt find that he has only one leg.”\\n\\n“What do you mean, sir? Was the other one lost by a whale?”\\n\\n“Lost by a whale! Young man, come nearer to me: it was devoured, chewed up, crunched by the monstrousest parmacetty that ever chipped a boat! — ah, ah!”\\n\\n— Moby D',\n",
              "   0.17200330500584354),\n",
              "  ('rely counterproductive for a prey animal that is threatened by a predator is to take a long time in deciding what to do...\\n\\nSo pronounced is the tendency in man to quickly remove doubt by reaching some decision that behavior to counter the tendency is required from judges and jurors. Here, delay before decision making is forced. And one is required to so comport himself, prior to conclusion time, so that he is wearing a \"mask\" of objectivity. And the \"mask\" works to help real objectivity along, as we shall see when we next consider man\\'s Inconsistency-Avoidance Tendency...\\n\\nWhat triggers Doubt-Avoidance Tendency? Well, an unthreatened man, thinking of nothing in particular, is not being prompted to remove doubt through rushing to some decision. As we shall see later when we get to Social-Proof Tendency and Stress-Influence Tendency, what usually triggers Doubt-Avoidance Tendency is some combination of (1) puzzlement and (2) stress.\\n\\nThis is probably a good one for entrepreneurs. You\\'d ',\n",
              "   0.17059934186467138),\n",
              "  (\"n.\\n\\nThe Atrocity Archives and The Jennifer Morgue, in contrast, are highly entertaining shaggy dog stories about an IT guy named Bob who gets drawn into mankind’s fight against forces of evil from another dimension — James Bond meets Call of Cthulhu meets The Office.\\n\\nFinally, Stross is also an active blogger with, let’s say, strong points of view.\\n\\nRichard Morgan\\n\\nMorgan writes outstanding, page-turning, highly inventive military- and detective-flavored hard science fiction set in turbulent worlds where hard men are faced with hard challenges.\\n\\nAltered Carbon is definitely the place to start, Morgan’s first and perhaps most inventive novel, Robert Heinlein meets Raymond Chandler — and first of a trio.\\n---\\n# Top 10 Science Fiction Novelists of the '00s ... so far (June 2007)\\n\\nBroken Angels is a strong follow-up that tilts more towards military fiction while still occupying the same universe.\\n\\nWoken Furies completes the trilogy with more hard-boiled action featuring a protagonist who ha\",\n",
              "   0.15583731227757536),\n",
              "  ('k is the Polity series — Gridlinked, The Line of Polity, Brass Man, and Polity Agent. The extended story of an enigmatic agent for the all-powerful artificial intelligences who rule the whole of human space, the Polity, these novels blend Ian Fleming with large-scale military combat, advanced theoretical xenobiology, nanotechnology gone badly wrong, and war drones with bad attitudes. Most definitely entertaining.\\n\\nFollow those up with The Skinner and The Voyage of the Sable Keech, and then the delectable standalone novella Prador Moon. One of the most distinctively imagined “bad bug” alien races, one of the most creative and lethal new worlds, and a historical scandal of horrific proportions combine in a whirlwind of violence and battle.\\n---\\n# The Pmarca Blog Archives\\n\\nAsher is blogging as well!\\n\\n# Chris Moriarty\\n\\nGibson meets Heinlein (can you tell I was a Heinlein fan growing up?) in a melange of science fiction themes, most particularly artificial intelligence, filtered through a di',\n",
              "   0.15399978327493058)]}"
            ]
          },
          "execution_count": 65,
          "metadata": {},
          "output_type": "execute_result"
        }
      ],
      "source": [
        "import wandb\n",
        "\n",
        "wandb.init(project=\"Visibility Example - AIE3\")\n",
        "\n",
        "\n",
        "retrieval_augmented_qa_pipeline = RetrievalAugmentedGenerationPipeline(\n",
        "    vector_db_retriever=vector_db,\n",
        "    llm=chat_openai,\n",
        "    wandb_project=\"LLM Visibility Example\"\n",
        ")\n",
        "\n",
        "retrieval_augmented_qa_pipeline.run_pipeline(\"What is the 'Michael Eisner Memorial Weak Executive Problem'?\")\n",
        "retrieval_augmented_qa_pipeline.run_pipeline(\"Who is Batman?\")"
      ]
    }
  ],
  "metadata": {
    "colab": {
      "provenance": []
    },
    "kernelspec": {
      "display_name": "buildyourownlangchain",
      "language": "python",
      "name": "python3"
    },
    "language_info": {
      "codemirror_mode": {
        "name": "ipython",
        "version": 3
      },
      "file_extension": ".py",
      "mimetype": "text/x-python",
      "name": "python",
      "nbconvert_exporter": "python",
      "pygments_lexer": "ipython3",
      "version": "3.11.9"
    },
    "orig_nbformat": 4,
    "widgets": {
      "application/vnd.jupyter.widget-state+json": {
        "1ce393d9afcf427d9d352259c5d32678": {
          "model_module": "@jupyter-widgets/controls",
          "model_module_version": "1.5.0",
          "model_name": "FloatProgressModel",
          "state": {
            "_dom_classes": [],
            "_model_module": "@jupyter-widgets/controls",
            "_model_module_version": "1.5.0",
            "_model_name": "FloatProgressModel",
            "_view_count": null,
            "_view_module": "@jupyter-widgets/controls",
            "_view_module_version": "1.5.0",
            "_view_name": "ProgressView",
            "bar_style": "",
            "description": "",
            "description_tooltip": null,
            "layout": "IPY_MODEL_4e6efd99f7d346e485b002fb0fa85cc7",
            "max": 1,
            "min": 0,
            "orientation": "horizontal",
            "style": "IPY_MODEL_3dfb67c39958461da6071e4c19c3fa41",
            "value": 1
          }
        },
        "3a4ba348cb004f8ab7b2b1395539c81b": {
          "model_module": "@jupyter-widgets/controls",
          "model_module_version": "1.5.0",
          "model_name": "LabelModel",
          "state": {
            "_dom_classes": [],
            "_model_module": "@jupyter-widgets/controls",
            "_model_module_version": "1.5.0",
            "_model_name": "LabelModel",
            "_view_count": null,
            "_view_module": "@jupyter-widgets/controls",
            "_view_module_version": "1.5.0",
            "_view_name": "LabelView",
            "description": "",
            "description_tooltip": null,
            "layout": "IPY_MODEL_d2ea5009dd16442cb5d8a0ac468e50a8",
            "placeholder": "​",
            "style": "IPY_MODEL_5f00135fe1044051a50ee5e841cbb8e3",
            "value": "0.018 MB of 0.018 MB uploaded\r"
          }
        },
        "3dfb67c39958461da6071e4c19c3fa41": {
          "model_module": "@jupyter-widgets/controls",
          "model_module_version": "1.5.0",
          "model_name": "ProgressStyleModel",
          "state": {
            "_model_module": "@jupyter-widgets/controls",
            "_model_module_version": "1.5.0",
            "_model_name": "ProgressStyleModel",
            "_view_count": null,
            "_view_module": "@jupyter-widgets/base",
            "_view_module_version": "1.2.0",
            "_view_name": "StyleView",
            "bar_color": null,
            "description_width": ""
          }
        },
        "4e6efd99f7d346e485b002fb0fa85cc7": {
          "model_module": "@jupyter-widgets/base",
          "model_module_version": "1.2.0",
          "model_name": "LayoutModel",
          "state": {
            "_model_module": "@jupyter-widgets/base",
            "_model_module_version": "1.2.0",
            "_model_name": "LayoutModel",
            "_view_count": null,
            "_view_module": "@jupyter-widgets/base",
            "_view_module_version": "1.2.0",
            "_view_name": "LayoutView",
            "align_content": null,
            "align_items": null,
            "align_self": null,
            "border": null,
            "bottom": null,
            "display": null,
            "flex": null,
            "flex_flow": null,
            "grid_area": null,
            "grid_auto_columns": null,
            "grid_auto_flow": null,
            "grid_auto_rows": null,
            "grid_column": null,
            "grid_gap": null,
            "grid_row": null,
            "grid_template_areas": null,
            "grid_template_columns": null,
            "grid_template_rows": null,
            "height": null,
            "justify_content": null,
            "justify_items": null,
            "left": null,
            "margin": null,
            "max_height": null,
            "max_width": null,
            "min_height": null,
            "min_width": null,
            "object_fit": null,
            "object_position": null,
            "order": null,
            "overflow": null,
            "overflow_x": null,
            "overflow_y": null,
            "padding": null,
            "right": null,
            "top": null,
            "visibility": null,
            "width": null
          }
        },
        "56a8e24025594e5e9ff3b8581c344691": {
          "model_module": "@jupyter-widgets/base",
          "model_module_version": "1.2.0",
          "model_name": "LayoutModel",
          "state": {
            "_model_module": "@jupyter-widgets/base",
            "_model_module_version": "1.2.0",
            "_model_name": "LayoutModel",
            "_view_count": null,
            "_view_module": "@jupyter-widgets/base",
            "_view_module_version": "1.2.0",
            "_view_name": "LayoutView",
            "align_content": null,
            "align_items": null,
            "align_self": null,
            "border": null,
            "bottom": null,
            "display": null,
            "flex": null,
            "flex_flow": null,
            "grid_area": null,
            "grid_auto_columns": null,
            "grid_auto_flow": null,
            "grid_auto_rows": null,
            "grid_column": null,
            "grid_gap": null,
            "grid_row": null,
            "grid_template_areas": null,
            "grid_template_columns": null,
            "grid_template_rows": null,
            "height": null,
            "justify_content": null,
            "justify_items": null,
            "left": null,
            "margin": null,
            "max_height": null,
            "max_width": null,
            "min_height": null,
            "min_width": null,
            "object_fit": null,
            "object_position": null,
            "order": null,
            "overflow": null,
            "overflow_x": null,
            "overflow_y": null,
            "padding": null,
            "right": null,
            "top": null,
            "visibility": null,
            "width": null
          }
        },
        "5f00135fe1044051a50ee5e841cbb8e3": {
          "model_module": "@jupyter-widgets/controls",
          "model_module_version": "1.5.0",
          "model_name": "DescriptionStyleModel",
          "state": {
            "_model_module": "@jupyter-widgets/controls",
            "_model_module_version": "1.5.0",
            "_model_name": "DescriptionStyleModel",
            "_view_count": null,
            "_view_module": "@jupyter-widgets/base",
            "_view_module_version": "1.2.0",
            "_view_name": "StyleView",
            "description_width": ""
          }
        },
        "bb904e05ece143c79ecc4f20de482f45": {
          "model_module": "@jupyter-widgets/controls",
          "model_module_version": "1.5.0",
          "model_name": "VBoxModel",
          "state": {
            "_dom_classes": [],
            "_model_module": "@jupyter-widgets/controls",
            "_model_module_version": "1.5.0",
            "_model_name": "VBoxModel",
            "_view_count": null,
            "_view_module": "@jupyter-widgets/controls",
            "_view_module_version": "1.5.0",
            "_view_name": "VBoxView",
            "box_style": "",
            "children": [
              "IPY_MODEL_3a4ba348cb004f8ab7b2b1395539c81b",
              "IPY_MODEL_1ce393d9afcf427d9d352259c5d32678"
            ],
            "layout": "IPY_MODEL_56a8e24025594e5e9ff3b8581c344691"
          }
        },
        "d2ea5009dd16442cb5d8a0ac468e50a8": {
          "model_module": "@jupyter-widgets/base",
          "model_module_version": "1.2.0",
          "model_name": "LayoutModel",
          "state": {
            "_model_module": "@jupyter-widgets/base",
            "_model_module_version": "1.2.0",
            "_model_name": "LayoutModel",
            "_view_count": null,
            "_view_module": "@jupyter-widgets/base",
            "_view_module_version": "1.2.0",
            "_view_name": "LayoutView",
            "align_content": null,
            "align_items": null,
            "align_self": null,
            "border": null,
            "bottom": null,
            "display": null,
            "flex": null,
            "flex_flow": null,
            "grid_area": null,
            "grid_auto_columns": null,
            "grid_auto_flow": null,
            "grid_auto_rows": null,
            "grid_column": null,
            "grid_gap": null,
            "grid_row": null,
            "grid_template_areas": null,
            "grid_template_columns": null,
            "grid_template_rows": null,
            "height": null,
            "justify_content": null,
            "justify_items": null,
            "left": null,
            "margin": null,
            "max_height": null,
            "max_width": null,
            "min_height": null,
            "min_width": null,
            "object_fit": null,
            "object_position": null,
            "order": null,
            "overflow": null,
            "overflow_x": null,
            "overflow_y": null,
            "padding": null,
            "right": null,
            "top": null,
            "visibility": null,
            "width": null
          }
        }
      }
    }
  },
  "nbformat": 4,
  "nbformat_minor": 0
}
